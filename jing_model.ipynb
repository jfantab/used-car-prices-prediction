{
 "cells": [
  {
   "cell_type": "markdown",
   "metadata": {},
   "source": [
    "# Project: Used Car Price Prediction using Linear Regression \n",
    "       \n",
    "The goal of this project is to predict the used car price based on various features.\n",
    "Dataset to downloaded from the below link:\n",
    "https://www.kaggle.com/datasets/ananaymital/us-used-cars-dataset"
   ]
  },
  {
   "cell_type": "code",
   "execution_count": 1,
   "metadata": {},
   "outputs": [],
   "source": [
    "import time\n",
    "import numpy as np\n",
    "import pandas as pd\n",
    "from sklearn.model_selection import train_test_split\n",
    "from sklearn.pipeline import Pipeline\n",
    "from sklearn.linear_model import LinearRegression\n",
    "from sklearn.ensemble import RandomForestRegressor\n",
    "from sklearn.metrics import mean_squared_error\n"
   ]
  },
  {
   "cell_type": "code",
   "execution_count": 2,
   "metadata": {},
   "outputs": [
    {
     "name": "stdout",
     "output_type": "stream",
     "text": [
      "Time taken to read dataset: 10.880542 seconds\n",
      "\n",
      "Dataset: 3000000 * 38\n"
     ]
    },
    {
     "data": {
      "text/html": [
       "<div>\n",
       "<style scoped>\n",
       "    .dataframe tbody tr th:only-of-type {\n",
       "        vertical-align: middle;\n",
       "    }\n",
       "\n",
       "    .dataframe tbody tr th {\n",
       "        vertical-align: top;\n",
       "    }\n",
       "\n",
       "    .dataframe thead th {\n",
       "        text-align: right;\n",
       "    }\n",
       "</style>\n",
       "<table border=\"1\" class=\"dataframe\">\n",
       "  <thead>\n",
       "    <tr style=\"text-align: right;\">\n",
       "      <th></th>\n",
       "      <th>price</th>\n",
       "      <th>back_legroom</th>\n",
       "      <th>body_type</th>\n",
       "      <th>city</th>\n",
       "      <th>city_fuel_economy</th>\n",
       "      <th>daysonmarket</th>\n",
       "      <th>engine_displacement</th>\n",
       "      <th>engine_type</th>\n",
       "      <th>fleet</th>\n",
       "      <th>frame_damaged</th>\n",
       "      <th>franchise_dealer</th>\n",
       "      <th>franchise_make</th>\n",
       "      <th>front_legroom</th>\n",
       "      <th>fuel_tank_volume</th>\n",
       "      <th>fuel_type</th>\n",
       "      <th>has_accidents</th>\n",
       "      <th>height</th>\n",
       "      <th>highway_fuel_economy</th>\n",
       "      <th>horsepower</th>\n",
       "      <th>isCab</th>\n",
       "      <th>is_new</th>\n",
       "      <th>length</th>\n",
       "      <th>listing_color</th>\n",
       "      <th>listing_id</th>\n",
       "      <th>make_name</th>\n",
       "      <th>maximum_seating</th>\n",
       "      <th>mileage</th>\n",
       "      <th>model_name</th>\n",
       "      <th>salvage</th>\n",
       "      <th>savings_amount</th>\n",
       "      <th>sp_id</th>\n",
       "      <th>theft_title</th>\n",
       "      <th>transmission</th>\n",
       "      <th>transmission_display</th>\n",
       "      <th>wheel_system</th>\n",
       "      <th>wheelbase</th>\n",
       "      <th>width</th>\n",
       "      <th>year</th>\n",
       "    </tr>\n",
       "  </thead>\n",
       "  <tbody>\n",
       "    <tr>\n",
       "      <th>0</th>\n",
       "      <td>23141.0</td>\n",
       "      <td>0.511416</td>\n",
       "      <td>0.555556</td>\n",
       "      <td>0.051430</td>\n",
       "      <td>0.130777</td>\n",
       "      <td>0.145040</td>\n",
       "      <td>0.077922</td>\n",
       "      <td>0.153846</td>\n",
       "      <td>0.212869</td>\n",
       "      <td>0.009502</td>\n",
       "      <td>1.0</td>\n",
       "      <td>0.437500</td>\n",
       "      <td>0.425743</td>\n",
       "      <td>0.115385</td>\n",
       "      <td>0.625</td>\n",
       "      <td>0.154406</td>\n",
       "      <td>0.557203</td>\n",
       "      <td>0.166439</td>\n",
       "      <td>0.128964</td>\n",
       "      <td>0.182364</td>\n",
       "      <td>1.0</td>\n",
       "      <td>0.156699</td>\n",
       "      <td>1.000000</td>\n",
       "      <td>0.828716</td>\n",
       "      <td>0.464646</td>\n",
       "      <td>0.583333</td>\n",
       "      <td>7.000001e-08</td>\n",
       "      <td>0.731092</td>\n",
       "      <td>0.006691</td>\n",
       "      <td>0.0</td>\n",
       "      <td>0.823837</td>\n",
       "      <td>0.003347</td>\n",
       "      <td>0.00</td>\n",
       "      <td>0.886364</td>\n",
       "      <td>0.6</td>\n",
       "      <td>0.024845</td>\n",
       "      <td>0.592982</td>\n",
       "      <td>0.923077</td>\n",
       "    </tr>\n",
       "    <tr>\n",
       "      <th>1</th>\n",
       "      <td>46500.0</td>\n",
       "      <td>0.648402</td>\n",
       "      <td>0.555556</td>\n",
       "      <td>0.781263</td>\n",
       "      <td>0.130777</td>\n",
       "      <td>0.057516</td>\n",
       "      <td>0.168831</td>\n",
       "      <td>0.153846</td>\n",
       "      <td>0.212869</td>\n",
       "      <td>0.009502</td>\n",
       "      <td>1.0</td>\n",
       "      <td>0.500000</td>\n",
       "      <td>0.227723</td>\n",
       "      <td>0.362637</td>\n",
       "      <td>0.625</td>\n",
       "      <td>0.154406</td>\n",
       "      <td>0.588983</td>\n",
       "      <td>0.166439</td>\n",
       "      <td>0.201903</td>\n",
       "      <td>0.182364</td>\n",
       "      <td>1.0</td>\n",
       "      <td>0.324163</td>\n",
       "      <td>0.000000</td>\n",
       "      <td>0.938659</td>\n",
       "      <td>0.535354</td>\n",
       "      <td>0.750000</td>\n",
       "      <td>8.000001e-08</td>\n",
       "      <td>0.298319</td>\n",
       "      <td>0.006691</td>\n",
       "      <td>0.0</td>\n",
       "      <td>0.870482</td>\n",
       "      <td>0.003347</td>\n",
       "      <td>0.00</td>\n",
       "      <td>0.886364</td>\n",
       "      <td>0.4</td>\n",
       "      <td>0.155280</td>\n",
       "      <td>0.792982</td>\n",
       "      <td>0.961538</td>\n",
       "    </tr>\n",
       "    <tr>\n",
       "      <th>2</th>\n",
       "      <td>46995.0</td>\n",
       "      <td>0.525114</td>\n",
       "      <td>0.666667</td>\n",
       "      <td>0.354247</td>\n",
       "      <td>0.083333</td>\n",
       "      <td>0.342595</td>\n",
       "      <td>0.233766</td>\n",
       "      <td>0.000000</td>\n",
       "      <td>0.000000</td>\n",
       "      <td>0.000000</td>\n",
       "      <td>1.0</td>\n",
       "      <td>0.229167</td>\n",
       "      <td>0.633663</td>\n",
       "      <td>0.263736</td>\n",
       "      <td>0.625</td>\n",
       "      <td>0.000000</td>\n",
       "      <td>0.381356</td>\n",
       "      <td>0.111111</td>\n",
       "      <td>0.264271</td>\n",
       "      <td>0.000000</td>\n",
       "      <td>0.0</td>\n",
       "      <td>0.322967</td>\n",
       "      <td>0.857143</td>\n",
       "      <td>0.585812</td>\n",
       "      <td>0.898990</td>\n",
       "      <td>0.583333</td>\n",
       "      <td>3.114691e-04</td>\n",
       "      <td>0.951681</td>\n",
       "      <td>0.000000</td>\n",
       "      <td>0.0</td>\n",
       "      <td>0.823507</td>\n",
       "      <td>0.000000</td>\n",
       "      <td>0.75</td>\n",
       "      <td>0.568182</td>\n",
       "      <td>0.4</td>\n",
       "      <td>0.089027</td>\n",
       "      <td>0.568421</td>\n",
       "      <td>0.807692</td>\n",
       "    </tr>\n",
       "    <tr>\n",
       "      <th>3</th>\n",
       "      <td>67430.0</td>\n",
       "      <td>0.625571</td>\n",
       "      <td>0.555556</td>\n",
       "      <td>0.781263</td>\n",
       "      <td>0.130777</td>\n",
       "      <td>0.054460</td>\n",
       "      <td>0.298701</td>\n",
       "      <td>0.564103</td>\n",
       "      <td>0.212869</td>\n",
       "      <td>0.009502</td>\n",
       "      <td>1.0</td>\n",
       "      <td>0.500000</td>\n",
       "      <td>0.217822</td>\n",
       "      <td>0.631868</td>\n",
       "      <td>0.625</td>\n",
       "      <td>0.154406</td>\n",
       "      <td>0.694915</td>\n",
       "      <td>0.166439</td>\n",
       "      <td>0.301268</td>\n",
       "      <td>0.182364</td>\n",
       "      <td>1.0</td>\n",
       "      <td>0.491627</td>\n",
       "      <td>0.285714</td>\n",
       "      <td>0.942341</td>\n",
       "      <td>0.535354</td>\n",
       "      <td>0.750000</td>\n",
       "      <td>1.100000e-07</td>\n",
       "      <td>0.296919</td>\n",
       "      <td>0.006691</td>\n",
       "      <td>0.0</td>\n",
       "      <td>0.870482</td>\n",
       "      <td>0.003347</td>\n",
       "      <td>0.00</td>\n",
       "      <td>0.772727</td>\n",
       "      <td>0.4</td>\n",
       "      <td>0.293996</td>\n",
       "      <td>0.849123</td>\n",
       "      <td>0.961538</td>\n",
       "    </tr>\n",
       "    <tr>\n",
       "      <th>4</th>\n",
       "      <td>48880.0</td>\n",
       "      <td>0.648402</td>\n",
       "      <td>0.555556</td>\n",
       "      <td>0.781263</td>\n",
       "      <td>0.130777</td>\n",
       "      <td>0.038066</td>\n",
       "      <td>0.168831</td>\n",
       "      <td>0.153846</td>\n",
       "      <td>0.212869</td>\n",
       "      <td>0.009502</td>\n",
       "      <td>1.0</td>\n",
       "      <td>0.500000</td>\n",
       "      <td>0.227723</td>\n",
       "      <td>0.362637</td>\n",
       "      <td>0.625</td>\n",
       "      <td>0.154406</td>\n",
       "      <td>0.588983</td>\n",
       "      <td>0.166439</td>\n",
       "      <td>0.201903</td>\n",
       "      <td>0.182364</td>\n",
       "      <td>1.0</td>\n",
       "      <td>0.324163</td>\n",
       "      <td>0.000000</td>\n",
       "      <td>0.957780</td>\n",
       "      <td>0.535354</td>\n",
       "      <td>0.750000</td>\n",
       "      <td>7.000001e-08</td>\n",
       "      <td>0.298319</td>\n",
       "      <td>0.006691</td>\n",
       "      <td>0.0</td>\n",
       "      <td>0.870482</td>\n",
       "      <td>0.003347</td>\n",
       "      <td>0.00</td>\n",
       "      <td>0.886364</td>\n",
       "      <td>0.4</td>\n",
       "      <td>0.155280</td>\n",
       "      <td>0.792982</td>\n",
       "      <td>0.961538</td>\n",
       "    </tr>\n",
       "  </tbody>\n",
       "</table>\n",
       "</div>"
      ],
      "text/plain": [
       "     price  back_legroom  body_type      city  city_fuel_economy  \\\n",
       "0  23141.0      0.511416   0.555556  0.051430           0.130777   \n",
       "1  46500.0      0.648402   0.555556  0.781263           0.130777   \n",
       "2  46995.0      0.525114   0.666667  0.354247           0.083333   \n",
       "3  67430.0      0.625571   0.555556  0.781263           0.130777   \n",
       "4  48880.0      0.648402   0.555556  0.781263           0.130777   \n",
       "\n",
       "   daysonmarket  engine_displacement  engine_type     fleet  frame_damaged  \\\n",
       "0      0.145040             0.077922     0.153846  0.212869       0.009502   \n",
       "1      0.057516             0.168831     0.153846  0.212869       0.009502   \n",
       "2      0.342595             0.233766     0.000000  0.000000       0.000000   \n",
       "3      0.054460             0.298701     0.564103  0.212869       0.009502   \n",
       "4      0.038066             0.168831     0.153846  0.212869       0.009502   \n",
       "\n",
       "   franchise_dealer  franchise_make  front_legroom  fuel_tank_volume  \\\n",
       "0               1.0        0.437500       0.425743          0.115385   \n",
       "1               1.0        0.500000       0.227723          0.362637   \n",
       "2               1.0        0.229167       0.633663          0.263736   \n",
       "3               1.0        0.500000       0.217822          0.631868   \n",
       "4               1.0        0.500000       0.227723          0.362637   \n",
       "\n",
       "   fuel_type  has_accidents    height  highway_fuel_economy  horsepower  \\\n",
       "0      0.625       0.154406  0.557203              0.166439    0.128964   \n",
       "1      0.625       0.154406  0.588983              0.166439    0.201903   \n",
       "2      0.625       0.000000  0.381356              0.111111    0.264271   \n",
       "3      0.625       0.154406  0.694915              0.166439    0.301268   \n",
       "4      0.625       0.154406  0.588983              0.166439    0.201903   \n",
       "\n",
       "      isCab  is_new    length  listing_color  listing_id  make_name  \\\n",
       "0  0.182364     1.0  0.156699       1.000000    0.828716   0.464646   \n",
       "1  0.182364     1.0  0.324163       0.000000    0.938659   0.535354   \n",
       "2  0.000000     0.0  0.322967       0.857143    0.585812   0.898990   \n",
       "3  0.182364     1.0  0.491627       0.285714    0.942341   0.535354   \n",
       "4  0.182364     1.0  0.324163       0.000000    0.957780   0.535354   \n",
       "\n",
       "   maximum_seating       mileage  model_name   salvage  savings_amount  \\\n",
       "0         0.583333  7.000001e-08    0.731092  0.006691             0.0   \n",
       "1         0.750000  8.000001e-08    0.298319  0.006691             0.0   \n",
       "2         0.583333  3.114691e-04    0.951681  0.000000             0.0   \n",
       "3         0.750000  1.100000e-07    0.296919  0.006691             0.0   \n",
       "4         0.750000  7.000001e-08    0.298319  0.006691             0.0   \n",
       "\n",
       "      sp_id  theft_title  transmission  transmission_display  wheel_system  \\\n",
       "0  0.823837     0.003347          0.00              0.886364           0.6   \n",
       "1  0.870482     0.003347          0.00              0.886364           0.4   \n",
       "2  0.823507     0.000000          0.75              0.568182           0.4   \n",
       "3  0.870482     0.003347          0.00              0.772727           0.4   \n",
       "4  0.870482     0.003347          0.00              0.886364           0.4   \n",
       "\n",
       "   wheelbase     width      year  \n",
       "0   0.024845  0.592982  0.923077  \n",
       "1   0.155280  0.792982  0.961538  \n",
       "2   0.089027  0.568421  0.807692  \n",
       "3   0.293996  0.849123  0.961538  \n",
       "4   0.155280  0.792982  0.961538  "
      ]
     },
     "execution_count": 2,
     "metadata": {},
     "output_type": "execute_result"
    }
   ],
   "source": [
    "# read in the dataset\n",
    "start = time.time()\n",
    "pd.pandas.set_option('display.max_columns', None)\n",
    "\n",
    "df = pd.read_csv('preprocessed_dataset.csv')\n",
    "print(\"Time taken to read dataset: %f seconds\" % (time.time()-start))\n",
    "print(\"\\nDataset: %d * %d\" %(df.shape[0], df.shape[1]))\n",
    "\n",
    "df.head()"
   ]
  },
  {
   "cell_type": "markdown",
   "metadata": {},
   "source": [
    "## Build Model"
   ]
  },
  {
   "cell_type": "markdown",
   "metadata": {},
   "source": [
    "### 1- Train and test data splitting"
   ]
  },
  {
   "cell_type": "code",
   "execution_count": 4,
   "metadata": {},
   "outputs": [
    {
     "name": "stdout",
     "output_type": "stream",
     "text": [
      "2400000\n"
     ]
    }
   ],
   "source": [
    "feature_train = [feature for feature in df.columns if feature not in ['price']]\n",
    "X = df[feature_train]\n",
    "y = df['price']\n",
    "\n",
    "# Divide the data into training and testing sets\n",
    "X_train, X_test, y_train, y_test = train_test_split(X, y, test_size = 0.2, random_state = 42)\n",
    "\n",
    "print(len(y_train))"
   ]
  },
  {
   "cell_type": "markdown",
   "metadata": {},
   "source": [
    "### Model 1: LinearRegression"
   ]
  },
  {
   "cell_type": "code",
   "execution_count": 5,
   "metadata": {},
   "outputs": [
    {
     "name": "stdout",
     "output_type": "stream",
     "text": [
      "Train MSE: 173193306.91\n",
      "Test  MSE: 168374771.19\n"
     ]
    }
   ],
   "source": [
    "lregr = LinearRegression()\n",
    "lregr.fit(X_train, y_train)\n",
    "\n",
    "pred_train_l = lregr.predict(X_train)\n",
    "pred_test_l = lregr.predict(X_test)\n",
    "\n",
    "mse_train_l = mean_squared_error(y_train, pred_train_l)\n",
    "print(\"Train MSE: %.2f\" %mse_train_l)\n",
    "\n",
    "mse_test_l = mean_squared_error(y_test, pred_test_l)\n",
    "print(\"Test  MSE: %.2f\" %mse_test_l)\n"
   ]
  },
  {
   "cell_type": "markdown",
   "metadata": {},
   "source": [
    "### Model 2: RandomForestRegressor"
   ]
  },
  {
   "cell_type": "code",
   "execution_count": 6,
   "metadata": {},
   "outputs": [
    {
     "name": "stdout",
     "output_type": "stream",
     "text": [
      "Sample Dataset: 900000 * 38\n"
     ]
    }
   ],
   "source": [
    "# Sample a portion of the rows\n",
    "\n",
    "df2 = df.sample(frac=0.30, replace=False)\n",
    "print(\"Sample Dataset: %d * %d\" %(df2.shape[0], df2.shape[1]))\n"
   ]
  },
  {
   "cell_type": "code",
   "execution_count": 7,
   "metadata": {},
   "outputs": [
    {
     "name": "stdout",
     "output_type": "stream",
     "text": [
      "720000\n"
     ]
    }
   ],
   "source": [
    "X2 = df2[feature_train]\n",
    "y2 = df2['price']\n",
    "\n",
    "# Divide the data into training and testing sets\n",
    "X2_train, X2_test, y2_train, y2_test = train_test_split(X2, y2, test_size = 0.2, random_state = 42)\n",
    "\n",
    "print(len(y2_train))"
   ]
  },
  {
   "cell_type": "code",
   "execution_count": 10,
   "metadata": {
    "scrolled": true
   },
   "outputs": [
    {
     "name": "stdout",
     "output_type": "stream",
     "text": [
      "Train MSE: 6989776.33\n",
      "Test  MSE: 80797076.54\n"
     ]
    }
   ],
   "source": [
    "\n",
    "rfregr = RandomForestRegressor(n_estimators=100, random_state=42)\n",
    "rfregr.fit(X2_train, y2_train)\n",
    "\n",
    "train_pred_rf = rfregr.predict(X2_train)\n",
    "test_pred_rf = rfregr.predict(X2_test)\n",
    "\n",
    "mse_train_rf = mean_squared_error(y2_train, train_pred_rf)\n",
    "print(\"Train MSE: %.2f\" %mse_train_rf)\n",
    "\n",
    "mse_test_rf = mean_squared_error(y2_test, test_pred_rf)\n",
    "print(\"Test  MSE: %.2f\" %mse_test_rf)\n"
   ]
  },
  {
   "cell_type": "code",
   "execution_count": 11,
   "metadata": {},
   "outputs": [
    {
     "name": "stdout",
     "output_type": "stream",
     "text": [
      "17    0.415274\n",
      "36    0.136256\n",
      "25    0.087941\n",
      "3     0.035635\n",
      "11    0.030100\n",
      "26    0.026806\n",
      "23    0.025968\n",
      "20    0.024492\n",
      "28    0.018000\n",
      "12    0.017443\n",
      "6     0.015904\n",
      "13    0.015006\n",
      "35    0.013714\n",
      "15    0.013433\n",
      "0     0.012966\n",
      "24    0.011549\n",
      "2     0.011000\n",
      "33    0.010547\n",
      "22    0.010191\n",
      "29    0.009939\n",
      "7     0.009227\n",
      "16    0.007919\n",
      "34    0.006796\n",
      "4     0.005896\n",
      "10    0.005603\n",
      "1     0.005556\n",
      "5     0.004789\n",
      "21    0.003460\n",
      "19    0.003157\n",
      "32    0.002434\n",
      "31    0.001405\n",
      "9     0.000319\n",
      "18    0.000283\n",
      "30    0.000271\n",
      "27    0.000270\n",
      "14    0.000254\n",
      "8     0.000197\n",
      "dtype: float64\n",
      "Selected features: 37\n",
      "Selected feature indices: [17 36 25  3 11 26 23 20 28 12  6 13 35 15  0 24  2 33 22 29  7 16 34  4\n",
      " 10  1  5 21 19 32 31  9 18 30 27 14  8]\n"
     ]
    }
   ],
   "source": [
    "# Feature importance analysis\n",
    "\n",
    "feature_imp = pd.Series(rfregr.feature_importances_).sort_values(ascending=False)\n",
    "print(feature_imp[feature_imp>0.0])\n",
    "feature_idx_list = feature_imp[feature_imp>0.0].index\n",
    "feature_idx = np.array(feature_idx_list)\n",
    "print(\"Selected features:\", feature_idx.shape[0])\n",
    "print(\"Selected feature indices:\", feature_idx)"
   ]
  },
  {
   "cell_type": "code",
   "execution_count": 12,
   "metadata": {},
   "outputs": [
    {
     "name": "stdout",
     "output_type": "stream",
     "text": [
      "Top 5 important features: \n",
      "horsepower\n",
      "year\n",
      "mileage\n",
      "city_fuel_economy\n",
      "front_legroom\n"
     ]
    }
   ],
   "source": [
    "print('Top 5 important features: ')\n",
    "for i in feature_idx_list[:5]:\n",
    "    print(feature_train[i])"
   ]
  },
  {
   "cell_type": "code",
   "execution_count": null,
   "metadata": {},
   "outputs": [],
   "source": []
  },
  {
   "cell_type": "code",
   "execution_count": 13,
   "metadata": {},
   "outputs": [
    {
     "name": "stdout",
     "output_type": "stream",
     "text": [
      "720000\n"
     ]
    }
   ],
   "source": [
    "X3 = df2[feature_train]\n",
    "y3 = df2['price']\n",
    "\n",
    "# Divide the data into training and testing sets\n",
    "X3_train, X3_test, y3_train, y3_test = train_test_split(X3, y3, test_size = 0.2, random_state = 1)\n",
    "\n",
    "print(len(y3_train))"
   ]
  },
  {
   "cell_type": "code",
   "execution_count": 14,
   "metadata": {},
   "outputs": [
    {
     "name": "stdout",
     "output_type": "stream",
     "text": [
      "Train MSE: 7568950.06\n",
      "Test  MSE: 61660340.23\n"
     ]
    }
   ],
   "source": [
    "rfregr = RandomForestRegressor(n_estimators=100, random_state=1)\n",
    "rfregr.fit(X3_train, y3_train)\n",
    "\n",
    "train_pred_rf2 = rfregr.predict(X3_train)\n",
    "test_pred_rf2 = rfregr.predict(X3_test)\n",
    "\n",
    "mse_train_rf2 = mean_squared_error(y3_train, train_pred_rf2)\n",
    "print(\"Train MSE: %.2f\" %mse_train_rf2)\n",
    "\n",
    "mse_test_rf2 = mean_squared_error(y3_test, test_pred_rf2)\n",
    "print(\"Test  MSE: %.2f\" %mse_test_rf2)\n"
   ]
  },
  {
   "cell_type": "code",
   "execution_count": null,
   "metadata": {},
   "outputs": [],
   "source": []
  }
 ],
 "metadata": {
  "kernelspec": {
   "display_name": "Python 3",
   "language": "python",
   "name": "python3"
  },
  "language_info": {
   "codemirror_mode": {
    "name": "ipython",
    "version": 3
   },
   "file_extension": ".py",
   "mimetype": "text/x-python",
   "name": "python",
   "nbconvert_exporter": "python",
   "pygments_lexer": "ipython3",
   "version": "3.8.5"
  }
 },
 "nbformat": 4,
 "nbformat_minor": 4
}
