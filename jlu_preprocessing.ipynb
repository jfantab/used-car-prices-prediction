{
 "cells": [
  {
   "cell_type": "code",
   "execution_count": 24,
   "id": "5c4f551f",
   "metadata": {},
   "outputs": [],
   "source": [
    "import math\n",
    "import pandas as pd\n",
    "from sklearn.pipeline import Pipeline\n",
    "from sklearn.impute import SimpleImputer\n",
    "from sklearn.feature_selection import mutual_info_regression\n",
    "from sklearn.preprocessing import StandardScaler, OrdinalEncoder\n",
    "\n",
    "from IPython.display import clear_output"
   ]
  },
  {
   "cell_type": "markdown",
   "id": "ed7ee1bc",
   "metadata": {},
   "source": [
    "## Preprocessing"
   ]
  },
  {
   "cell_type": "code",
   "execution_count": 16,
   "id": "5ab949d7",
   "metadata": {},
   "outputs": [],
   "source": [
    "encoder = Pipeline(steps=[\n",
    "    (\"encoder\", OrdinalEncoder()),\n",
    "    (\"imputer\", SimpleImputer(strategy=\"most_frequent\"))\n",
    "])"
   ]
  },
  {
   "cell_type": "code",
   "execution_count": 17,
   "id": "6af81b08",
   "metadata": {},
   "outputs": [],
   "source": [
    "standardizer = Pipeline(steps=[\n",
    "    (\"imputer\", SimpleImputer(strategy=\"mean\")),\n",
    "    (\"scaler\", StandardScaler())\n",
    "])"
   ]
  },
  {
   "cell_type": "code",
   "execution_count": 18,
   "id": "3786bb22",
   "metadata": {},
   "outputs": [],
   "source": [
    "def cleanColumnsAndRows(df):\n",
    "    # Remove rows with duplicate vehicle id numbers\n",
    "    df = df.drop_duplicates(subset=[\"vin\"], ignore_index=True)\n",
    "\n",
    "    # Remove columns with majority of NaN's\n",
    "    size = len(df)\n",
    "    thresh = math.floor(size * 0.7)\n",
    "    df = df.dropna(axis=1, thresh=thresh)\n",
    "    print(df.shape)\n",
    "    \n",
    "    return df"
   ]
  },
  {
   "cell_type": "code",
   "execution_count": 33,
   "id": "ef6d0cba",
   "metadata": {},
   "outputs": [],
   "source": [
    "def convertColumnsToNumericalAndStandardize(df):\n",
    "    price_col = df[\"price\"]\n",
    "    \n",
    "    # Columns to be removed can be adjusted\n",
    "    cols_to_drop = [\"vin\", \"back_legroom\", \"description\", \"dealer_zip\", \"front_legroom\", \n",
    "                    \"latitude\", \"longitude\", \"length\", \"listed_date\",\"major_options\", \n",
    "                    \"maximum_seating\", \"power\", \"torque\", \"main_picture_url\", \"trimId\", \n",
    "                    \"listing_id\", \"sp_id\", \"price\", \"wheelbase\", \"width\"]\n",
    "    \n",
    "    df = df.drop(columns=cols_to_drop, axis=1)\n",
    "\n",
    "    for c in df.columns:\n",
    "        clear_output(wait=True)\n",
    "        print(c)\n",
    "\n",
    "        item = df[c].dropna(axis=0).tolist()[0]\n",
    "\n",
    "        if (type(item) is str) or (type(item) is bool):\n",
    "            arr = np.array(df[c].tolist()).reshape(-1,1)\n",
    "            df[c] = encoder.fit_transform(arr)\n",
    "\n",
    "        arr = np.array(df[c].tolist()).reshape(-1,1)\n",
    "        df[c] = standardizer.fit_transform(arr)\n",
    "    \n",
    "    return df, price_col"
   ]
  },
  {
   "cell_type": "code",
   "execution_count": 30,
   "id": "e86740e2",
   "metadata": {},
   "outputs": [],
   "source": [
    "def processYears(df):\n",
    "    indices = []\n",
    "    for index, ele in enumerate(df[\"year\"]):\n",
    "        if pd.isnull(ele):\n",
    "            indices.append(index)\n",
    "    \n",
    "    df = df.drop(labels=indices, axis=0)\n",
    "\n",
    "    # These variables can be tweaked\n",
    "    startYear = 1950\n",
    "    endYear = 2010\n",
    "    \n",
    "    yrs = df[\"year\"].tolist()\n",
    "    yrs = list(map(lambda x: x - startYear, yrs))\n",
    "    yrs = list(map(lambda x: max(x, 0), yrs))\n",
    "\n",
    "    return yrs"
   ]
  },
  {
   "cell_type": "code",
   "execution_count": null,
   "id": "15455b47",
   "metadata": {},
   "outputs": [],
   "source": []
  }
 ],
 "metadata": {
  "kernelspec": {
   "display_name": "Python 3 (ipykernel)",
   "language": "python",
   "name": "python3"
  },
  "language_info": {
   "codemirror_mode": {
    "name": "ipython",
    "version": 3
   },
   "file_extension": ".py",
   "mimetype": "text/x-python",
   "name": "python",
   "nbconvert_exporter": "python",
   "pygments_lexer": "ipython3",
   "version": "3.9.13"
  }
 },
 "nbformat": 4,
 "nbformat_minor": 5
}
