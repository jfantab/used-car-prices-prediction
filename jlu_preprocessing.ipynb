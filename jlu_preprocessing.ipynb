{
 "cells": [
  {
   "cell_type": "code",
   "execution_count": 15,
   "id": "5c4f551f",
   "metadata": {},
   "outputs": [],
   "source": [
    "import re\n",
    "import math\n",
    "import pandas as pd\n",
    "from sklearn.pipeline import Pipeline\n",
    "from sklearn.impute import SimpleImputer\n",
    "from sklearn.feature_selection import mutual_info_regression, VarianceThreshold\n",
    "from sklearn.preprocessing import StandardScaler, MinMaxScaler, OrdinalEncoder\n",
    "\n",
    "from IPython.display import clear_output"
   ]
  },
  {
   "cell_type": "markdown",
   "id": "ed7ee1bc",
   "metadata": {},
   "source": [
    "## Preprocessing"
   ]
  },
  {
   "cell_type": "code",
   "execution_count": null,
   "id": "2de75b6a",
   "metadata": {},
   "outputs": [],
   "source": [
    "NUMERICAL_STRATEGY = \"mean\""
   ]
  },
  {
   "cell_type": "code",
   "execution_count": 16,
   "id": "5ab949d7",
   "metadata": {},
   "outputs": [],
   "source": [
    "encoder = Pipeline(steps=[\n",
    "    (\"encoder\", OrdinalEncoder()),\n",
    "    (\"imputer\", SimpleImputer(strategy=\"most_frequent\"))\n",
    "])"
   ]
  },
  {
   "cell_type": "code",
   "execution_count": 17,
   "id": "6af81b08",
   "metadata": {},
   "outputs": [],
   "source": [
    "standardizer = Pipeline(steps=[\n",
    "    (\"imputer\", SimpleImputer(strategy=NUMERICAL_STRATEGY)),\n",
    "    (\"scaler\", StandardScaler())\n",
    "])"
   ]
  },
  {
   "cell_type": "code",
   "execution_count": 18,
   "id": "412a540e",
   "metadata": {},
   "outputs": [],
   "source": [
    "minMaxScaler = Pipeline(steps=[\n",
    "    (\"imputer\", SimpleImputer(strategy=NUMERICAL_STRATEGY)),\n",
    "    (\"scaler\", MinMaxScaler(feature_range=(-50,50)))\n",
    "])"
   ]
  },
  {
   "cell_type": "code",
   "execution_count": 27,
   "id": "3786bb22",
   "metadata": {},
   "outputs": [],
   "source": [
    "def cleanColumnsAndRows(df):\n",
    "    # Remove rows with duplicates\n",
    "    df = df.drop_duplicates(ignore_index=True)\n",
    "\n",
    "    # Remove columns with majority of NaN's\n",
    "    size = len(df)\n",
    "    thresh = math.floor(size * 0.5)\n",
    "    df = df.dropna(axis=1, thresh=thresh)\n",
    "    print(df.shape)\n",
    "    \n",
    "    price_col = df[\"price\"]\n",
    "    \n",
    "    # Columns to be removed can be adjusted\n",
    "    id_cols = [\"vin\", \"sp_id\", \"listing_id\", \"trimId\"]\n",
    "    str_cols = [\"description\", \"major_options\", \"main_picture_url\", \"city\",\n",
    "                \"listed_date\", \"dealer_zip\", \"listing_color\", \"fuel_type\", \"franchise_dealer\"]\n",
    "    int_cols = [\"latitude\", \"longitude\", \"price\"]\n",
    "    \n",
    "    for cols_to_drop in [id_cols, str_cols, int_cols]:\n",
    "        df = df.drop(columns=cols_to_drop, axis=1)\n",
    "    \n",
    "    return df, price_col"
   ]
  },
  {
   "cell_type": "code",
   "execution_count": 20,
   "id": "428e4b52",
   "metadata": {},
   "outputs": [],
   "source": [
    "# def filterThresholdVariance(df):\n",
    "#     PERCENT = 0.8\n",
    "#     vt = VarianceThreshold(threshold=(PERCENT * (1-PERCENT)))\n",
    "#     df = vt.fit_transform(df)\n",
    "#     return pd.DataFrame(df)"
   ]
  },
  {
   "cell_type": "code",
   "execution_count": 26,
   "id": "ef6d0cba",
   "metadata": {},
   "outputs": [],
   "source": [
    "def convertColumnsToNumericalAndStandardize(df, normalizer):\n",
    "    df[\"year\"] = processYears(df)\n",
    "\n",
    "    for c in df.columns:\n",
    "        clear_output(wait=True)\n",
    "        print(c)\n",
    "\n",
    "        item = df[c].dropna(axis=0).tolist()[0]\n",
    "\n",
    "        if type(item) is str:\n",
    "            if re.search('((\\d{1,}.\\d{1,}))(in)((--)?)', item) is not None:\n",
    "                df[c] = convertMeasurementStrings(df, c)\n",
    "            else:\n",
    "                df[c] = encoder.fit_transform(df[c].to_numpy().reshape(-1,1))\n",
    "        elif type(item) is bool:\n",
    "            df[c] = encoder.fit_transform(df[c].to_numpy().reshape(-1,1))\n",
    "        \n",
    "        df[c] = normalizer.fit_transform(df[c].to_numpy().reshape(-1,1))\n",
    "    \n",
    "    return df"
   ]
  },
  {
   "cell_type": "code",
   "execution_count": 22,
   "id": "e86740e2",
   "metadata": {},
   "outputs": [],
   "source": [
    "def processYears(df):\n",
    "    indices = []\n",
    "    for index, ele in enumerate(df[\"year\"]):\n",
    "        if pd.isnull(ele):\n",
    "            indices.append(index)\n",
    "    \n",
    "    df = df.drop(labels=indices, axis=0)\n",
    "\n",
    "    startYear = 1995\n",
    "    \n",
    "    yrs = df[\"year\"].tolist()\n",
    "    yrs = list(map(lambda x: x - startYear, yrs))\n",
    "    yrs = list(map(lambda x: max(x, 0), yrs))\n",
    "\n",
    "    return yrs"
   ]
  },
  {
   "cell_type": "code",
   "execution_count": 23,
   "id": "1ec32a7e",
   "metadata": {},
   "outputs": [],
   "source": [
    "def convertMeasurementStrings(df, label):\n",
    "    arr = df[label].tolist()\n",
    "    \n",
    "    def transform(ele):\n",
    "        if pd.isnull(ele) or re.search(\"\\d\", ele) is None:\n",
    "            return \"0.0\"\n",
    "        return float(ele.split(' ')[0])\n",
    "    \n",
    "    arr = list(map(transform, arr))\n",
    "    arr = [float(x) for x in arr]\n",
    "    mean = np.mean(arr)\n",
    "    \n",
    "    arr = np.array(arr).reshape(-1,1)\n",
    "    arr = SimpleImputer(strategy=\"constant\", fill_value=mean, missing_values=0.0).fit_transform(arr)\n",
    "    \n",
    "    return arr"
   ]
  },
  {
   "cell_type": "code",
   "execution_count": null,
   "id": "85e94975",
   "metadata": {},
   "outputs": [],
   "source": []
  }
 ],
 "metadata": {
  "kernelspec": {
   "display_name": "Python 3 (ipykernel)",
   "language": "python",
   "name": "python3"
  },
  "language_info": {
   "codemirror_mode": {
    "name": "ipython",
    "version": 3
   },
   "file_extension": ".py",
   "mimetype": "text/x-python",
   "name": "python",
   "nbconvert_exporter": "python",
   "pygments_lexer": "ipython3",
   "version": "3.9.13"
  }
 },
 "nbformat": 4,
 "nbformat_minor": 5
}
