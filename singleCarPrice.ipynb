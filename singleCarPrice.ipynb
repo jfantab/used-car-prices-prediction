{
 "cells": [
  {
   "cell_type": "markdown",
   "id": "04097885",
   "metadata": {},
   "source": [
    "Source: https://github.com/krishnaik06/Advanced-House-Price-Prediction-/blob/master/Feature%20Engineering.ipynb"
   ]
  },
  {
   "cell_type": "code",
   "execution_count": 98,
   "id": "c27e6dfa",
   "metadata": {},
   "outputs": [],
   "source": [
    "import time\n",
    "import numpy as np\n",
    "import pandas as pd\n",
    "import matplotlib.pyplot as plt\n",
    "from sklearn.model_selection import train_test_split, cross_validate\n",
    "from sklearn.linear_model import LinearRegression, Lasso, ElasticNet\n",
    "from sklearn.metrics import mean_squared_error\n",
    "\n",
    "# Imports preprocessing functions\n",
    "%run ./jlu_preprocessing.ipynb"
   ]
  },
  {
   "cell_type": "markdown",
   "id": "581a2497",
   "metadata": {},
   "source": [
    "## Functions"
   ]
  },
  {
   "cell_type": "markdown",
   "id": "0b141af6",
   "metadata": {},
   "source": [
    "#### Algorithms"
   ]
  },
  {
   "cell_type": "code",
   "execution_count": 2,
   "id": "3dfb98be",
   "metadata": {},
   "outputs": [],
   "source": [
    "def tuneParams(data, labels):\n",
    "    N = 5\n",
    "    params = np.arange(0.1,1.1,0.1)\n",
    "    scores = []\n",
    "    \n",
    "    for param in params:\n",
    "        model = Lasso(alpha=param, selection='random') \n",
    "        cv = cross_validate(model, data, labels, cv=5, n_jobs=-1, error_score='raise')\n",
    "        scores.append(np.mean(cv['test_score']))\n",
    "    \n",
    "    plt.plot(scores)\n",
    "    plt.show()"
   ]
  },
  {
   "cell_type": "code",
   "execution_count": 3,
   "id": "f23bcfb7",
   "metadata": {},
   "outputs": [],
   "source": [
    "def crossVal(model, data, labels):\n",
    "    cv = cross_validate(model, data, labels, cv=5, n_jobs=-1, error_score='raise')\n",
    "    \n",
    "    plt.plot(cv['test_score'])\n",
    "    plt.show()"
   ]
  },
  {
   "cell_type": "code",
   "execution_count": 4,
   "id": "8c6157f6",
   "metadata": {},
   "outputs": [],
   "source": [
    "def predictPrice(X_train, X_test, Y_train, Y_test):\n",
    "# - - - - Models - - - -\n",
    "    model = LinearRegression()\n",
    "    # model = Lasso()\n",
    "    # model = ElasticNet()\n",
    "    \n",
    "# - - - - Cross Validation - - - -\n",
    "    # cv = crossVal(model, X_train, Y_train)\n",
    "    \n",
    "# - - - - Fit and Predict - - - -\n",
    "    clf = model.fit(X_train, Y_train)\n",
    "    train_pred = clf.predict(X_train)\n",
    "    test_pred = clf.predict(X_test)\n",
    "    \n",
    "    print(\"Train MSE: \", mean_squared_error(Y_train, train_pred))\n",
    "    print(\"Test MSE: \", mean_squared_error(Y_test, test_pred))"
   ]
  },
  {
   "cell_type": "code",
   "execution_count": 35,
   "id": "1dcdfe7a",
   "metadata": {},
   "outputs": [],
   "source": [
    "def cleanFeatures(df):\n",
    "    \n",
    "    price_col = df[\"price\"]\n",
    "    \n",
    "    # Columns to be removed can be adjusted\n",
    "    id_cols = [\"vin\", \"sp_id\", \"listing_id\", \"trimId\"]\n",
    "    str_cols = [\"description\", \"major_options\", \"main_picture_url\", \"city\",\n",
    "                \"listed_date\", \"dealer_zip\", \"listing_color\", \"fuel_type\", \"franchise_dealer\"]\n",
    "    int_cols = [\"latitude\", \"longitude\", \"price\"]\n",
    "    \n",
    "    for cols_to_drop in [id_cols, str_cols, int_cols]:\n",
    "        df = df.drop(columns=cols_to_drop, axis=1)\n",
    "    \n",
    "    return df, price_col"
   ]
  },
  {
   "cell_type": "code",
   "execution_count": 87,
   "id": "608655ee",
   "metadata": {},
   "outputs": [],
   "source": [
    "def cleanCarRow(df, normalizer):\n",
    "    df[\"year\"] = processYears(df)\n",
    "    #df = df.dropna(axis=1)\n",
    "\n",
    "    for c in df.columns:\n",
    "        clear_output(wait=True)\n",
    "        print(c)\n",
    "\n",
    "        \n",
    "        item = df[c].dropna(axis=0).tolist()\n",
    "        \n",
    "        if(not item):\n",
    "            continue\n",
    "        if type(item[0]) is str:\n",
    "            if re.search('((\\d{1,}.\\d{1,}))(in)((--)?)', item[0]) is not None:\n",
    "                    df[c] = convertMeasurementStrings(df, c)\n",
    "            else:\n",
    "                df[c] = encoder.fit_transform(df[c].to_numpy().reshape(-1,1))\n",
    "        elif type(item[0]) is bool:\n",
    "            df[c] = encoder.fit_transform(df[c].to_numpy().reshape(-1,1))\n",
    "        \n",
    "        #df[c] = normalizer.fit_transform(df[c].to_numpy().reshape(-1,1))\n",
    "    \n",
    "    return df"
   ]
  },
  {
   "cell_type": "markdown",
   "id": "739ea7c1",
   "metadata": {},
   "source": [
    "## Code"
   ]
  },
  {
   "cell_type": "code",
   "execution_count": 5,
   "id": "efc3a412",
   "metadata": {
    "scrolled": true
   },
   "outputs": [
    {
     "name": "stderr",
     "output_type": "stream",
     "text": [
      "C:\\Users\\Hussan\\AppData\\Local\\Temp\\ipykernel_19168\\1749011710.py:2: DtypeWarning: Columns (11) have mixed types. Specify dtype option on import or set low_memory=False.\n",
      "  original_df = pd.read_csv('used_cars_data.csv')\n"
     ]
    },
    {
     "name": "stdout",
     "output_type": "stream",
     "text": [
      "Time taken:  147.29619526863098\n"
     ]
    }
   ],
   "source": [
    "begin = time.time()\n",
    "original_df = pd.read_csv('used_cars_data.csv')\n",
    "end = time.time()\n",
    "\n",
    "print(\"Time taken: \", end - begin)"
   ]
  },
  {
   "cell_type": "code",
   "execution_count": 95,
   "id": "ae1a4a81",
   "metadata": {},
   "outputs": [
    {
     "name": "stdout",
     "output_type": "stream",
     "text": [
      "Time taken:  4.153172016143799\n"
     ]
    }
   ],
   "source": [
    "# Sample a portion of the rows\n",
    "\n",
    "PERCENT = 0.5\n",
    "\n",
    "begin = time.time()\n",
    "sampled_df = original_df.sample(frac=PERCENT, replace=False, ignore_index=True)\n",
    "end = time.time()\n",
    "\n",
    "print(\"Time taken: \", end - begin)"
   ]
  },
  {
   "cell_type": "markdown",
   "id": "dab4979a",
   "metadata": {},
   "source": [
    "#### Get Random Car"
   ]
  },
  {
   "cell_type": "code",
   "execution_count": 99,
   "id": "856437c0",
   "metadata": {
    "scrolled": true
   },
   "outputs": [
    {
     "name": "stdout",
     "output_type": "stream",
     "text": [
      "(30000, 56)\n"
     ]
    }
   ],
   "source": [
    "df, price_col = cleanColumnsAndRows(sampled_df)"
   ]
  },
  {
   "cell_type": "markdown",
   "id": "34ed2a34",
   "metadata": {},
   "source": [
    "#### Standardize columns of differing data types"
   ]
  },
  {
   "cell_type": "code",
   "execution_count": 101,
   "id": "69064886",
   "metadata": {
    "scrolled": false
   },
   "outputs": [
    {
     "name": "stdout",
     "output_type": "stream",
     "text": [
      "year\n",
      "1200000\n"
     ]
    }
   ],
   "source": [
    "df = convertColumnsToNumericalAndStandardize(df, standardizer)\n",
    "df.head()\n",
    "print(df.size)"
   ]
  },
  {
   "cell_type": "markdown",
   "id": "a50ff1d4",
   "metadata": {},
   "source": [
    "#### Run algorithm"
   ]
  },
  {
   "cell_type": "code",
   "execution_count": 102,
   "id": "145cdb20",
   "metadata": {
    "scrolled": true
   },
   "outputs": [],
   "source": [
    "X_train, X_test, Y_train, Y_test = train_test_split(df, price_col, test_size=0.2)"
   ]
  },
  {
   "cell_type": "code",
   "execution_count": 11,
   "id": "8cd6bfe6",
   "metadata": {},
   "outputs": [],
   "source": [
    "# tuneParams(X_train, Y_train)"
   ]
  },
  {
   "cell_type": "code",
   "execution_count": 105,
   "id": "99ef30a0",
   "metadata": {},
   "outputs": [],
   "source": [
    "# model 1 Linear Regression\n",
    "\n",
    "model_1 = LinearRegression()\n",
    "# model = Lasso()\n",
    "# model = ElasticNet()\n",
    "\n",
    "# - - - - Cross Validation - - - -\n",
    "# cv = crossVal(model, X_train, Y_train)\n",
    "\n",
    "# - - - - Fit and Predict - - - -\n",
    "clf = model_1.fit(X_train, Y_train)\n",
    "train_pred = clf.predict(X_train)\n",
    "test_pred = clf.predict(X_test)\n",
    "\n",
    "print(\"Train MSE: \", mean_squared_error(Y_train, train_pred))\n",
    "print(\"Test MSE: \", mean_squared_error(Y_test, test_pred))"
   ]
  },
  {
   "cell_type": "code",
   "execution_count": null,
   "id": "8f6558b8",
   "metadata": {},
   "outputs": [],
   "source": [
    "# model 2\n",
    "model_2 = Lasso()\n",
    "\n",
    "# - - - - Cross Validation - - - -\n",
    "# cv = crossVal(model, X_train, Y_train)\n",
    "\n",
    "# - - - - Fit and Predict - - - -\n",
    "clf = model_2.fit(X_train, Y_train)\n",
    "train_pred = clf.predict(X_train)\n",
    "test_pred = clf.predict(X_test)\n",
    "print(\"Train MSE: \", mean_squared_error(Y_train, train_pred))\n",
    "print(\"Test MSE: \", mean_squared_error(Y_test, test_pred))"
   ]
  },
  {
   "cell_type": "code",
   "execution_count": null,
   "id": "6b841cc6",
   "metadata": {},
   "outputs": [],
   "source": [
    "# model 3\n",
    "model_3 = ElasticNet()\n",
    "\n",
    "# - - - - Cross Validation - - - -\n",
    "# cv = crossVal(model, X_train, Y_train)\n",
    "\n",
    "# - - - - Fit and Predict - - - -\n",
    "clf = model_3.fit(X_train, Y_train)\n",
    "train_pred = clf.predict(X_train)\n",
    "test_pred = clf.predict(X_test)\n",
    "print(\"Train MSE: \", mean_squared_error(Y_train, train_pred))\n",
    "print(\"Test MSE: \", mean_squared_error(Y_test, test_pred))"
   ]
  },
  {
   "cell_type": "code",
   "execution_count": null,
   "id": "adfd8077",
   "metadata": {},
   "outputs": [],
   "source": [
    "# model 4\n",
    "\n",
    "regr = Ridge(alpha=100).fit(X_train, Y_train)\n",
    "    \n",
    "train_pred = regr.predict(X_train)\n",
    "test_pred = regr.predict(X_test)\n",
    "print(\"Train MSE: \", mean_squared_error(Y_train, train_pred))\n",
    "print(\"Test MSE: \", mean_squared_error(Y_test, test_pred))"
   ]
  },
  {
   "cell_type": "code",
   "execution_count": null,
   "id": "591619cd",
   "metadata": {},
   "outputs": [],
   "source": [
    "# model 5"
   ]
  },
  {
   "cell_type": "code",
   "execution_count": null,
   "id": "086745e4",
   "metadata": {},
   "outputs": [],
   "source": [
    "# model 6"
   ]
  },
  {
   "cell_type": "code",
   "execution_count": null,
   "id": "aae8f3db",
   "metadata": {},
   "outputs": [],
   "source": []
  },
  {
   "cell_type": "code",
   "execution_count": 12,
   "id": "4e8ec50a",
   "metadata": {},
   "outputs": [
    {
     "name": "stdout",
     "output_type": "stream",
     "text": [
      "Train MSE:  163355780.02483574\n",
      "Test MSE:  171922106.46942857\n"
     ]
    }
   ],
   "source": [
    "predictPrice(X_train, X_test, Y_train, Y_test)"
   ]
  },
  {
   "cell_type": "markdown",
   "id": "f0270ab9",
   "metadata": {},
   "source": [
    "#### Get Random Car"
   ]
  },
  {
   "cell_type": "code",
   "execution_count": 56,
   "id": "23249294",
   "metadata": {},
   "outputs": [
    {
     "name": "stdout",
     "output_type": "stream",
     "text": [
      "vin                     1C6RREFGXLN333769\n",
      "back_legroom                      45.2 in\n",
      "bed                                   NaN\n",
      "bed_height                             --\n",
      "bed_length                        67.4 in\n",
      "                              ...        \n",
      "wheel_system                          4X2\n",
      "wheel_system_display                  4X2\n",
      "wheelbase                        144.6 in\n",
      "width                             82.1 in\n",
      "year                                 2020\n",
      "Name: 2853669, Length: 66, dtype: object\n"
     ]
    }
   ],
   "source": [
    "randomCar = original_df.sample(n=1,ignore_index=True)\n",
    "print(randomCar.iloc[0])\n",
    "\n",
    "\n"
   ]
  },
  {
   "cell_type": "markdown",
   "id": "59e9ce2b",
   "metadata": {},
   "source": [
    "#### Clean Features and Normalize"
   ]
  },
  {
   "cell_type": "code",
   "execution_count": 88,
   "id": "84fe49e3",
   "metadata": {
    "scrolled": true
   },
   "outputs": [
    {
     "name": "stdout",
     "output_type": "stream",
     "text": [
      "year\n",
      "back_legroom               0.0\n",
      "bed                        NaN\n",
      "bed_height                 0.0\n",
      "bed_length                 0.0\n",
      "body_type                  0.0\n",
      "cabin                      NaN\n",
      "city_fuel_economy          0.0\n",
      "combine_fuel_economy       NaN\n",
      "daysonmarket               0.0\n",
      "engine_cylinders           0.0\n",
      "engine_displacement        0.0\n",
      "engine_type                0.0\n",
      "exterior_color             0.0\n",
      "fleet                      NaN\n",
      "frame_damaged              NaN\n",
      "franchise_make             0.0\n",
      "front_legroom              0.0\n",
      "fuel_tank_volume           0.0\n",
      "has_accidents              NaN\n",
      "height                     0.0\n",
      "highway_fuel_economy       0.0\n",
      "horsepower                 0.0\n",
      "interior_color             0.0\n",
      "isCab                      NaN\n",
      "is_certified               NaN\n",
      "is_cpo                     NaN\n",
      "is_new                     0.0\n",
      "is_oemcpo                  NaN\n",
      "length                     0.0\n",
      "make_name                  0.0\n",
      "maximum_seating            0.0\n",
      "mileage                    0.0\n",
      "model_name                 0.0\n",
      "owner_count                NaN\n",
      "power                      0.0\n",
      "salvage                    NaN\n",
      "savings_amount             0.0\n",
      "seller_rating              0.0\n",
      "sp_name                    0.0\n",
      "theft_title                NaN\n",
      "torque                     0.0\n",
      "transmission               0.0\n",
      "transmission_display       0.0\n",
      "trim_name                  0.0\n",
      "vehicle_damage_category    NaN\n",
      "wheel_system               0.0\n",
      "wheel_system_display       0.0\n",
      "wheelbase                  0.0\n",
      "width                      0.0\n",
      "year                       0.0\n",
      "Name: 2853669, dtype: object\n"
     ]
    }
   ],
   "source": [
    "cleanCar, price = cleanFeatures(randomCar)\n",
    "cleanCar = convertColumnsToNumericalAndStandardize(cleanCar, standardizer)\n",
    "\n",
    "print(cleanCar.iloc[0])"
   ]
  },
  {
   "cell_type": "code",
   "execution_count": 74,
   "id": "5ea28c71",
   "metadata": {},
   "outputs": [
    {
     "name": "stdout",
     "output_type": "stream",
     "text": [
      "2853669    34900.0\n",
      "Name: price, dtype: float64\n"
     ]
    }
   ],
   "source": [
    "print(price)\n"
   ]
  },
  {
   "cell_type": "code",
   "execution_count": 13,
   "id": "b300705a",
   "metadata": {},
   "outputs": [],
   "source": [
    "# Sampled 50%\n",
    "\n",
    "# 40% threshold\n",
    "# Train MSE:  161769242.97192186\n",
    "# Test MSE:  141033085.0802493\n",
    "\n",
    "# 50% threshold\n",
    "# Train MSE:  148576831.2011206\n",
    "# Test MSE:  194019960.8040664"
   ]
  }
 ],
 "metadata": {
  "kernelspec": {
   "display_name": "Python 3 (ipykernel)",
   "language": "python",
   "name": "python3"
  },
  "language_info": {
   "codemirror_mode": {
    "name": "ipython",
    "version": 3
   },
   "file_extension": ".py",
   "mimetype": "text/x-python",
   "name": "python",
   "nbconvert_exporter": "python",
   "pygments_lexer": "ipython3",
   "version": "3.10.8"
  }
 },
 "nbformat": 4,
 "nbformat_minor": 5
}
