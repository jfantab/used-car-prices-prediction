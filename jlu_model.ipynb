{
 "cells": [
  {
   "cell_type": "markdown",
   "id": "04097885",
   "metadata": {},
   "source": [
    "Source: https://github.com/krishnaik06/Advanced-House-Price-Prediction-/blob/master/Feature%20Engineering.ipynb"
   ]
  },
  {
   "cell_type": "code",
   "execution_count": 1,
   "id": "c27e6dfa",
   "metadata": {},
   "outputs": [],
   "source": [
    "import time\n",
    "import numpy as np\n",
    "import pandas as pd\n",
    "import matplotlib.pyplot as plt\n",
    "from sklearn.preprocessing import StandardScaler\n",
    "from sklearn.model_selection import train_test_split\n",
    "from sklearn.linear_model import LinearRegression\n",
    "from sklearn.metrics import mean_squared_error"
   ]
  },
  {
   "cell_type": "markdown",
   "id": "581a2497",
   "metadata": {},
   "source": [
    "## Functions"
   ]
  },
  {
   "cell_type": "markdown",
   "id": "7ac1a1a6",
   "metadata": {},
   "source": [
    "#### Preprocessing"
   ]
  },
  {
   "cell_type": "code",
   "execution_count": 2,
   "id": "f66398c9",
   "metadata": {},
   "outputs": [],
   "source": [
    "def fillWithMean(col):\n",
    "    c = col.dropna(axis=0).tolist()\n",
    "    mean = np.mean(c)\n",
    "    \n",
    "    return [mean if pd.isnull(x) else x for x in col]"
   ]
  },
  {
   "cell_type": "code",
   "execution_count": 3,
   "id": "1be5dd80",
   "metadata": {},
   "outputs": [],
   "source": [
    "def fillWithMode(col):\n",
    "    col = col.tolist()\n",
    "    occ = dict()\n",
    "    \n",
    "    for val in col:\n",
    "        occ[val] = 0\n",
    "        \n",
    "    for val in col:\n",
    "        occ[val] += 1\n",
    "        \n",
    "    occ = list(sorted(occ.items(), key=lambda x: x[1], reverse=True))\n",
    "        \n",
    "    return [occ[0][0] if pd.isnull(x) else x for x in col]"
   ]
  },
  {
   "cell_type": "code",
   "execution_count": 4,
   "id": "4cbcd817",
   "metadata": {},
   "outputs": [],
   "source": [
    "def convertBool(col):\n",
    "    col = col.tolist()\n",
    "    for index in range(len(col)):\n",
    "        if pd.isnull(col[index]) or not col[index]:\n",
    "            col[index] = 0\n",
    "        else:\n",
    "            col[index] = 1\n",
    "\n",
    "    return col"
   ]
  },
  {
   "cell_type": "code",
   "execution_count": 5,
   "id": "d9cf2e90",
   "metadata": {},
   "outputs": [],
   "source": [
    "def rescaleNumericalValues(col):\n",
    "    col = np.array(col.tolist()).reshape(-1,1)\n",
    "    ss = StandardScaler()\n",
    "    return ss.fit_transform(col).reshape(-1)"
   ]
  },
  {
   "cell_type": "code",
   "execution_count": 6,
   "id": "6c21af39",
   "metadata": {},
   "outputs": [],
   "source": [
    "def encodeCategoricalValues(col):\n",
    "    col = col.tolist()\n",
    "    \n",
    "    mapping = dict()\n",
    "    s = set(col)\n",
    "    \n",
    "    i = 0\n",
    "    for val in s:\n",
    "        mapping[val] = i\n",
    "        i += 1\n",
    "    \n",
    "    l = []\n",
    "    \n",
    "    for val in col:\n",
    "        l.append(mapping[val])\n",
    "    \n",
    "    return l"
   ]
  },
  {
   "cell_type": "code",
   "execution_count": 7,
   "id": "3490d680",
   "metadata": {},
   "outputs": [],
   "source": [
    "def processYears(yrs):\n",
    "    # These variables can be tweaked\n",
    "    startYear = 1960\n",
    "    endYear = 2010\n",
    "    \n",
    "    yrs = df[\"year\"].tolist()\n",
    "    yrs = list(map(lambda x: x - startYear, yrs))\n",
    "    yrs = list(map(lambda x: max(x, 0), yrs))\n",
    "\n",
    "    return yrs"
   ]
  },
  {
   "cell_type": "markdown",
   "id": "0b141af6",
   "metadata": {},
   "source": [
    "#### Algorithms"
   ]
  },
  {
   "cell_type": "code",
   "execution_count": 8,
   "id": "8c6157f6",
   "metadata": {},
   "outputs": [],
   "source": [
    "def predictPrice(X_train, X_test, Y_train, Y_test):\n",
    "    linReg = LinearRegression().fit(X_train, Y_train)\n",
    "    \n",
    "    train_pred = linReg.predict(X_train)\n",
    "    test_pred = linReg.predict(X_test)\n",
    "    \n",
    "    print(\"Train MSE: \", mean_squared_error(Y_train, train_pred))\n",
    "    print(\"Test MSE: \", mean_squared_error(Y_test, test_pred))"
   ]
  },
  {
   "cell_type": "markdown",
   "id": "739ea7c1",
   "metadata": {},
   "source": [
    "## Code"
   ]
  },
  {
   "cell_type": "code",
   "execution_count": 9,
   "id": "efc3a412",
   "metadata": {},
   "outputs": [
    {
     "name": "stderr",
     "output_type": "stream",
     "text": [
      "/var/folders/kb/75nzr_1n56s5_rw0zrhwqhp00000gn/T/ipykernel_61382/1749011710.py:2: DtypeWarning: Columns (11) have mixed types. Specify dtype option on import or set low_memory=False.\n",
      "  original_df = pd.read_csv('used_cars_data.csv')\n"
     ]
    },
    {
     "name": "stdout",
     "output_type": "stream",
     "text": [
      "Time taken:  187.26581501960754\n"
     ]
    }
   ],
   "source": [
    "begin = time.time()\n",
    "original_df = pd.read_csv('used_cars_data.csv')\n",
    "end = time.time()\n",
    "\n",
    "print(\"Time taken: \", end - begin)"
   ]
  },
  {
   "cell_type": "code",
   "execution_count": 46,
   "id": "a5965030",
   "metadata": {
    "scrolled": false
   },
   "outputs": [
    {
     "name": "stdout",
     "output_type": "stream",
     "text": [
      "Time taken:  618.5535287857056\n",
      "(900012, 66)\n"
     ]
    },
    {
     "data": {
      "text/html": [
       "<div>\n",
       "<style scoped>\n",
       "    .dataframe tbody tr th:only-of-type {\n",
       "        vertical-align: middle;\n",
       "    }\n",
       "\n",
       "    .dataframe tbody tr th {\n",
       "        vertical-align: top;\n",
       "    }\n",
       "\n",
       "    .dataframe thead th {\n",
       "        text-align: right;\n",
       "    }\n",
       "</style>\n",
       "<table border=\"1\" class=\"dataframe\">\n",
       "  <thead>\n",
       "    <tr style=\"text-align: right;\">\n",
       "      <th></th>\n",
       "      <th>vin</th>\n",
       "      <th>back_legroom</th>\n",
       "      <th>bed</th>\n",
       "      <th>bed_height</th>\n",
       "      <th>bed_length</th>\n",
       "      <th>body_type</th>\n",
       "      <th>cabin</th>\n",
       "      <th>city</th>\n",
       "      <th>city_fuel_economy</th>\n",
       "      <th>combine_fuel_economy</th>\n",
       "      <th>...</th>\n",
       "      <th>transmission</th>\n",
       "      <th>transmission_display</th>\n",
       "      <th>trimId</th>\n",
       "      <th>trim_name</th>\n",
       "      <th>vehicle_damage_category</th>\n",
       "      <th>wheel_system</th>\n",
       "      <th>wheel_system_display</th>\n",
       "      <th>wheelbase</th>\n",
       "      <th>width</th>\n",
       "      <th>year</th>\n",
       "    </tr>\n",
       "  </thead>\n",
       "  <tbody>\n",
       "    <tr>\n",
       "      <th>0</th>\n",
       "      <td>2FMHK6D80KBA13375</td>\n",
       "      <td>44.3 in</td>\n",
       "      <td>NaN</td>\n",
       "      <td>NaN</td>\n",
       "      <td>NaN</td>\n",
       "      <td>SUV / Crossover</td>\n",
       "      <td>NaN</td>\n",
       "      <td>City Of Industry</td>\n",
       "      <td>16.0</td>\n",
       "      <td>NaN</td>\n",
       "      <td>...</td>\n",
       "      <td>A</td>\n",
       "      <td>Automatic</td>\n",
       "      <td>t78248</td>\n",
       "      <td>Limited AWD</td>\n",
       "      <td>NaN</td>\n",
       "      <td>AWD</td>\n",
       "      <td>All-Wheel Drive</td>\n",
       "      <td>117.9 in</td>\n",
       "      <td>88.8 in</td>\n",
       "      <td>2019</td>\n",
       "    </tr>\n",
       "    <tr>\n",
       "      <th>1</th>\n",
       "      <td>1FMSK7DH9LGC48217</td>\n",
       "      <td>39 in</td>\n",
       "      <td>NaN</td>\n",
       "      <td>NaN</td>\n",
       "      <td>NaN</td>\n",
       "      <td>SUV / Crossover</td>\n",
       "      <td>NaN</td>\n",
       "      <td>Sunnyvale</td>\n",
       "      <td>21.0</td>\n",
       "      <td>NaN</td>\n",
       "      <td>...</td>\n",
       "      <td>A</td>\n",
       "      <td>Automatic</td>\n",
       "      <td>t84880</td>\n",
       "      <td>XLT RWD</td>\n",
       "      <td>NaN</td>\n",
       "      <td>RWD</td>\n",
       "      <td>Rear-Wheel Drive</td>\n",
       "      <td>119.1 in</td>\n",
       "      <td>89.3 in</td>\n",
       "      <td>2020</td>\n",
       "    </tr>\n",
       "    <tr>\n",
       "      <th>2</th>\n",
       "      <td>1FADP3N24DL133685</td>\n",
       "      <td>33.2 in</td>\n",
       "      <td>NaN</td>\n",
       "      <td>NaN</td>\n",
       "      <td>NaN</td>\n",
       "      <td>Hatchback</td>\n",
       "      <td>NaN</td>\n",
       "      <td>Vacaville</td>\n",
       "      <td>26.0</td>\n",
       "      <td>NaN</td>\n",
       "      <td>...</td>\n",
       "      <td>M</td>\n",
       "      <td>5-Speed Manual</td>\n",
       "      <td>t44808</td>\n",
       "      <td>Titanium Hatchback</td>\n",
       "      <td>NaN</td>\n",
       "      <td>FWD</td>\n",
       "      <td>Front-Wheel Drive</td>\n",
       "      <td>104.3 in</td>\n",
       "      <td>71.8 in</td>\n",
       "      <td>2013</td>\n",
       "    </tr>\n",
       "    <tr>\n",
       "      <th>3</th>\n",
       "      <td>JF2GPADC5HH242530</td>\n",
       "      <td>35.4 in</td>\n",
       "      <td>NaN</td>\n",
       "      <td>NaN</td>\n",
       "      <td>NaN</td>\n",
       "      <td>SUV / Crossover</td>\n",
       "      <td>NaN</td>\n",
       "      <td>Butte</td>\n",
       "      <td>26.0</td>\n",
       "      <td>NaN</td>\n",
       "      <td>...</td>\n",
       "      <td>CVT</td>\n",
       "      <td>Continuously Variable Transmission</td>\n",
       "      <td>t69670</td>\n",
       "      <td>Premium</td>\n",
       "      <td>NaN</td>\n",
       "      <td>AWD</td>\n",
       "      <td>All-Wheel Drive</td>\n",
       "      <td>103.7 in</td>\n",
       "      <td>78.9 in</td>\n",
       "      <td>2017</td>\n",
       "    </tr>\n",
       "    <tr>\n",
       "      <th>4</th>\n",
       "      <td>1GNSCTKL8MR114488</td>\n",
       "      <td>42 in</td>\n",
       "      <td>NaN</td>\n",
       "      <td>NaN</td>\n",
       "      <td>NaN</td>\n",
       "      <td>SUV / Crossover</td>\n",
       "      <td>NaN</td>\n",
       "      <td>Mcallen</td>\n",
       "      <td>15.0</td>\n",
       "      <td>NaN</td>\n",
       "      <td>...</td>\n",
       "      <td>A</td>\n",
       "      <td>Automatic</td>\n",
       "      <td>t91866</td>\n",
       "      <td>High Country RWD</td>\n",
       "      <td>NaN</td>\n",
       "      <td>4X2</td>\n",
       "      <td>4X2</td>\n",
       "      <td>120.9 in</td>\n",
       "      <td>81 in</td>\n",
       "      <td>2021</td>\n",
       "    </tr>\n",
       "  </tbody>\n",
       "</table>\n",
       "<p>5 rows × 66 columns</p>\n",
       "</div>"
      ],
      "text/plain": [
       "                 vin back_legroom  bed bed_height bed_length        body_type  \\\n",
       "0  2FMHK6D80KBA13375      44.3 in  NaN        NaN        NaN  SUV / Crossover   \n",
       "1  1FMSK7DH9LGC48217        39 in  NaN        NaN        NaN  SUV / Crossover   \n",
       "2  1FADP3N24DL133685      33.2 in  NaN        NaN        NaN        Hatchback   \n",
       "3  JF2GPADC5HH242530      35.4 in  NaN        NaN        NaN  SUV / Crossover   \n",
       "4  1GNSCTKL8MR114488        42 in  NaN        NaN        NaN  SUV / Crossover   \n",
       "\n",
       "  cabin              city  city_fuel_economy  combine_fuel_economy  ...  \\\n",
       "0   NaN  City Of Industry               16.0                   NaN  ...   \n",
       "1   NaN         Sunnyvale               21.0                   NaN  ...   \n",
       "2   NaN         Vacaville               26.0                   NaN  ...   \n",
       "3   NaN             Butte               26.0                   NaN  ...   \n",
       "4   NaN           Mcallen               15.0                   NaN  ...   \n",
       "\n",
       "   transmission                transmission_display  trimId  \\\n",
       "0             A                           Automatic  t78248   \n",
       "1             A                           Automatic  t84880   \n",
       "2             M                      5-Speed Manual  t44808   \n",
       "3           CVT  Continuously Variable Transmission  t69670   \n",
       "4             A                           Automatic  t91866   \n",
       "\n",
       "            trim_name  vehicle_damage_category wheel_system  \\\n",
       "0         Limited AWD                      NaN          AWD   \n",
       "1             XLT RWD                      NaN          RWD   \n",
       "2  Titanium Hatchback                      NaN          FWD   \n",
       "3             Premium                      NaN          AWD   \n",
       "4    High Country RWD                      NaN          4X2   \n",
       "\n",
       "  wheel_system_display wheelbase    width  year  \n",
       "0      All-Wheel Drive  117.9 in  88.8 in  2019  \n",
       "1     Rear-Wheel Drive  119.1 in  89.3 in  2020  \n",
       "2    Front-Wheel Drive  104.3 in  71.8 in  2013  \n",
       "3      All-Wheel Drive  103.7 in  78.9 in  2017  \n",
       "4                  4X2  120.9 in    81 in  2021  \n",
       "\n",
       "[5 rows x 66 columns]"
      ]
     },
     "execution_count": 46,
     "metadata": {},
     "output_type": "execute_result"
    }
   ],
   "source": [
    "# Sample a portion of the rows\n",
    "\n",
    "begin = time.time()\n",
    "df = original_df.sample(frac=0.30, replace=False, ignore_index=True)\n",
    "end = time.time()\n",
    "\n",
    "print(\"Time taken: \", end - begin)\n",
    "\n",
    "print(df.shape)\n",
    "df.head()"
   ]
  },
  {
   "cell_type": "markdown",
   "id": "dab4979a",
   "metadata": {},
   "source": [
    "#### Initial cleaning"
   ]
  },
  {
   "cell_type": "code",
   "execution_count": 47,
   "id": "856437c0",
   "metadata": {},
   "outputs": [
    {
     "name": "stdout",
     "output_type": "stream",
     "text": [
      "(900009, 66)\n"
     ]
    }
   ],
   "source": [
    "# Remove rows with duplicate vehicle id numbers\n",
    "\n",
    "df.drop_duplicates(subset=[\"vin\"], inplace=True)\n",
    "print(df.shape)"
   ]
  },
  {
   "cell_type": "code",
   "execution_count": 49,
   "id": "d7895ead",
   "metadata": {},
   "outputs": [
    {
     "name": "stdout",
     "output_type": "stream",
     "text": [
      "(900009, 6)\n"
     ]
    },
    {
     "data": {
      "text/html": [
       "<div>\n",
       "<style scoped>\n",
       "    .dataframe tbody tr th:only-of-type {\n",
       "        vertical-align: middle;\n",
       "    }\n",
       "\n",
       "    .dataframe tbody tr th {\n",
       "        vertical-align: top;\n",
       "    }\n",
       "\n",
       "    .dataframe thead th {\n",
       "        text-align: right;\n",
       "    }\n",
       "</style>\n",
       "<table border=\"1\" class=\"dataframe\">\n",
       "  <thead>\n",
       "    <tr style=\"text-align: right;\">\n",
       "      <th></th>\n",
       "      <th>engine_type</th>\n",
       "      <th>fuel_type</th>\n",
       "      <th>model_name</th>\n",
       "      <th>wheel_system</th>\n",
       "      <th>horsepower</th>\n",
       "      <th>price</th>\n",
       "    </tr>\n",
       "  </thead>\n",
       "  <tbody>\n",
       "    <tr>\n",
       "      <th>0</th>\n",
       "      <td>V6</td>\n",
       "      <td>Gasoline</td>\n",
       "      <td>Flex</td>\n",
       "      <td>AWD</td>\n",
       "      <td>287.0</td>\n",
       "      <td>23995.0</td>\n",
       "    </tr>\n",
       "    <tr>\n",
       "      <th>1</th>\n",
       "      <td>I4</td>\n",
       "      <td>Gasoline</td>\n",
       "      <td>Explorer</td>\n",
       "      <td>RWD</td>\n",
       "      <td>300.0</td>\n",
       "      <td>42310.0</td>\n",
       "    </tr>\n",
       "    <tr>\n",
       "      <th>2</th>\n",
       "      <td>I4 Flex Fuel Vehicle</td>\n",
       "      <td>Flex Fuel Vehicle</td>\n",
       "      <td>Focus</td>\n",
       "      <td>FWD</td>\n",
       "      <td>160.0</td>\n",
       "      <td>11994.0</td>\n",
       "    </tr>\n",
       "    <tr>\n",
       "      <th>3</th>\n",
       "      <td>H4</td>\n",
       "      <td>Gasoline</td>\n",
       "      <td>Crosstrek</td>\n",
       "      <td>AWD</td>\n",
       "      <td>148.0</td>\n",
       "      <td>23995.0</td>\n",
       "    </tr>\n",
       "    <tr>\n",
       "      <th>4</th>\n",
       "      <td>V8</td>\n",
       "      <td>Gasoline</td>\n",
       "      <td>Tahoe</td>\n",
       "      <td>4X2</td>\n",
       "      <td>420.0</td>\n",
       "      <td>78094.0</td>\n",
       "    </tr>\n",
       "  </tbody>\n",
       "</table>\n",
       "</div>"
      ],
      "text/plain": [
       "            engine_type          fuel_type model_name wheel_system  \\\n",
       "0                    V6           Gasoline       Flex          AWD   \n",
       "1                    I4           Gasoline   Explorer          RWD   \n",
       "2  I4 Flex Fuel Vehicle  Flex Fuel Vehicle      Focus          FWD   \n",
       "3                    H4           Gasoline  Crosstrek          AWD   \n",
       "4                    V8           Gasoline      Tahoe          4X2   \n",
       "\n",
       "   horsepower    price  \n",
       "0       287.0  23995.0  \n",
       "1       300.0  42310.0  \n",
       "2       160.0  11994.0  \n",
       "3       148.0  23995.0  \n",
       "4       420.0  78094.0  "
      ]
     },
     "execution_count": 49,
     "metadata": {},
     "output_type": "execute_result"
    }
   ],
   "source": [
    "# Take subset of columns\n",
    "cols_subset = [\"engine_type\", \"fuel_type\", \"model_name\", \"wheel_system\", \"horsepower\", \"price\"]\n",
    "df = df[cols_subset]\n",
    "print(df.shape)\n",
    "df.head()"
   ]
  },
  {
   "cell_type": "code",
   "execution_count": 50,
   "id": "245d713b",
   "metadata": {},
   "outputs": [
    {
     "name": "stdout",
     "output_type": "stream",
     "text": [
      "(900009, 6)\n"
     ]
    },
    {
     "data": {
      "text/html": [
       "<div>\n",
       "<style scoped>\n",
       "    .dataframe tbody tr th:only-of-type {\n",
       "        vertical-align: middle;\n",
       "    }\n",
       "\n",
       "    .dataframe tbody tr th {\n",
       "        vertical-align: top;\n",
       "    }\n",
       "\n",
       "    .dataframe thead th {\n",
       "        text-align: right;\n",
       "    }\n",
       "</style>\n",
       "<table border=\"1\" class=\"dataframe\">\n",
       "  <thead>\n",
       "    <tr style=\"text-align: right;\">\n",
       "      <th></th>\n",
       "      <th>engine_type</th>\n",
       "      <th>fuel_type</th>\n",
       "      <th>model_name</th>\n",
       "      <th>wheel_system</th>\n",
       "      <th>horsepower</th>\n",
       "      <th>price</th>\n",
       "    </tr>\n",
       "  </thead>\n",
       "  <tbody>\n",
       "    <tr>\n",
       "      <th>0</th>\n",
       "      <td>V6</td>\n",
       "      <td>Gasoline</td>\n",
       "      <td>Flex</td>\n",
       "      <td>AWD</td>\n",
       "      <td>287.0</td>\n",
       "      <td>23995.0</td>\n",
       "    </tr>\n",
       "    <tr>\n",
       "      <th>1</th>\n",
       "      <td>I4</td>\n",
       "      <td>Gasoline</td>\n",
       "      <td>Explorer</td>\n",
       "      <td>RWD</td>\n",
       "      <td>300.0</td>\n",
       "      <td>42310.0</td>\n",
       "    </tr>\n",
       "    <tr>\n",
       "      <th>2</th>\n",
       "      <td>I4 Flex Fuel Vehicle</td>\n",
       "      <td>Flex Fuel Vehicle</td>\n",
       "      <td>Focus</td>\n",
       "      <td>FWD</td>\n",
       "      <td>160.0</td>\n",
       "      <td>11994.0</td>\n",
       "    </tr>\n",
       "    <tr>\n",
       "      <th>3</th>\n",
       "      <td>H4</td>\n",
       "      <td>Gasoline</td>\n",
       "      <td>Crosstrek</td>\n",
       "      <td>AWD</td>\n",
       "      <td>148.0</td>\n",
       "      <td>23995.0</td>\n",
       "    </tr>\n",
       "    <tr>\n",
       "      <th>4</th>\n",
       "      <td>V8</td>\n",
       "      <td>Gasoline</td>\n",
       "      <td>Tahoe</td>\n",
       "      <td>4X2</td>\n",
       "      <td>420.0</td>\n",
       "      <td>78094.0</td>\n",
       "    </tr>\n",
       "  </tbody>\n",
       "</table>\n",
       "</div>"
      ],
      "text/plain": [
       "            engine_type          fuel_type model_name wheel_system  \\\n",
       "0                    V6           Gasoline       Flex          AWD   \n",
       "1                    I4           Gasoline   Explorer          RWD   \n",
       "2  I4 Flex Fuel Vehicle  Flex Fuel Vehicle      Focus          FWD   \n",
       "3                    H4           Gasoline  Crosstrek          AWD   \n",
       "4                    V8           Gasoline      Tahoe          4X2   \n",
       "\n",
       "   horsepower    price  \n",
       "0       287.0  23995.0  \n",
       "1       300.0  42310.0  \n",
       "2       160.0  11994.0  \n",
       "3       148.0  23995.0  \n",
       "4       420.0  78094.0  "
      ]
     },
     "execution_count": 50,
     "metadata": {},
     "output_type": "execute_result"
    }
   ],
   "source": [
    "# Remove columns with all NaN's\n",
    "df = df.dropna(axis=1, how='all')\n",
    "print(df.shape)\n",
    "df.head()"
   ]
  },
  {
   "cell_type": "markdown",
   "id": "37da1522",
   "metadata": {},
   "source": [
    "#### Process columns with years"
   ]
  },
  {
   "cell_type": "code",
   "execution_count": 51,
   "id": "de0aa608",
   "metadata": {
    "scrolled": false
   },
   "outputs": [],
   "source": [
    "if \"year\" in df.columns:\n",
    "    indices = []\n",
    "    for index, ele in enumerate(df[\"year\"]):\n",
    "        if pd.isnull(ele):\n",
    "            indices.append(index)\n",
    "\n",
    "    print(df.shape)\n",
    "    df = df.drop(labels=indices, axis=0)\n",
    "    print(df.shape)\n",
    "\n",
    "    df[\"year\"] = processYears(df[\"year\"])\n",
    "\n",
    "    df.head()"
   ]
  },
  {
   "cell_type": "markdown",
   "id": "34ed2a34",
   "metadata": {},
   "source": [
    "#### Standardize columns of differing data types"
   ]
  },
  {
   "cell_type": "code",
   "execution_count": 52,
   "id": "69064886",
   "metadata": {
    "scrolled": true
   },
   "outputs": [
    {
     "data": {
      "text/html": [
       "<div>\n",
       "<style scoped>\n",
       "    .dataframe tbody tr th:only-of-type {\n",
       "        vertical-align: middle;\n",
       "    }\n",
       "\n",
       "    .dataframe tbody tr th {\n",
       "        vertical-align: top;\n",
       "    }\n",
       "\n",
       "    .dataframe thead th {\n",
       "        text-align: right;\n",
       "    }\n",
       "</style>\n",
       "<table border=\"1\" class=\"dataframe\">\n",
       "  <thead>\n",
       "    <tr style=\"text-align: right;\">\n",
       "      <th></th>\n",
       "      <th>engine_type</th>\n",
       "      <th>fuel_type</th>\n",
       "      <th>model_name</th>\n",
       "      <th>wheel_system</th>\n",
       "      <th>horsepower</th>\n",
       "      <th>price</th>\n",
       "    </tr>\n",
       "  </thead>\n",
       "  <tbody>\n",
       "    <tr>\n",
       "      <th>0</th>\n",
       "      <td>1.344867</td>\n",
       "      <td>0.194912</td>\n",
       "      <td>0.729072</td>\n",
       "      <td>1.354393</td>\n",
       "      <td>0.443772</td>\n",
       "      <td>23995.0</td>\n",
       "    </tr>\n",
       "    <tr>\n",
       "      <th>1</th>\n",
       "      <td>-0.903425</td>\n",
       "      <td>0.194912</td>\n",
       "      <td>-0.987870</td>\n",
       "      <td>0.187116</td>\n",
       "      <td>0.591704</td>\n",
       "      <td>42310.0</td>\n",
       "    </tr>\n",
       "    <tr>\n",
       "      <th>2</th>\n",
       "      <td>-0.699035</td>\n",
       "      <td>-1.103901</td>\n",
       "      <td>0.067364</td>\n",
       "      <td>-0.980160</td>\n",
       "      <td>-1.001410</td>\n",
       "      <td>11994.0</td>\n",
       "    </tr>\n",
       "    <tr>\n",
       "      <th>3</th>\n",
       "      <td>1.004217</td>\n",
       "      <td>0.194912</td>\n",
       "      <td>1.376204</td>\n",
       "      <td>1.354393</td>\n",
       "      <td>-1.137962</td>\n",
       "      <td>23995.0</td>\n",
       "    </tr>\n",
       "    <tr>\n",
       "      <th>4</th>\n",
       "      <td>0.799827</td>\n",
       "      <td>0.194912</td>\n",
       "      <td>-0.608919</td>\n",
       "      <td>-0.396522</td>\n",
       "      <td>1.957230</td>\n",
       "      <td>78094.0</td>\n",
       "    </tr>\n",
       "  </tbody>\n",
       "</table>\n",
       "</div>"
      ],
      "text/plain": [
       "   engine_type  fuel_type  model_name  wheel_system  horsepower    price\n",
       "0     1.344867   0.194912    0.729072      1.354393    0.443772  23995.0\n",
       "1    -0.903425   0.194912   -0.987870      0.187116    0.591704  42310.0\n",
       "2    -0.699035  -1.103901    0.067364     -0.980160   -1.001410  11994.0\n",
       "3     1.004217   0.194912    1.376204      1.354393   -1.137962  23995.0\n",
       "4     0.799827   0.194912   -0.608919     -0.396522    1.957230  78094.0"
      ]
     },
     "execution_count": 52,
     "metadata": {},
     "output_type": "execute_result"
    }
   ],
   "source": [
    "for c in df.columns[:-1]:\n",
    "    item = df[c].dropna(axis=0).tolist()[0]\n",
    "    \n",
    "    if type(item) is str:\n",
    "        df[c] = fillWithMode(df[c])\n",
    "        df[c] = encodeCategoricalValues(df[c])\n",
    "    elif type(item) is bool:\n",
    "        df[c] = convertBool(df[c])\n",
    "    \n",
    "    df[c] = fillWithMean(df[c])\n",
    "    df[c] = rescaleNumericalValues(df[c])\n",
    "\n",
    "df.head()"
   ]
  },
  {
   "cell_type": "markdown",
   "id": "a50ff1d4",
   "metadata": {},
   "source": [
    "#### Run algorithm"
   ]
  },
  {
   "cell_type": "code",
   "execution_count": 53,
   "id": "145cdb20",
   "metadata": {
    "scrolled": true
   },
   "outputs": [
    {
     "name": "stdout",
     "output_type": "stream",
     "text": [
      "Train MSE:  277562544.3588832\n",
      "Test MSE:  259759581.85332206\n"
     ]
    }
   ],
   "source": [
    "cols = df.columns\n",
    "X_columns = cols[:-1]\n",
    "Y_column = cols[-1]\n",
    "\n",
    "X_train, X_test, Y_train, Y_test = train_test_split(df[X_columns].to_numpy(), df[Y_column].to_numpy(), test_size=0.2)\n",
    "\n",
    "predictPrice(X_train, X_test, Y_train, Y_test)"
   ]
  },
  {
   "cell_type": "code",
   "execution_count": null,
   "id": "4e8ec50a",
   "metadata": {},
   "outputs": [],
   "source": []
  }
 ],
 "metadata": {
  "kernelspec": {
   "display_name": "Python 3 (ipykernel)",
   "language": "python",
   "name": "python3"
  },
  "language_info": {
   "codemirror_mode": {
    "name": "ipython",
    "version": 3
   },
   "file_extension": ".py",
   "mimetype": "text/x-python",
   "name": "python",
   "nbconvert_exporter": "python",
   "pygments_lexer": "ipython3",
   "version": "3.9.13"
  }
 },
 "nbformat": 4,
 "nbformat_minor": 5
}
