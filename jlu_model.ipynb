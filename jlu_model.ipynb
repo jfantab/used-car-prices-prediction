{
 "cells": [
  {
   "cell_type": "markdown",
   "id": "04097885",
   "metadata": {},
   "source": [
    "Source: https://github.com/krishnaik06/Advanced-House-Price-Prediction-/blob/master/Feature%20Engineering.ipynb"
   ]
  },
  {
   "cell_type": "code",
   "execution_count": 11,
   "id": "c27e6dfa",
   "metadata": {},
   "outputs": [],
   "source": [
    "import time\n",
    "import numpy as np\n",
    "import pandas as pd\n",
    "import matplotlib.pyplot as plt\n",
    "from sklearn.model_selection import train_test_split, cross_validate\n",
    "from sklearn.linear_model import LinearRegression, Lasso, ElasticNet\n",
    "from sklearn.metrics import mean_squared_error\n",
    "\n",
    "# Imports preprocessing functions\n",
    "%run ./jlu_preprocessing.ipynb"
   ]
  },
  {
   "cell_type": "markdown",
   "id": "581a2497",
   "metadata": {},
   "source": [
    "## Functions"
   ]
  },
  {
   "cell_type": "markdown",
   "id": "0b141af6",
   "metadata": {},
   "source": [
    "#### Algorithms"
   ]
  },
  {
   "cell_type": "code",
   "execution_count": 156,
   "id": "f23bcfb7",
   "metadata": {},
   "outputs": [],
   "source": [
    "def crossVal(model, data, labels):\n",
    "    folds = 10\n",
    "    cv = cross_validate(model, data, labels, cv=folds, n_jobs=-1, scoring='neg_mean_squared_error', error_score='raise')\n",
    "    \n",
    "    test_scores = cv['test_score']\n",
    "    test_scores = [-1 * s for s in test_scores]\n",
    "    \n",
    "    plt.plot(test_scores)\n",
    "    plt.show()\n",
    "\n",
    "    return cv"
   ]
  },
  {
   "cell_type": "code",
   "execution_count": 127,
   "id": "8c6157f6",
   "metadata": {},
   "outputs": [],
   "source": [
    "def predictPrice(X_train, X_test, Y_train, Y_test):\n",
    "# - - - - Models - - - -\n",
    "    # model = LinearRegression()\n",
    "    # model = Lasso(alpha=0.5, selection='random', max_iter=2000)\n",
    "    model = ElasticNet()\n",
    "    \n",
    "# - - - - Cross Validation - - - -\n",
    "    # cv = crossVal(model, X_train, Y_train)\n",
    "    \n",
    "# - - - - Fit and Predict - - - -\n",
    "    clf = model.fit(X_train, Y_train)\n",
    "    train_pred = clf.predict(X_train)\n",
    "    test_pred = clf.predict(X_test)\n",
    "    \n",
    "    print(\"Train MSE: \", mean_squared_error(Y_train, train_pred))\n",
    "    print(\"Test MSE: \", mean_squared_error(Y_test, test_pred))"
   ]
  },
  {
   "cell_type": "markdown",
   "id": "739ea7c1",
   "metadata": {},
   "source": [
    "## Code"
   ]
  },
  {
   "cell_type": "markdown",
   "id": "0341598b",
   "metadata": {},
   "source": [
    "#### Read file and extract random sample"
   ]
  },
  {
   "cell_type": "code",
   "execution_count": 15,
   "id": "efc3a412",
   "metadata": {
    "scrolled": false
   },
   "outputs": [
    {
     "name": "stderr",
     "output_type": "stream",
     "text": [
      "/var/folders/kb/75nzr_1n56s5_rw0zrhwqhp00000gn/T/ipykernel_21487/1749011710.py:2: DtypeWarning: Columns (11) have mixed types. Specify dtype option on import or set low_memory=False.\n",
      "  original_df = pd.read_csv('used_cars_data.csv')\n"
     ]
    },
    {
     "name": "stdout",
     "output_type": "stream",
     "text": [
      "Time taken:  159.57951092720032\n"
     ]
    }
   ],
   "source": [
    "begin = time.time()\n",
    "original_df = pd.read_csv('used_cars_data.csv')\n",
    "end = time.time()\n",
    "\n",
    "print(\"Time taken: \", end - begin)"
   ]
  },
  {
   "cell_type": "code",
   "execution_count": 115,
   "id": "a5965030",
   "metadata": {
    "scrolled": true
   },
   "outputs": [
    {
     "name": "stdout",
     "output_type": "stream",
     "text": [
      "Time taken:  346.4549081325531\n"
     ]
    }
   ],
   "source": [
    "# Sample a portion of the rows\n",
    "\n",
    "PERCENT = 0.60\n",
    "\n",
    "begin = time.time()\n",
    "sampled_df = original_df.sample(frac=PERCENT, replace=False, ignore_index=True)\n",
    "end = time.time()\n",
    "\n",
    "print(\"Time taken: \", end - begin)"
   ]
  },
  {
   "cell_type": "code",
   "execution_count": 116,
   "id": "675df70e",
   "metadata": {},
   "outputs": [
    {
     "name": "stdout",
     "output_type": "stream",
     "text": [
      "(1800024, 66)\n"
     ]
    },
    {
     "data": {
      "text/html": [
       "<div>\n",
       "<style scoped>\n",
       "    .dataframe tbody tr th:only-of-type {\n",
       "        vertical-align: middle;\n",
       "    }\n",
       "\n",
       "    .dataframe tbody tr th {\n",
       "        vertical-align: top;\n",
       "    }\n",
       "\n",
       "    .dataframe thead th {\n",
       "        text-align: right;\n",
       "    }\n",
       "</style>\n",
       "<table border=\"1\" class=\"dataframe\">\n",
       "  <thead>\n",
       "    <tr style=\"text-align: right;\">\n",
       "      <th></th>\n",
       "      <th>vin</th>\n",
       "      <th>back_legroom</th>\n",
       "      <th>bed</th>\n",
       "      <th>bed_height</th>\n",
       "      <th>bed_length</th>\n",
       "      <th>body_type</th>\n",
       "      <th>cabin</th>\n",
       "      <th>city</th>\n",
       "      <th>city_fuel_economy</th>\n",
       "      <th>combine_fuel_economy</th>\n",
       "      <th>...</th>\n",
       "      <th>transmission</th>\n",
       "      <th>transmission_display</th>\n",
       "      <th>trimId</th>\n",
       "      <th>trim_name</th>\n",
       "      <th>vehicle_damage_category</th>\n",
       "      <th>wheel_system</th>\n",
       "      <th>wheel_system_display</th>\n",
       "      <th>wheelbase</th>\n",
       "      <th>width</th>\n",
       "      <th>year</th>\n",
       "    </tr>\n",
       "  </thead>\n",
       "  <tbody>\n",
       "    <tr>\n",
       "      <th>0</th>\n",
       "      <td>3GNAXNEV4LS528047</td>\n",
       "      <td>39.9 in</td>\n",
       "      <td>NaN</td>\n",
       "      <td>NaN</td>\n",
       "      <td>NaN</td>\n",
       "      <td>SUV / Crossover</td>\n",
       "      <td>NaN</td>\n",
       "      <td>Randolph</td>\n",
       "      <td>NaN</td>\n",
       "      <td>NaN</td>\n",
       "      <td>...</td>\n",
       "      <td>A</td>\n",
       "      <td>6-Speed Automatic Overdrive</td>\n",
       "      <td>t85754</td>\n",
       "      <td>1.5T Premier FWD</td>\n",
       "      <td>NaN</td>\n",
       "      <td>FWD</td>\n",
       "      <td>Front-Wheel Drive</td>\n",
       "      <td>107.3 in</td>\n",
       "      <td>72.6 in</td>\n",
       "      <td>2020</td>\n",
       "    </tr>\n",
       "    <tr>\n",
       "      <th>1</th>\n",
       "      <td>2HKRW2H24LH656216</td>\n",
       "      <td>40.4 in</td>\n",
       "      <td>NaN</td>\n",
       "      <td>NaN</td>\n",
       "      <td>NaN</td>\n",
       "      <td>SUV / Crossover</td>\n",
       "      <td>NaN</td>\n",
       "      <td>Edison</td>\n",
       "      <td>27.0</td>\n",
       "      <td>NaN</td>\n",
       "      <td>...</td>\n",
       "      <td>CVT</td>\n",
       "      <td>Continuously Variable Transmission</td>\n",
       "      <td>t89601</td>\n",
       "      <td>LX AWD</td>\n",
       "      <td>NaN</td>\n",
       "      <td>AWD</td>\n",
       "      <td>All-Wheel Drive</td>\n",
       "      <td>104.7 in</td>\n",
       "      <td>73 in</td>\n",
       "      <td>2020</td>\n",
       "    </tr>\n",
       "    <tr>\n",
       "      <th>2</th>\n",
       "      <td>KNAFX5A88G5513661</td>\n",
       "      <td>35.9 in</td>\n",
       "      <td>NaN</td>\n",
       "      <td>NaN</td>\n",
       "      <td>NaN</td>\n",
       "      <td>Hatchback</td>\n",
       "      <td>NaN</td>\n",
       "      <td>Allentown</td>\n",
       "      <td>25.0</td>\n",
       "      <td>NaN</td>\n",
       "      <td>...</td>\n",
       "      <td>A</td>\n",
       "      <td>6-Speed Automatic</td>\n",
       "      <td>t59277</td>\n",
       "      <td>EX</td>\n",
       "      <td>NaN</td>\n",
       "      <td>FWD</td>\n",
       "      <td>Front-Wheel Drive</td>\n",
       "      <td>106.3 in</td>\n",
       "      <td>70.1 in</td>\n",
       "      <td>2016</td>\n",
       "    </tr>\n",
       "    <tr>\n",
       "      <th>3</th>\n",
       "      <td>19XZE4F53ME003605</td>\n",
       "      <td>37.4 in</td>\n",
       "      <td>NaN</td>\n",
       "      <td>NaN</td>\n",
       "      <td>NaN</td>\n",
       "      <td>Sedan</td>\n",
       "      <td>NaN</td>\n",
       "      <td>Auburn</td>\n",
       "      <td>55.0</td>\n",
       "      <td>NaN</td>\n",
       "      <td>...</td>\n",
       "      <td>CVT</td>\n",
       "      <td>Continuously Variable Transmission</td>\n",
       "      <td>t93078</td>\n",
       "      <td>EX FWD</td>\n",
       "      <td>NaN</td>\n",
       "      <td>FWD</td>\n",
       "      <td>Front-Wheel Drive</td>\n",
       "      <td>106.3 in</td>\n",
       "      <td>71.6 in</td>\n",
       "      <td>2021</td>\n",
       "    </tr>\n",
       "    <tr>\n",
       "      <th>4</th>\n",
       "      <td>KM8J33AL2MU310330</td>\n",
       "      <td>38.2 in</td>\n",
       "      <td>NaN</td>\n",
       "      <td>NaN</td>\n",
       "      <td>NaN</td>\n",
       "      <td>SUV / Crossover</td>\n",
       "      <td>NaN</td>\n",
       "      <td>Punta Gorda</td>\n",
       "      <td>NaN</td>\n",
       "      <td>NaN</td>\n",
       "      <td>...</td>\n",
       "      <td>A</td>\n",
       "      <td>Automatic</td>\n",
       "      <td>t93998</td>\n",
       "      <td>SEL FWD</td>\n",
       "      <td>NaN</td>\n",
       "      <td>NaN</td>\n",
       "      <td>NaN</td>\n",
       "      <td>105.1 in</td>\n",
       "      <td>72.8 in</td>\n",
       "      <td>2021</td>\n",
       "    </tr>\n",
       "  </tbody>\n",
       "</table>\n",
       "<p>5 rows × 66 columns</p>\n",
       "</div>"
      ],
      "text/plain": [
       "                 vin back_legroom  bed bed_height bed_length        body_type  \\\n",
       "0  3GNAXNEV4LS528047      39.9 in  NaN        NaN        NaN  SUV / Crossover   \n",
       "1  2HKRW2H24LH656216      40.4 in  NaN        NaN        NaN  SUV / Crossover   \n",
       "2  KNAFX5A88G5513661      35.9 in  NaN        NaN        NaN        Hatchback   \n",
       "3  19XZE4F53ME003605      37.4 in  NaN        NaN        NaN            Sedan   \n",
       "4  KM8J33AL2MU310330      38.2 in  NaN        NaN        NaN  SUV / Crossover   \n",
       "\n",
       "  cabin         city  city_fuel_economy  combine_fuel_economy  ...  \\\n",
       "0   NaN     Randolph                NaN                   NaN  ...   \n",
       "1   NaN       Edison               27.0                   NaN  ...   \n",
       "2   NaN    Allentown               25.0                   NaN  ...   \n",
       "3   NaN       Auburn               55.0                   NaN  ...   \n",
       "4   NaN  Punta Gorda                NaN                   NaN  ...   \n",
       "\n",
       "   transmission                transmission_display  trimId         trim_name  \\\n",
       "0             A         6-Speed Automatic Overdrive  t85754  1.5T Premier FWD   \n",
       "1           CVT  Continuously Variable Transmission  t89601            LX AWD   \n",
       "2             A                   6-Speed Automatic  t59277                EX   \n",
       "3           CVT  Continuously Variable Transmission  t93078            EX FWD   \n",
       "4             A                           Automatic  t93998           SEL FWD   \n",
       "\n",
       "   vehicle_damage_category wheel_system wheel_system_display wheelbase  \\\n",
       "0                      NaN          FWD    Front-Wheel Drive  107.3 in   \n",
       "1                      NaN          AWD      All-Wheel Drive  104.7 in   \n",
       "2                      NaN          FWD    Front-Wheel Drive  106.3 in   \n",
       "3                      NaN          FWD    Front-Wheel Drive  106.3 in   \n",
       "4                      NaN          NaN                  NaN  105.1 in   \n",
       "\n",
       "     width  year  \n",
       "0  72.6 in  2020  \n",
       "1    73 in  2020  \n",
       "2  70.1 in  2016  \n",
       "3  71.6 in  2021  \n",
       "4  72.8 in  2021  \n",
       "\n",
       "[5 rows x 66 columns]"
      ]
     },
     "execution_count": 116,
     "metadata": {},
     "output_type": "execute_result"
    }
   ],
   "source": [
    "df = sampled_df\n",
    "\n",
    "print(df.shape)\n",
    "df.head()"
   ]
  },
  {
   "cell_type": "markdown",
   "id": "dab4979a",
   "metadata": {},
   "source": [
    "#### Initial cleaning"
   ]
  },
  {
   "cell_type": "code",
   "execution_count": 117,
   "id": "856437c0",
   "metadata": {},
   "outputs": [
    {
     "name": "stdout",
     "output_type": "stream",
     "text": [
      "(1800009, 56)\n"
     ]
    }
   ],
   "source": [
    "df, price_col = cleanColumnsAndRows(df)"
   ]
  },
  {
   "cell_type": "markdown",
   "id": "34ed2a34",
   "metadata": {},
   "source": [
    "#### Standardize columns of differing data types"
   ]
  },
  {
   "cell_type": "code",
   "execution_count": 118,
   "id": "69064886",
   "metadata": {
    "scrolled": false
   },
   "outputs": [
    {
     "name": "stdout",
     "output_type": "stream",
     "text": [
      "year\n"
     ]
    },
    {
     "data": {
      "text/html": [
       "<div>\n",
       "<style scoped>\n",
       "    .dataframe tbody tr th:only-of-type {\n",
       "        vertical-align: middle;\n",
       "    }\n",
       "\n",
       "    .dataframe tbody tr th {\n",
       "        vertical-align: top;\n",
       "    }\n",
       "\n",
       "    .dataframe thead th {\n",
       "        text-align: right;\n",
       "    }\n",
       "</style>\n",
       "<table border=\"1\" class=\"dataframe\">\n",
       "  <thead>\n",
       "    <tr style=\"text-align: right;\">\n",
       "      <th></th>\n",
       "      <th>back_legroom</th>\n",
       "      <th>body_type</th>\n",
       "      <th>city_fuel_economy</th>\n",
       "      <th>daysonmarket</th>\n",
       "      <th>engine_cylinders</th>\n",
       "      <th>engine_displacement</th>\n",
       "      <th>engine_type</th>\n",
       "      <th>exterior_color</th>\n",
       "      <th>fleet</th>\n",
       "      <th>frame_damaged</th>\n",
       "      <th>...</th>\n",
       "      <th>theft_title</th>\n",
       "      <th>torque</th>\n",
       "      <th>transmission</th>\n",
       "      <th>transmission_display</th>\n",
       "      <th>trim_name</th>\n",
       "      <th>wheel_system</th>\n",
       "      <th>wheel_system_display</th>\n",
       "      <th>wheelbase</th>\n",
       "      <th>width</th>\n",
       "      <th>year</th>\n",
       "    </tr>\n",
       "  </thead>\n",
       "  <tbody>\n",
       "    <tr>\n",
       "      <th>0</th>\n",
       "      <td>0.625959</td>\n",
       "      <td>0.096428</td>\n",
       "      <td>-0.175120</td>\n",
       "      <td>2.616579</td>\n",
       "      <td>-0.804030</td>\n",
       "      <td>-1.097455</td>\n",
       "      <td>-0.804030</td>\n",
       "      <td>0.148469</td>\n",
       "      <td>-0.354639</td>\n",
       "      <td>-0.070575</td>\n",
       "      <td>...</td>\n",
       "      <td>-0.041936</td>\n",
       "      <td>-0.801139</td>\n",
       "      <td>-0.401880</td>\n",
       "      <td>-1.470233</td>\n",
       "      <td>-2.265635</td>\n",
       "      <td>0.677207</td>\n",
       "      <td>0.703574</td>\n",
       "      <td>-0.619925</td>\n",
       "      <td>-0.741175</td>\n",
       "      <td>0.550208</td>\n",
       "    </tr>\n",
       "    <tr>\n",
       "      <th>1</th>\n",
       "      <td>0.761382</td>\n",
       "      <td>0.096428</td>\n",
       "      <td>0.567646</td>\n",
       "      <td>-0.174737</td>\n",
       "      <td>-0.804030</td>\n",
       "      <td>-1.097455</td>\n",
       "      <td>-0.804030</td>\n",
       "      <td>-0.040311</td>\n",
       "      <td>-0.354639</td>\n",
       "      <td>-0.070575</td>\n",
       "      <td>...</td>\n",
       "      <td>-0.041936</td>\n",
       "      <td>-1.071889</td>\n",
       "      <td>1.524392</td>\n",
       "      <td>0.772032</td>\n",
       "      <td>-0.064017</td>\n",
       "      <td>-0.134892</td>\n",
       "      <td>-1.260881</td>\n",
       "      <td>-0.855120</td>\n",
       "      <td>-0.678522</td>\n",
       "      <td>0.550208</td>\n",
       "    </tr>\n",
       "    <tr>\n",
       "      <th>2</th>\n",
       "      <td>-0.457424</td>\n",
       "      <td>-2.315788</td>\n",
       "      <td>0.320057</td>\n",
       "      <td>-0.698109</td>\n",
       "      <td>-0.804030</td>\n",
       "      <td>-0.716746</td>\n",
       "      <td>-0.804030</td>\n",
       "      <td>1.101997</td>\n",
       "      <td>-0.354639</td>\n",
       "      <td>-0.070575</td>\n",
       "      <td>...</td>\n",
       "      <td>-0.041936</td>\n",
       "      <td>-1.355710</td>\n",
       "      <td>-0.401880</td>\n",
       "      <td>-1.588247</td>\n",
       "      <td>-0.611357</td>\n",
       "      <td>0.677207</td>\n",
       "      <td>0.703574</td>\n",
       "      <td>-0.717923</td>\n",
       "      <td>-1.132755</td>\n",
       "      <td>-0.419465</td>\n",
       "    </tr>\n",
       "    <tr>\n",
       "      <th>3</th>\n",
       "      <td>-0.051155</td>\n",
       "      <td>0.900501</td>\n",
       "      <td>4.033884</td>\n",
       "      <td>-0.643017</td>\n",
       "      <td>-0.377139</td>\n",
       "      <td>-1.097455</td>\n",
       "      <td>-0.377139</td>\n",
       "      <td>1.538422</td>\n",
       "      <td>-0.354639</td>\n",
       "      <td>-0.070575</td>\n",
       "      <td>...</td>\n",
       "      <td>-0.041936</td>\n",
       "      <td>0.989549</td>\n",
       "      <td>1.524392</td>\n",
       "      <td>0.772032</td>\n",
       "      <td>-0.607585</td>\n",
       "      <td>0.677207</td>\n",
       "      <td>0.703574</td>\n",
       "      <td>-0.717923</td>\n",
       "      <td>-0.897807</td>\n",
       "      <td>0.792626</td>\n",
       "    </tr>\n",
       "    <tr>\n",
       "      <th>4</th>\n",
       "      <td>0.165521</td>\n",
       "      <td>0.096428</td>\n",
       "      <td>-0.175120</td>\n",
       "      <td>-0.688927</td>\n",
       "      <td>-0.804030</td>\n",
       "      <td>-0.336038</td>\n",
       "      <td>-0.804030</td>\n",
       "      <td>-0.692944</td>\n",
       "      <td>-0.354639</td>\n",
       "      <td>-0.070575</td>\n",
       "      <td>...</td>\n",
       "      <td>-0.041936</td>\n",
       "      <td>0.989549</td>\n",
       "      <td>-0.401880</td>\n",
       "      <td>0.654018</td>\n",
       "      <td>0.550268</td>\n",
       "      <td>0.677207</td>\n",
       "      <td>0.703574</td>\n",
       "      <td>-0.815920</td>\n",
       "      <td>-0.709849</td>\n",
       "      <td>0.792626</td>\n",
       "    </tr>\n",
       "  </tbody>\n",
       "</table>\n",
       "<p>5 rows × 40 columns</p>\n",
       "</div>"
      ],
      "text/plain": [
       "   back_legroom  body_type  city_fuel_economy  daysonmarket  engine_cylinders  \\\n",
       "0      0.625959   0.096428          -0.175120      2.616579         -0.804030   \n",
       "1      0.761382   0.096428           0.567646     -0.174737         -0.804030   \n",
       "2     -0.457424  -2.315788           0.320057     -0.698109         -0.804030   \n",
       "3     -0.051155   0.900501           4.033884     -0.643017         -0.377139   \n",
       "4      0.165521   0.096428          -0.175120     -0.688927         -0.804030   \n",
       "\n",
       "   engine_displacement  engine_type  exterior_color     fleet  frame_damaged  \\\n",
       "0            -1.097455    -0.804030        0.148469 -0.354639      -0.070575   \n",
       "1            -1.097455    -0.804030       -0.040311 -0.354639      -0.070575   \n",
       "2            -0.716746    -0.804030        1.101997 -0.354639      -0.070575   \n",
       "3            -1.097455    -0.377139        1.538422 -0.354639      -0.070575   \n",
       "4            -0.336038    -0.804030       -0.692944 -0.354639      -0.070575   \n",
       "\n",
       "   ...  theft_title    torque  transmission  transmission_display  trim_name  \\\n",
       "0  ...    -0.041936 -0.801139     -0.401880             -1.470233  -2.265635   \n",
       "1  ...    -0.041936 -1.071889      1.524392              0.772032  -0.064017   \n",
       "2  ...    -0.041936 -1.355710     -0.401880             -1.588247  -0.611357   \n",
       "3  ...    -0.041936  0.989549      1.524392              0.772032  -0.607585   \n",
       "4  ...    -0.041936  0.989549     -0.401880              0.654018   0.550268   \n",
       "\n",
       "   wheel_system  wheel_system_display  wheelbase     width      year  \n",
       "0      0.677207              0.703574  -0.619925 -0.741175  0.550208  \n",
       "1     -0.134892             -1.260881  -0.855120 -0.678522  0.550208  \n",
       "2      0.677207              0.703574  -0.717923 -1.132755 -0.419465  \n",
       "3      0.677207              0.703574  -0.717923 -0.897807  0.792626  \n",
       "4      0.677207              0.703574  -0.815920 -0.709849  0.792626  \n",
       "\n",
       "[5 rows x 40 columns]"
      ]
     },
     "execution_count": 118,
     "metadata": {},
     "output_type": "execute_result"
    }
   ],
   "source": [
    "df = convertColumnsToNumericalAndStandardize(df, standardizer)\n",
    "df.head()"
   ]
  },
  {
   "cell_type": "code",
   "execution_count": 119,
   "id": "6d893655",
   "metadata": {},
   "outputs": [],
   "source": [
    "prev_df = df"
   ]
  },
  {
   "cell_type": "markdown",
   "id": "7dcdaff7",
   "metadata": {},
   "source": [
    "## Testing"
   ]
  },
  {
   "cell_type": "code",
   "execution_count": 120,
   "id": "145cdb20",
   "metadata": {
    "scrolled": true
   },
   "outputs": [],
   "source": [
    "def runModel(df):\n",
    "    X_train, X_test, Y_train, Y_test = train_test_split(df, price_col, test_size=0.2)\n",
    "    predictPrice(X_train, X_test, Y_train, Y_test)"
   ]
  },
  {
   "cell_type": "code",
   "execution_count": 166,
   "id": "3dfb98be",
   "metadata": {},
   "outputs": [],
   "source": [
    "def tuneParams(data, labels, params):\n",
    "    folds = 5\n",
    "    scores = []\n",
    "    \n",
    "    for param in params:\n",
    "        # model = Lasso(alpha=param, selection='random') \n",
    "        # model = ElasticNet(alpha=0.2, l1_ratio=param)\n",
    "        model = ElasticNet(alpha=param)\n",
    "        cv = cross_validate(model, data, labels, cv=folds, scoring='neg_mean_squared_error', n_jobs=-1, error_score='raise')\n",
    "        \n",
    "        test_scores = cv['test_score']\n",
    "        test_scores = [-1 * s for s in test_scores]\n",
    "        \n",
    "        score = np.mean(test_scores)\n",
    "        scores.append(score)\n",
    "        \n",
    "        print(param, \" | \", score)\n",
    "    \n",
    "    plt.plot(params, scores)\n",
    "    plt.show()"
   ]
  },
  {
   "cell_type": "code",
   "execution_count": 167,
   "id": "e1403e2f",
   "metadata": {},
   "outputs": [
    {
     "name": "stdout",
     "output_type": "stream",
     "text": [
      "0.1  |  252691793.68269444\n",
      "0.2  |  232125447.93811122\n",
      "0.30000000000000004  |  223354644.17577505\n",
      "0.4  |  219267627.6231342\n",
      "0.5  |  217402025.05983815\n",
      "0.6  |  216716931.41773692\n",
      "0.7000000000000001  |  216708576.8563848\n",
      "0.8  |  217110083.43359727\n",
      "0.9  |  217768612.62911898\n",
      "1.0  |  218592155.66935545\n"
     ]
    },
    {
     "data": {
      "image/png": "[encoded data removed]",
      "text/plain": [
       "<Figure size 640x480 with 1 Axes>"
      ]
     },
     "metadata": {},
     "output_type": "display_data"
    }
   ],
   "source": [
    "# alpha params\n",
    "params = np.arange(0.1,1.1,0.1)\n",
    "tuneParams(df, price_col, params)"
   ]
  },
  {
   "cell_type": "code",
   "execution_count": 165,
   "id": "8cd6bfe6",
   "metadata": {},
   "outputs": [
    {
     "name": "stdout",
     "output_type": "stream",
     "text": [
      "0.1  |  252691793.68269444\n",
      "0.2  |  232125447.93811122\n",
      "0.30000000000000004  |  223354644.17577505\n",
      "0.4  |  219267627.6231342\n",
      "0.5  |  217402025.05983815\n",
      "0.6  |  216716931.41773692\n",
      "0.7000000000000001  |  216708576.8563848\n",
      "0.8  |  217110083.43359727\n",
      "0.9  |  217768612.62911898\n",
      "1.0  |  218592155.66935545\n"
     ]
    },
    {
     "data": {
      "image/png": "[encoded data removed]",
      "text/plain": [
       "<Figure size 640x480 with 1 Axes>"
      ]
     },
     "metadata": {},
     "output_type": "display_data"
    }
   ],
   "source": [
    "# l1 ratio params\n",
    "params = np.arange(0.1,1.1,0.1)\n",
    "tuneParams(df, price_col, params)"
   ]
  },
  {
   "cell_type": "code",
   "execution_count": 160,
   "id": "4e765742",
   "metadata": {},
   "outputs": [
    {
     "data": {
      "image/png": "[encoded data removed]",
      "text/plain": [
       "<Figure size 640x480 with 1 Axes>"
      ]
     },
     "metadata": {},
     "output_type": "display_data"
    }
   ],
   "source": [
    "cv = crossVal(LinearRegression(), df, price_col)"
   ]
  },
  {
   "cell_type": "code",
   "execution_count": 155,
   "id": "64b264cd",
   "metadata": {},
   "outputs": [
    {
     "data": {
      "image/png": "[encoded data removed]",
      "text/plain": [
       "<Figure size 640x480 with 1 Axes>"
      ]
     },
     "metadata": {},
     "output_type": "display_data"
    }
   ],
   "source": [
    "cv = crossVal(ElasticNet(), df, price_col)"
   ]
  },
  {
   "cell_type": "markdown",
   "id": "858d3ee3",
   "metadata": {},
   "source": [
    "## Linear Regression"
   ]
  },
  {
   "cell_type": "markdown",
   "id": "1e8b9b91",
   "metadata": {},
   "source": [
    "Original"
   ]
  },
  {
   "cell_type": "code",
   "execution_count": 122,
   "id": "fb8b8bc9",
   "metadata": {},
   "outputs": [
    {
     "name": "stdout",
     "output_type": "stream",
     "text": [
      "Train MSE:  172917635.79854587\n",
      "Test MSE:  136446950.48032627\n"
     ]
    }
   ],
   "source": [
    "runModel(prev_df)"
   ]
  },
  {
   "cell_type": "markdown",
   "id": "f1672402",
   "metadata": {},
   "source": [
    "Train MSE:  172917635.79854587\n",
    "\n",
    "Test MSE:  136446950.48032627"
   ]
  },
  {
   "cell_type": "markdown",
   "id": "208d260c",
   "metadata": {},
   "source": [
    "Outliers removed"
   ]
  },
  {
   "cell_type": "code",
   "execution_count": 123,
   "id": "93e18b4f",
   "metadata": {},
   "outputs": [
    {
     "name": "stdout",
     "output_type": "stream",
     "text": [
      "Train MSE:  169084795.46713084\n",
      "Test MSE:  155178239.97542098\n"
     ]
    }
   ],
   "source": [
    "df = prev_df\n",
    "outlier_cols = [\"daysonmarket\", \"city_fuel_economy\", \"highway_fuel_economy\"]\n",
    "df = df.drop(columns=outlier_cols, axis=1)\n",
    "\n",
    "runModel(df)"
   ]
  },
  {
   "cell_type": "markdown",
   "id": "601131e0",
   "metadata": {},
   "source": [
    "Train MSE:  169084795.46713084\n",
    "\n",
    "Test MSE:  155178239.97542098"
   ]
  },
  {
   "cell_type": "markdown",
   "id": "c46eac36",
   "metadata": {},
   "source": [
    "Boolean features removed"
   ]
  },
  {
   "cell_type": "code",
   "execution_count": 124,
   "id": "9897bedb",
   "metadata": {},
   "outputs": [
    {
     "name": "stdout",
     "output_type": "stream",
     "text": [
      "Train MSE:  177862458.26234955\n",
      "Test MSE:  194473212.68705958\n"
     ]
    }
   ],
   "source": [
    "df = prev_df\n",
    "bool_cols = [\"is_new\", \"fleet\", \"isCab\", \"salvage\", \"frame_damaged\", \"has_accidents\"]\n",
    "df = df.drop(columns=bool_cols, axis=1)\n",
    "\n",
    "runModel(df)"
   ]
  },
  {
   "cell_type": "markdown",
   "id": "1c334194",
   "metadata": {},
   "source": [
    "Train MSE:  177862458.26234955\n",
    "\n",
    "Test MSE:  194473212.68705958"
   ]
  },
  {
   "cell_type": "markdown",
   "id": "767fb5da",
   "metadata": {},
   "source": [
    "## ElasticNet"
   ]
  },
  {
   "cell_type": "markdown",
   "id": "82865998",
   "metadata": {},
   "source": [
    "Original"
   ]
  },
  {
   "cell_type": "code",
   "execution_count": 128,
   "id": "81019871",
   "metadata": {},
   "outputs": [
    {
     "name": "stdout",
     "output_type": "stream",
     "text": [
      "Train MSE:  194309071.5117859\n",
      "Test MSE:  197858796.1287737\n"
     ]
    }
   ],
   "source": [
    "runModel(prev_df)"
   ]
  },
  {
   "cell_type": "markdown",
   "id": "158f44ec",
   "metadata": {},
   "source": [
    "Outliers Removed"
   ]
  },
  {
   "cell_type": "code",
   "execution_count": 129,
   "id": "ead41d7c",
   "metadata": {},
   "outputs": [
    {
     "name": "stdout",
     "output_type": "stream",
     "text": [
      "Train MSE:  201221441.24644002\n",
      "Test MSE:  171794978.63240483\n"
     ]
    }
   ],
   "source": [
    "df = prev_df\n",
    "outlier_cols = [\"daysonmarket\", \"city_fuel_economy\", \"highway_fuel_economy\"]\n",
    "df = df.drop(columns=outlier_cols, axis=1)\n",
    "\n",
    "runModel(df)"
   ]
  },
  {
   "cell_type": "markdown",
   "id": "1fb57a63",
   "metadata": {},
   "source": [
    "Booleans Removed"
   ]
  },
  {
   "cell_type": "code",
   "execution_count": 130,
   "id": "8ee01ae0",
   "metadata": {},
   "outputs": [
    {
     "name": "stdout",
     "output_type": "stream",
     "text": [
      "Train MSE:  207172730.16898572\n",
      "Test MSE:  227433442.23867068\n"
     ]
    }
   ],
   "source": [
    "df = prev_df\n",
    "bool_cols = [\"is_new\", \"fleet\", \"isCab\", \"salvage\", \"frame_damaged\", \"has_accidents\"]\n",
    "df = df.drop(columns=bool_cols, axis=1)\n",
    "\n",
    "runModel(df)"
   ]
  },
  {
   "cell_type": "code",
   "execution_count": null,
   "id": "1e4d0600",
   "metadata": {},
   "outputs": [],
   "source": []
  }
 ],
 "metadata": {
  "kernelspec": {
   "display_name": "Python 3 (ipykernel)",
   "language": "python",
   "name": "python3"
  },
  "language_info": {
   "codemirror_mode": {
    "name": "ipython",
    "version": 3
   },
   "file_extension": ".py",
   "mimetype": "text/x-python",
   "name": "python",
   "nbconvert_exporter": "python",
   "pygments_lexer": "ipython3",
   "version": "3.9.13"
  }
 },
 "nbformat": 4,
 "nbformat_minor": 5
}
