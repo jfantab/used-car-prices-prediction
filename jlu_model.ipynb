{
 "cells": [
  {
   "cell_type": "markdown",
   "id": "04097885",
   "metadata": {},
   "source": [
    "Source: https://github.com/krishnaik06/Advanced-House-Price-Prediction-/blob/master/Feature%20Engineering.ipynb"
   ]
  },
  {
   "cell_type": "code",
   "execution_count": 23,
   "id": "c27e6dfa",
   "metadata": {},
   "outputs": [],
   "source": [
    "import time\n",
    "import numpy as np\n",
    "import pandas as pd\n",
    "import matplotlib.pyplot as plt\n",
    "from sklearn.model_selection import train_test_split, cross_validate\n",
    "from sklearn.linear_model import LinearRegression, Lasso, ElasticNet\n",
    "from sklearn.metrics import mean_squared_error\n",
    "\n",
    "# Imports preprocessing functions\n",
    "%run ./jlu_preprocessing.ipynb"
   ]
  },
  {
   "cell_type": "markdown",
   "id": "581a2497",
   "metadata": {},
   "source": [
    "## Functions"
   ]
  },
  {
   "cell_type": "markdown",
   "id": "0b141af6",
   "metadata": {},
   "source": [
    "#### Algorithms"
   ]
  },
  {
   "cell_type": "code",
   "execution_count": 2,
   "id": "3dfb98be",
   "metadata": {},
   "outputs": [],
   "source": [
    "def tuneParams(data, labels):\n",
    "    N = 5\n",
    "    params = np.arange(0.1,1.1,0.1)\n",
    "    scores = []\n",
    "    \n",
    "    for param in params:\n",
    "        model = Lasso(alpha=param, selection='random') \n",
    "        cv = cross_validate(model, data, labels, cv=5, n_jobs=-1, error_score='raise')\n",
    "        scores.append(np.mean(cv['test_score']))\n",
    "    \n",
    "    plt.plot(scores)\n",
    "    plt.show()"
   ]
  },
  {
   "cell_type": "code",
   "execution_count": 3,
   "id": "f23bcfb7",
   "metadata": {},
   "outputs": [],
   "source": [
    "def crossVal(model, data, labels):\n",
    "    cv = cross_validate(model, data, labels, cv=5, n_jobs=-1, error_score='raise')\n",
    "    \n",
    "    plt.plot(cv['test_score'])\n",
    "    plt.show()"
   ]
  },
  {
   "cell_type": "code",
   "execution_count": 4,
   "id": "8c6157f6",
   "metadata": {},
   "outputs": [],
   "source": [
    "def predictPrice(X_train, X_test, Y_train, Y_test):\n",
    "# - - - - Models - - - -\n",
    "    model = LinearRegression()\n",
    "    # model = Lasso()\n",
    "    # model = ElasticNet()\n",
    "    \n",
    "# - - - - Cross Validation - - - -\n",
    "    # cv = crossVal(model, X_train, Y_train)\n",
    "    \n",
    "# - - - - Fit and Predict - - - -\n",
    "    clf = model.fit(X_train, Y_train)\n",
    "    train_pred = clf.predict(X_train)\n",
    "    test_pred = clf.predict(X_test)\n",
    "    \n",
    "    print(\"Train MSE: \", mean_squared_error(Y_train, train_pred))\n",
    "    print(\"Test MSE: \", mean_squared_error(Y_test, test_pred))"
   ]
  },
  {
   "cell_type": "markdown",
   "id": "739ea7c1",
   "metadata": {},
   "source": [
    "## Code"
   ]
  },
  {
   "cell_type": "code",
   "execution_count": 5,
   "id": "efc3a412",
   "metadata": {},
   "outputs": [
    {
     "name": "stderr",
     "output_type": "stream",
     "text": [
      "/var/folders/kb/75nzr_1n56s5_rw0zrhwqhp00000gn/T/ipykernel_49471/1749011710.py:2: DtypeWarning: Columns (11) have mixed types. Specify dtype option on import or set low_memory=False.\n",
      "  original_df = pd.read_csv('used_cars_data.csv')\n"
     ]
    },
    {
     "name": "stdout",
     "output_type": "stream",
     "text": [
      "Time taken:  203.3028380870819\n"
     ]
    }
   ],
   "source": [
    "begin = time.time()\n",
    "original_df = pd.read_csv('used_cars_data.csv')\n",
    "end = time.time()\n",
    "\n",
    "print(\"Time taken: \", end - begin)"
   ]
  },
  {
   "cell_type": "code",
   "execution_count": 6,
   "id": "a5965030",
   "metadata": {
    "scrolled": true
   },
   "outputs": [
    {
     "name": "stdout",
     "output_type": "stream",
     "text": [
      "Time taken:  19.401051998138428\n"
     ]
    }
   ],
   "source": [
    "# Sample a portion of the rows\n",
    "\n",
    "PERCENT = 0.50\n",
    "\n",
    "begin = time.time()\n",
    "sampled_df = original_df.sample(frac=PERCENT, replace=False, ignore_index=True)\n",
    "end = time.time()\n",
    "\n",
    "print(\"Time taken: \", end - begin)"
   ]
  },
  {
   "cell_type": "code",
   "execution_count": 24,
   "id": "675df70e",
   "metadata": {},
   "outputs": [
    {
     "name": "stdout",
     "output_type": "stream",
     "text": [
      "(1500020, 66)\n"
     ]
    },
    {
     "data": {
      "text/html": [
       "<div>\n",
       "<style scoped>\n",
       "    .dataframe tbody tr th:only-of-type {\n",
       "        vertical-align: middle;\n",
       "    }\n",
       "\n",
       "    .dataframe tbody tr th {\n",
       "        vertical-align: top;\n",
       "    }\n",
       "\n",
       "    .dataframe thead th {\n",
       "        text-align: right;\n",
       "    }\n",
       "</style>\n",
       "<table border=\"1\" class=\"dataframe\">\n",
       "  <thead>\n",
       "    <tr style=\"text-align: right;\">\n",
       "      <th></th>\n",
       "      <th>vin</th>\n",
       "      <th>back_legroom</th>\n",
       "      <th>bed</th>\n",
       "      <th>bed_height</th>\n",
       "      <th>bed_length</th>\n",
       "      <th>body_type</th>\n",
       "      <th>cabin</th>\n",
       "      <th>city</th>\n",
       "      <th>city_fuel_economy</th>\n",
       "      <th>combine_fuel_economy</th>\n",
       "      <th>...</th>\n",
       "      <th>transmission</th>\n",
       "      <th>transmission_display</th>\n",
       "      <th>trimId</th>\n",
       "      <th>trim_name</th>\n",
       "      <th>vehicle_damage_category</th>\n",
       "      <th>wheel_system</th>\n",
       "      <th>wheel_system_display</th>\n",
       "      <th>wheelbase</th>\n",
       "      <th>width</th>\n",
       "      <th>year</th>\n",
       "    </tr>\n",
       "  </thead>\n",
       "  <tbody>\n",
       "    <tr>\n",
       "      <th>0</th>\n",
       "      <td>3TMCZ5AN9HM116493</td>\n",
       "      <td>32.6 in</td>\n",
       "      <td>NaN</td>\n",
       "      <td>--</td>\n",
       "      <td>60.5 in</td>\n",
       "      <td>Pickup Truck</td>\n",
       "      <td>NaN</td>\n",
       "      <td>Grimes</td>\n",
       "      <td>NaN</td>\n",
       "      <td>NaN</td>\n",
       "      <td>...</td>\n",
       "      <td>NaN</td>\n",
       "      <td>NaN</td>\n",
       "      <td>t68366</td>\n",
       "      <td>TRD Sport V6 Double Cab 4WD</td>\n",
       "      <td>NaN</td>\n",
       "      <td>4WD</td>\n",
       "      <td>Four-Wheel Drive</td>\n",
       "      <td>127.4 in</td>\n",
       "      <td>75.2 in</td>\n",
       "      <td>2017</td>\n",
       "    </tr>\n",
       "    <tr>\n",
       "      <th>1</th>\n",
       "      <td>3C4PDCAB7JT526800</td>\n",
       "      <td>36.1 in</td>\n",
       "      <td>NaN</td>\n",
       "      <td>NaN</td>\n",
       "      <td>NaN</td>\n",
       "      <td>SUV / Crossover</td>\n",
       "      <td>NaN</td>\n",
       "      <td>Brunswick</td>\n",
       "      <td>19.0</td>\n",
       "      <td>NaN</td>\n",
       "      <td>...</td>\n",
       "      <td>A</td>\n",
       "      <td>4-Speed Automatic</td>\n",
       "      <td>t75441</td>\n",
       "      <td>SE FWD</td>\n",
       "      <td>NaN</td>\n",
       "      <td>FWD</td>\n",
       "      <td>Front-Wheel Drive</td>\n",
       "      <td>113.8 in</td>\n",
       "      <td>83.7 in</td>\n",
       "      <td>2018</td>\n",
       "    </tr>\n",
       "    <tr>\n",
       "      <th>2</th>\n",
       "      <td>3N1CN8EV5LL871682</td>\n",
       "      <td>31 in</td>\n",
       "      <td>NaN</td>\n",
       "      <td>NaN</td>\n",
       "      <td>NaN</td>\n",
       "      <td>Sedan</td>\n",
       "      <td>NaN</td>\n",
       "      <td>Avondale</td>\n",
       "      <td>32.0</td>\n",
       "      <td>NaN</td>\n",
       "      <td>...</td>\n",
       "      <td>CVT</td>\n",
       "      <td>Continuously Variable Transmission</td>\n",
       "      <td>t88093</td>\n",
       "      <td>SV FWD</td>\n",
       "      <td>NaN</td>\n",
       "      <td>FWD</td>\n",
       "      <td>Front-Wheel Drive</td>\n",
       "      <td>103.1 in</td>\n",
       "      <td>68.5 in</td>\n",
       "      <td>2020</td>\n",
       "    </tr>\n",
       "    <tr>\n",
       "      <th>3</th>\n",
       "      <td>3FA6P0HD3LR249531</td>\n",
       "      <td>38.3 in</td>\n",
       "      <td>NaN</td>\n",
       "      <td>NaN</td>\n",
       "      <td>NaN</td>\n",
       "      <td>Sedan</td>\n",
       "      <td>NaN</td>\n",
       "      <td>Columbus</td>\n",
       "      <td>23.0</td>\n",
       "      <td>NaN</td>\n",
       "      <td>...</td>\n",
       "      <td>A</td>\n",
       "      <td>Automatic</td>\n",
       "      <td>t86414</td>\n",
       "      <td>SE FWD</td>\n",
       "      <td>NaN</td>\n",
       "      <td>FWD</td>\n",
       "      <td>Front-Wheel Drive</td>\n",
       "      <td>112.2 in</td>\n",
       "      <td>83.5 in</td>\n",
       "      <td>2020</td>\n",
       "    </tr>\n",
       "    <tr>\n",
       "      <th>4</th>\n",
       "      <td>1GCGSCEN1M1117102</td>\n",
       "      <td>35.8 in</td>\n",
       "      <td>NaN</td>\n",
       "      <td>--</td>\n",
       "      <td>61.7 in</td>\n",
       "      <td>Pickup Truck</td>\n",
       "      <td>NaN</td>\n",
       "      <td>Daphne</td>\n",
       "      <td>18.0</td>\n",
       "      <td>NaN</td>\n",
       "      <td>...</td>\n",
       "      <td>A</td>\n",
       "      <td>8-Speed Automatic</td>\n",
       "      <td>t91842</td>\n",
       "      <td>LT Crew Cab RWD</td>\n",
       "      <td>NaN</td>\n",
       "      <td>4X2</td>\n",
       "      <td>4X2</td>\n",
       "      <td>128.3 in</td>\n",
       "      <td>83.9 in</td>\n",
       "      <td>2021</td>\n",
       "    </tr>\n",
       "  </tbody>\n",
       "</table>\n",
       "<p>5 rows × 66 columns</p>\n",
       "</div>"
      ],
      "text/plain": [
       "                 vin back_legroom  bed bed_height bed_length        body_type  \\\n",
       "0  3TMCZ5AN9HM116493      32.6 in  NaN         --    60.5 in     Pickup Truck   \n",
       "1  3C4PDCAB7JT526800      36.1 in  NaN        NaN        NaN  SUV / Crossover   \n",
       "2  3N1CN8EV5LL871682        31 in  NaN        NaN        NaN            Sedan   \n",
       "3  3FA6P0HD3LR249531      38.3 in  NaN        NaN        NaN            Sedan   \n",
       "4  1GCGSCEN1M1117102      35.8 in  NaN         --    61.7 in     Pickup Truck   \n",
       "\n",
       "  cabin       city  city_fuel_economy  combine_fuel_economy  ...  \\\n",
       "0   NaN     Grimes                NaN                   NaN  ...   \n",
       "1   NaN  Brunswick               19.0                   NaN  ...   \n",
       "2   NaN   Avondale               32.0                   NaN  ...   \n",
       "3   NaN   Columbus               23.0                   NaN  ...   \n",
       "4   NaN     Daphne               18.0                   NaN  ...   \n",
       "\n",
       "   transmission                transmission_display  trimId  \\\n",
       "0           NaN                                 NaN  t68366   \n",
       "1             A                   4-Speed Automatic  t75441   \n",
       "2           CVT  Continuously Variable Transmission  t88093   \n",
       "3             A                           Automatic  t86414   \n",
       "4             A                   8-Speed Automatic  t91842   \n",
       "\n",
       "                     trim_name  vehicle_damage_category wheel_system  \\\n",
       "0  TRD Sport V6 Double Cab 4WD                      NaN          4WD   \n",
       "1                       SE FWD                      NaN          FWD   \n",
       "2                       SV FWD                      NaN          FWD   \n",
       "3                       SE FWD                      NaN          FWD   \n",
       "4              LT Crew Cab RWD                      NaN          4X2   \n",
       "\n",
       "  wheel_system_display wheelbase    width  year  \n",
       "0     Four-Wheel Drive  127.4 in  75.2 in  2017  \n",
       "1    Front-Wheel Drive  113.8 in  83.7 in  2018  \n",
       "2    Front-Wheel Drive  103.1 in  68.5 in  2020  \n",
       "3    Front-Wheel Drive  112.2 in  83.5 in  2020  \n",
       "4                  4X2  128.3 in  83.9 in  2021  \n",
       "\n",
       "[5 rows x 66 columns]"
      ]
     },
     "execution_count": 24,
     "metadata": {},
     "output_type": "execute_result"
    }
   ],
   "source": [
    "df = sampled_df\n",
    "\n",
    "print(df.shape)\n",
    "df.head()"
   ]
  },
  {
   "cell_type": "markdown",
   "id": "dab4979a",
   "metadata": {},
   "source": [
    "#### Initial cleaning"
   ]
  },
  {
   "cell_type": "code",
   "execution_count": 25,
   "id": "856437c0",
   "metadata": {},
   "outputs": [
    {
     "name": "stdout",
     "output_type": "stream",
     "text": [
      "(1500013, 56)\n"
     ]
    }
   ],
   "source": [
    "df, price_col = cleanColumnsAndRows(df)"
   ]
  },
  {
   "cell_type": "markdown",
   "id": "34ed2a34",
   "metadata": {},
   "source": [
    "#### Standardize columns of differing data types"
   ]
  },
  {
   "cell_type": "code",
   "execution_count": 26,
   "id": "69064886",
   "metadata": {
    "scrolled": false
   },
   "outputs": [
    {
     "name": "stdout",
     "output_type": "stream",
     "text": [
      "year\n"
     ]
    },
    {
     "data": {
      "text/html": [
       "<div>\n",
       "<style scoped>\n",
       "    .dataframe tbody tr th:only-of-type {\n",
       "        vertical-align: middle;\n",
       "    }\n",
       "\n",
       "    .dataframe tbody tr th {\n",
       "        vertical-align: top;\n",
       "    }\n",
       "\n",
       "    .dataframe thead th {\n",
       "        text-align: right;\n",
       "    }\n",
       "</style>\n",
       "<table border=\"1\" class=\"dataframe\">\n",
       "  <thead>\n",
       "    <tr style=\"text-align: right;\">\n",
       "      <th></th>\n",
       "      <th>back_legroom</th>\n",
       "      <th>body_type</th>\n",
       "      <th>city_fuel_economy</th>\n",
       "      <th>daysonmarket</th>\n",
       "      <th>engine_cylinders</th>\n",
       "      <th>engine_displacement</th>\n",
       "      <th>engine_type</th>\n",
       "      <th>exterior_color</th>\n",
       "      <th>fleet</th>\n",
       "      <th>frame_damaged</th>\n",
       "      <th>...</th>\n",
       "      <th>theft_title</th>\n",
       "      <th>torque</th>\n",
       "      <th>transmission</th>\n",
       "      <th>transmission_display</th>\n",
       "      <th>trim_name</th>\n",
       "      <th>wheel_system</th>\n",
       "      <th>wheel_system_display</th>\n",
       "      <th>wheelbase</th>\n",
       "      <th>width</th>\n",
       "      <th>year</th>\n",
       "    </tr>\n",
       "  </thead>\n",
       "  <tbody>\n",
       "    <tr>\n",
       "      <th>0</th>\n",
       "      <td>-1.356553</td>\n",
       "      <td>-0.707759</td>\n",
       "      <td>-4.404494e-16</td>\n",
       "      <td>-0.625936</td>\n",
       "      <td>0.883542</td>\n",
       "      <td>0.405862</td>\n",
       "      <td>0.883542</td>\n",
       "      <td>-1.312191</td>\n",
       "      <td>-0.35408</td>\n",
       "      <td>-0.071068</td>\n",
       "      <td>...</td>\n",
       "      <td>-0.042061</td>\n",
       "      <td>0.037221</td>\n",
       "      <td>-0.401412</td>\n",
       "      <td>0.653256</td>\n",
       "      <td>1.085045</td>\n",
       "      <td>-1.760499</td>\n",
       "      <td>-0.279705</td>\n",
       "      <td>1.001458</td>\n",
       "      <td>-0.332716</td>\n",
       "      <td>-0.203927</td>\n",
       "    </tr>\n",
       "    <tr>\n",
       "      <th>1</th>\n",
       "      <td>-0.405871</td>\n",
       "      <td>0.095953</td>\n",
       "      <td>-4.582689e-01</td>\n",
       "      <td>-0.515457</td>\n",
       "      <td>-0.801336</td>\n",
       "      <td>-0.434321</td>\n",
       "      <td>-0.801336</td>\n",
       "      <td>1.381573</td>\n",
       "      <td>-0.35408</td>\n",
       "      <td>-0.071068</td>\n",
       "      <td>...</td>\n",
       "      <td>-0.042061</td>\n",
       "      <td>-1.226279</td>\n",
       "      <td>-0.401412</td>\n",
       "      <td>-2.878932</td>\n",
       "      <td>0.507286</td>\n",
       "      <td>0.676659</td>\n",
       "      <td>0.702916</td>\n",
       "      <td>-0.025056</td>\n",
       "      <td>0.983645</td>\n",
       "      <td>0.061427</td>\n",
       "    </tr>\n",
       "    <tr>\n",
       "      <th>2</th>\n",
       "      <td>-1.791150</td>\n",
       "      <td>0.899666</td>\n",
       "      <td>1.153413e+00</td>\n",
       "      <td>-0.009093</td>\n",
       "      <td>-0.801336</td>\n",
       "      <td>-1.045362</td>\n",
       "      <td>-0.801336</td>\n",
       "      <td>-0.332641</td>\n",
       "      <td>-0.35408</td>\n",
       "      <td>-0.071068</td>\n",
       "      <td>...</td>\n",
       "      <td>-0.042061</td>\n",
       "      <td>-1.768578</td>\n",
       "      <td>1.523450</td>\n",
       "      <td>0.770996</td>\n",
       "      <td>0.842008</td>\n",
       "      <td>0.676659</td>\n",
       "      <td>0.702916</td>\n",
       "      <td>-1.002688</td>\n",
       "      <td>-1.382671</td>\n",
       "      <td>0.592136</td>\n",
       "    </tr>\n",
       "    <tr>\n",
       "      <th>3</th>\n",
       "      <td>0.191700</td>\n",
       "      <td>0.899666</td>\n",
       "      <td>3.763309e-02</td>\n",
       "      <td>-0.451010</td>\n",
       "      <td>-0.801336</td>\n",
       "      <td>-0.357940</td>\n",
       "      <td>-0.801336</td>\n",
       "      <td>-1.508836</td>\n",
       "      <td>-0.35408</td>\n",
       "      <td>-0.071068</td>\n",
       "      <td>...</td>\n",
       "      <td>-0.042061</td>\n",
       "      <td>-0.970970</td>\n",
       "      <td>-0.401412</td>\n",
       "      <td>0.653256</td>\n",
       "      <td>0.507286</td>\n",
       "      <td>0.676659</td>\n",
       "      <td>0.702916</td>\n",
       "      <td>-0.171701</td>\n",
       "      <td>0.967974</td>\n",
       "      <td>0.592136</td>\n",
       "    </tr>\n",
       "    <tr>\n",
       "      <th>4</th>\n",
       "      <td>-0.487358</td>\n",
       "      <td>-0.707759</td>\n",
       "      <td>-5.822444e-01</td>\n",
       "      <td>-0.533870</td>\n",
       "      <td>0.883542</td>\n",
       "      <td>0.482242</td>\n",
       "      <td>0.883542</td>\n",
       "      <td>0.977622</td>\n",
       "      <td>-0.35408</td>\n",
       "      <td>-0.071068</td>\n",
       "      <td>...</td>\n",
       "      <td>-0.042061</td>\n",
       "      <td>0.182579</td>\n",
       "      <td>-0.401412</td>\n",
       "      <td>-0.288661</td>\n",
       "      <td>-0.113648</td>\n",
       "      <td>-0.948113</td>\n",
       "      <td>-2.244948</td>\n",
       "      <td>1.040563</td>\n",
       "      <td>1.014987</td>\n",
       "      <td>0.857490</td>\n",
       "    </tr>\n",
       "  </tbody>\n",
       "</table>\n",
       "<p>5 rows × 40 columns</p>\n",
       "</div>"
      ],
      "text/plain": [
       "   back_legroom  body_type  city_fuel_economy  daysonmarket  engine_cylinders  \\\n",
       "0     -1.356553  -0.707759      -4.404494e-16     -0.625936          0.883542   \n",
       "1     -0.405871   0.095953      -4.582689e-01     -0.515457         -0.801336   \n",
       "2     -1.791150   0.899666       1.153413e+00     -0.009093         -0.801336   \n",
       "3      0.191700   0.899666       3.763309e-02     -0.451010         -0.801336   \n",
       "4     -0.487358  -0.707759      -5.822444e-01     -0.533870          0.883542   \n",
       "\n",
       "   engine_displacement  engine_type  exterior_color    fleet  frame_damaged  \\\n",
       "0             0.405862     0.883542       -1.312191 -0.35408      -0.071068   \n",
       "1            -0.434321    -0.801336        1.381573 -0.35408      -0.071068   \n",
       "2            -1.045362    -0.801336       -0.332641 -0.35408      -0.071068   \n",
       "3            -0.357940    -0.801336       -1.508836 -0.35408      -0.071068   \n",
       "4             0.482242     0.883542        0.977622 -0.35408      -0.071068   \n",
       "\n",
       "   ...  theft_title    torque  transmission  transmission_display  trim_name  \\\n",
       "0  ...    -0.042061  0.037221     -0.401412              0.653256   1.085045   \n",
       "1  ...    -0.042061 -1.226279     -0.401412             -2.878932   0.507286   \n",
       "2  ...    -0.042061 -1.768578      1.523450              0.770996   0.842008   \n",
       "3  ...    -0.042061 -0.970970     -0.401412              0.653256   0.507286   \n",
       "4  ...    -0.042061  0.182579     -0.401412             -0.288661  -0.113648   \n",
       "\n",
       "   wheel_system  wheel_system_display  wheelbase     width      year  \n",
       "0     -1.760499             -0.279705   1.001458 -0.332716 -0.203927  \n",
       "1      0.676659              0.702916  -0.025056  0.983645  0.061427  \n",
       "2      0.676659              0.702916  -1.002688 -1.382671  0.592136  \n",
       "3      0.676659              0.702916  -0.171701  0.967974  0.592136  \n",
       "4     -0.948113             -2.244948   1.040563  1.014987  0.857490  \n",
       "\n",
       "[5 rows x 40 columns]"
      ]
     },
     "execution_count": 26,
     "metadata": {},
     "output_type": "execute_result"
    }
   ],
   "source": [
    "df = convertColumnsToNumericalAndStandardize(df, standardizer)\n",
    "df.head()"
   ]
  },
  {
   "cell_type": "markdown",
   "id": "a50ff1d4",
   "metadata": {},
   "source": [
    "#### Run algorithm"
   ]
  },
  {
   "cell_type": "code",
   "execution_count": 27,
   "id": "145cdb20",
   "metadata": {
    "scrolled": true
   },
   "outputs": [],
   "source": [
    "X_train, X_test, Y_train, Y_test = train_test_split(df, price_col, test_size=0.2)"
   ]
  },
  {
   "cell_type": "code",
   "execution_count": 28,
   "id": "8cd6bfe6",
   "metadata": {},
   "outputs": [],
   "source": [
    "# tuneParams(X_train, Y_train)"
   ]
  },
  {
   "cell_type": "code",
   "execution_count": 29,
   "id": "4e8ec50a",
   "metadata": {},
   "outputs": [
    {
     "name": "stdout",
     "output_type": "stream",
     "text": [
      "Train MSE:  148576831.2011206\n",
      "Test MSE:  194019960.8040664\n"
     ]
    }
   ],
   "source": [
    "predictPrice(X_train, X_test, Y_train, Y_test)"
   ]
  },
  {
   "cell_type": "code",
   "execution_count": 30,
   "id": "b300705a",
   "metadata": {},
   "outputs": [],
   "source": [
    "# Sampled 50%\n",
    "\n",
    "# 40% threshold\n",
    "# Train MSE:  161769242.97192186\n",
    "# Test MSE:  141033085.0802493\n",
    "\n",
    "# 50% threshold\n",
    "# Train MSE:  148576831.2011206\n",
    "# Test MSE:  194019960.8040664"
   ]
  }
 ],
 "metadata": {
  "kernelspec": {
   "display_name": "Python 3 (ipykernel)",
   "language": "python",
   "name": "python3"
  },
  "language_info": {
   "codemirror_mode": {
    "name": "ipython",
    "version": 3
   },
   "file_extension": ".py",
   "mimetype": "text/x-python",
   "name": "python",
   "nbconvert_exporter": "python",
   "pygments_lexer": "ipython3",
   "version": "3.9.13"
  }
 },
 "nbformat": 4,
 "nbformat_minor": 5
}
