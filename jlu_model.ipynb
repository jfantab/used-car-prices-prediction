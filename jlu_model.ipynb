{
 "cells": [
  {
   "cell_type": "code",
   "execution_count": 71,
   "id": "8f3febe5",
   "metadata": {},
   "outputs": [],
   "source": [
    "import time\n",
    "import numpy as np\n",
    "import pandas as pd\n",
    "import matplotlib.pyplot as plt\n",
    "from sklearn.preprocessing import StandardScaler\n",
    "from sklearn.linear_model import LinearRegression"
   ]
  },
  {
   "cell_type": "markdown",
   "id": "9d6e90b9",
   "metadata": {},
   "source": [
    "## Functions"
   ]
  },
  {
   "cell_type": "markdown",
   "id": "0eb5ec48",
   "metadata": {},
   "source": [
    "#### Preprocessing"
   ]
  },
  {
   "cell_type": "code",
   "execution_count": 120,
   "id": "73382626",
   "metadata": {},
   "outputs": [],
   "source": [
    "def fillWithMean(col):\n",
    "    col = col.tolist()\n",
    "    c = col.dropna(axis=0).tolist()\n",
    "    mean = np.mean(c)\n",
    "    \n",
    "    return [m if pd.isnull(x) else x for x in col]"
   ]
  },
  {
   "cell_type": "code",
   "execution_count": 121,
   "id": "13fb886f",
   "metadata": {},
   "outputs": [],
   "source": [
    "def fillWithMode(col):\n",
    "    col = col.tolist()\n",
    "    occ = dict()\n",
    "    \n",
    "    for val in col:\n",
    "        occ[val] = 0\n",
    "        \n",
    "    for val in col:\n",
    "        occ[val] += 1\n",
    "        \n",
    "    occ = list(sorted(occ.items(), key=lambda x: x[1], reverse=True))\n",
    "        \n",
    "    return [occ[0][0] if pd.isnull(x) else x for x in col]"
   ]
  },
  {
   "cell_type": "code",
   "execution_count": 39,
   "id": "7368d9d8",
   "metadata": {},
   "outputs": [],
   "source": [
    "def convertBool(col):\n",
    "    col = col.tolist()\n",
    "    for index in range(len(col)):\n",
    "        if pd.isnull(col[index]) or not col[index]:\n",
    "            col[index] = 0\n",
    "        else:\n",
    "            col[index] = 1\n",
    "\n",
    "    return col"
   ]
  },
  {
   "cell_type": "code",
   "execution_count": 141,
   "id": "271ebd4b",
   "metadata": {},
   "outputs": [],
   "source": [
    "def rescaleNumericalValues(col):\n",
    "    col = col.tolist()\n",
    "    ss = StandardScaler()\n",
    "    return ss.fit_transform(col)"
   ]
  },
  {
   "cell_type": "code",
   "execution_count": 74,
   "id": "499fe9c0",
   "metadata": {},
   "outputs": [],
   "source": [
    "def encodeCategoricalValues(col):\n",
    "    col = col.tolist()\n",
    "    \n",
    "    mapping = dict()\n",
    "    s = set(col)\n",
    "    \n",
    "    i = 0\n",
    "    for val in s:\n",
    "        mapping[val] = i\n",
    "        i += 1\n",
    "    \n",
    "    l = []\n",
    "    \n",
    "    for val in col:\n",
    "        l.append(mapping[val])\n",
    "    \n",
    "    return l"
   ]
  },
  {
   "cell_type": "code",
   "execution_count": 136,
   "id": "fc84cd06",
   "metadata": {},
   "outputs": [],
   "source": [
    "def processYears(yrs):\n",
    "    # These variables can be tweaked\n",
    "    startYear = 1960\n",
    "    endYear = 2010\n",
    "    \n",
    "    yrs = df[\"year\"].tolist()\n",
    "    yrs = list(filter(lambda x: x < 2010, yrs))\n",
    "    yrs = list(map(lambda x: x - startYear, yrs))\n",
    "    yrs = list(filter(lambda x: x > 0, yrs))\n",
    "\n",
    "    return yrs"
   ]
  },
  {
   "cell_type": "markdown",
   "id": "33c81b02",
   "metadata": {},
   "source": [
    "#### Algorithms"
   ]
  },
  {
   "cell_type": "code",
   "execution_count": 10,
   "id": "2be16b1a",
   "metadata": {},
   "outputs": [],
   "source": [
    "def predictPrice(X_train, Y_train, X_test):\n",
    "    linReg = LinearRegression().fit(X_train)\n",
    "    linReg.predict(X_test)\n",
    "    \n",
    "    # TODO"
   ]
  },
  {
   "cell_type": "markdown",
   "id": "97d60b38",
   "metadata": {},
   "source": [
    "## Code"
   ]
  },
  {
   "cell_type": "code",
   "execution_count": 137,
   "id": "fe9bd43b",
   "metadata": {},
   "outputs": [
    {
     "name": "stderr",
     "output_type": "stream",
     "text": [
      "/var/folders/kb/75nzr_1n56s5_rw0zrhwqhp00000gn/T/ipykernel_9649/4037307831.py:2: DtypeWarning: Columns (11) have mixed types. Specify dtype option on import or set low_memory=False.\n",
      "  df = pd.read_csv('used_cars_data.csv')\n"
     ]
    },
    {
     "name": "stdout",
     "output_type": "stream",
     "text": [
      "Time taken:  201.77767896652222\n"
     ]
    }
   ],
   "source": [
    "begin = time.time()\n",
    "df = pd.read_csv('used_cars_data.csv')\n",
    "end = time.time()\n",
    "\n",
    "print(\"Time taken: \", end - begin)"
   ]
  },
  {
   "cell_type": "markdown",
   "id": "c678a038",
   "metadata": {},
   "source": [
    "#### Initial cleaning"
   ]
  },
  {
   "cell_type": "code",
   "execution_count": 138,
   "id": "240a4ec1",
   "metadata": {},
   "outputs": [
    {
     "name": "stdout",
     "output_type": "stream",
     "text": [
      "(3000000, 66)\n"
     ]
    }
   ],
   "source": [
    "# Remove rows with duplicate vehicle id numbers\n",
    "\n",
    "df.drop_duplicates(subset=[\"vin\"], inplace=True)\n",
    "print(df.shape)"
   ]
  },
  {
   "cell_type": "code",
   "execution_count": 139,
   "id": "0cb41555",
   "metadata": {},
   "outputs": [
    {
     "name": "stdout",
     "output_type": "stream",
     "text": [
      "(3000000, 17)\n"
     ]
    },
    {
     "data": {
      "text/html": [
       "<div>\n",
       "<style scoped>\n",
       "    .dataframe tbody tr th:only-of-type {\n",
       "        vertical-align: middle;\n",
       "    }\n",
       "\n",
       "    .dataframe tbody tr th {\n",
       "        vertical-align: top;\n",
       "    }\n",
       "\n",
       "    .dataframe thead th {\n",
       "        text-align: right;\n",
       "    }\n",
       "</style>\n",
       "<table border=\"1\" class=\"dataframe\">\n",
       "  <thead>\n",
       "    <tr style=\"text-align: right;\">\n",
       "      <th></th>\n",
       "      <th>daysonmarket</th>\n",
       "      <th>engine_cylinders</th>\n",
       "      <th>frame_damaged</th>\n",
       "      <th>fuel_type</th>\n",
       "      <th>has_accidents</th>\n",
       "      <th>horsepower</th>\n",
       "      <th>is_new</th>\n",
       "      <th>listed_date</th>\n",
       "      <th>mileage</th>\n",
       "      <th>make_name</th>\n",
       "      <th>model_name</th>\n",
       "      <th>fuel_tank_volume</th>\n",
       "      <th>owner_count</th>\n",
       "      <th>salvage</th>\n",
       "      <th>wheel_system</th>\n",
       "      <th>exterior_color</th>\n",
       "      <th>year</th>\n",
       "    </tr>\n",
       "  </thead>\n",
       "  <tbody>\n",
       "    <tr>\n",
       "      <th>0</th>\n",
       "      <td>522</td>\n",
       "      <td>I4</td>\n",
       "      <td>NaN</td>\n",
       "      <td>Gasoline</td>\n",
       "      <td>NaN</td>\n",
       "      <td>177.0</td>\n",
       "      <td>True</td>\n",
       "      <td>2019-04-06</td>\n",
       "      <td>7.0</td>\n",
       "      <td>Jeep</td>\n",
       "      <td>Renegade</td>\n",
       "      <td>12.7 gal</td>\n",
       "      <td>NaN</td>\n",
       "      <td>NaN</td>\n",
       "      <td>FWD</td>\n",
       "      <td>Solar Yellow</td>\n",
       "      <td>2019</td>\n",
       "    </tr>\n",
       "    <tr>\n",
       "      <th>1</th>\n",
       "      <td>207</td>\n",
       "      <td>I4</td>\n",
       "      <td>NaN</td>\n",
       "      <td>Gasoline</td>\n",
       "      <td>NaN</td>\n",
       "      <td>246.0</td>\n",
       "      <td>True</td>\n",
       "      <td>2020-02-15</td>\n",
       "      <td>8.0</td>\n",
       "      <td>Land Rover</td>\n",
       "      <td>Discovery Sport</td>\n",
       "      <td>17.7 gal</td>\n",
       "      <td>NaN</td>\n",
       "      <td>NaN</td>\n",
       "      <td>AWD</td>\n",
       "      <td>Narvik Black</td>\n",
       "      <td>2020</td>\n",
       "    </tr>\n",
       "    <tr>\n",
       "      <th>2</th>\n",
       "      <td>1233</td>\n",
       "      <td>H4</td>\n",
       "      <td>False</td>\n",
       "      <td>Gasoline</td>\n",
       "      <td>False</td>\n",
       "      <td>305.0</td>\n",
       "      <td>False</td>\n",
       "      <td>2017-04-25</td>\n",
       "      <td>NaN</td>\n",
       "      <td>Subaru</td>\n",
       "      <td>WRX STI</td>\n",
       "      <td>15.9 gal</td>\n",
       "      <td>3.0</td>\n",
       "      <td>False</td>\n",
       "      <td>AWD</td>\n",
       "      <td>None</td>\n",
       "      <td>2016</td>\n",
       "    </tr>\n",
       "    <tr>\n",
       "      <th>3</th>\n",
       "      <td>196</td>\n",
       "      <td>V6</td>\n",
       "      <td>NaN</td>\n",
       "      <td>Gasoline</td>\n",
       "      <td>NaN</td>\n",
       "      <td>340.0</td>\n",
       "      <td>True</td>\n",
       "      <td>2020-02-26</td>\n",
       "      <td>11.0</td>\n",
       "      <td>Land Rover</td>\n",
       "      <td>Discovery</td>\n",
       "      <td>23.5 gal</td>\n",
       "      <td>NaN</td>\n",
       "      <td>NaN</td>\n",
       "      <td>AWD</td>\n",
       "      <td>Eiger Gray</td>\n",
       "      <td>2020</td>\n",
       "    </tr>\n",
       "    <tr>\n",
       "      <th>4</th>\n",
       "      <td>137</td>\n",
       "      <td>I4</td>\n",
       "      <td>NaN</td>\n",
       "      <td>Gasoline</td>\n",
       "      <td>NaN</td>\n",
       "      <td>246.0</td>\n",
       "      <td>True</td>\n",
       "      <td>2020-04-25</td>\n",
       "      <td>7.0</td>\n",
       "      <td>Land Rover</td>\n",
       "      <td>Discovery Sport</td>\n",
       "      <td>17.7 gal</td>\n",
       "      <td>NaN</td>\n",
       "      <td>NaN</td>\n",
       "      <td>AWD</td>\n",
       "      <td>Narvik Black</td>\n",
       "      <td>2020</td>\n",
       "    </tr>\n",
       "  </tbody>\n",
       "</table>\n",
       "</div>"
      ],
      "text/plain": [
       "   daysonmarket engine_cylinders frame_damaged fuel_type has_accidents  \\\n",
       "0           522               I4           NaN  Gasoline           NaN   \n",
       "1           207               I4           NaN  Gasoline           NaN   \n",
       "2          1233               H4         False  Gasoline         False   \n",
       "3           196               V6           NaN  Gasoline           NaN   \n",
       "4           137               I4           NaN  Gasoline           NaN   \n",
       "\n",
       "   horsepower  is_new listed_date  mileage   make_name       model_name  \\\n",
       "0       177.0    True  2019-04-06      7.0        Jeep         Renegade   \n",
       "1       246.0    True  2020-02-15      8.0  Land Rover  Discovery Sport   \n",
       "2       305.0   False  2017-04-25      NaN      Subaru          WRX STI   \n",
       "3       340.0    True  2020-02-26     11.0  Land Rover        Discovery   \n",
       "4       246.0    True  2020-04-25      7.0  Land Rover  Discovery Sport   \n",
       "\n",
       "  fuel_tank_volume  owner_count salvage wheel_system exterior_color  year  \n",
       "0         12.7 gal          NaN     NaN          FWD   Solar Yellow  2019  \n",
       "1         17.7 gal          NaN     NaN          AWD   Narvik Black  2020  \n",
       "2         15.9 gal          3.0   False          AWD           None  2016  \n",
       "3         23.5 gal          NaN     NaN          AWD     Eiger Gray  2020  \n",
       "4         17.7 gal          NaN     NaN          AWD   Narvik Black  2020  "
      ]
     },
     "execution_count": 139,
     "metadata": {},
     "output_type": "execute_result"
    }
   ],
   "source": [
    "# Take subset of columns\n",
    "df = df[[\"daysonmarket\",  \"engine_cylinders\",  \"frame_damaged\",  \"fuel_type\",  \"has_accidents\",  \"horsepower\",  \"is_new\", \"listed_date\",  \"mileage\",  \"make_name\",  \"model_name\",  \"fuel_tank_volume\",  \"owner_count\",  \"salvage\",  \"wheel_system\",  \"exterior_color\",  \"year\"]]\n",
    "print(df.shape)\n",
    "df.head()"
   ]
  },
  {
   "cell_type": "code",
   "execution_count": 140,
   "id": "ac3bd6bf",
   "metadata": {},
   "outputs": [
    {
     "name": "stdout",
     "output_type": "stream",
     "text": [
      "(3000000, 17)\n"
     ]
    },
    {
     "data": {
      "text/html": [
       "<div>\n",
       "<style scoped>\n",
       "    .dataframe tbody tr th:only-of-type {\n",
       "        vertical-align: middle;\n",
       "    }\n",
       "\n",
       "    .dataframe tbody tr th {\n",
       "        vertical-align: top;\n",
       "    }\n",
       "\n",
       "    .dataframe thead th {\n",
       "        text-align: right;\n",
       "    }\n",
       "</style>\n",
       "<table border=\"1\" class=\"dataframe\">\n",
       "  <thead>\n",
       "    <tr style=\"text-align: right;\">\n",
       "      <th></th>\n",
       "      <th>daysonmarket</th>\n",
       "      <th>engine_cylinders</th>\n",
       "      <th>frame_damaged</th>\n",
       "      <th>fuel_type</th>\n",
       "      <th>has_accidents</th>\n",
       "      <th>horsepower</th>\n",
       "      <th>is_new</th>\n",
       "      <th>listed_date</th>\n",
       "      <th>mileage</th>\n",
       "      <th>make_name</th>\n",
       "      <th>model_name</th>\n",
       "      <th>fuel_tank_volume</th>\n",
       "      <th>owner_count</th>\n",
       "      <th>salvage</th>\n",
       "      <th>wheel_system</th>\n",
       "      <th>exterior_color</th>\n",
       "      <th>year</th>\n",
       "    </tr>\n",
       "  </thead>\n",
       "  <tbody>\n",
       "    <tr>\n",
       "      <th>0</th>\n",
       "      <td>522</td>\n",
       "      <td>I4</td>\n",
       "      <td>NaN</td>\n",
       "      <td>Gasoline</td>\n",
       "      <td>NaN</td>\n",
       "      <td>177.0</td>\n",
       "      <td>True</td>\n",
       "      <td>2019-04-06</td>\n",
       "      <td>7.0</td>\n",
       "      <td>Jeep</td>\n",
       "      <td>Renegade</td>\n",
       "      <td>12.7 gal</td>\n",
       "      <td>NaN</td>\n",
       "      <td>NaN</td>\n",
       "      <td>FWD</td>\n",
       "      <td>Solar Yellow</td>\n",
       "      <td>2019</td>\n",
       "    </tr>\n",
       "    <tr>\n",
       "      <th>1</th>\n",
       "      <td>207</td>\n",
       "      <td>I4</td>\n",
       "      <td>NaN</td>\n",
       "      <td>Gasoline</td>\n",
       "      <td>NaN</td>\n",
       "      <td>246.0</td>\n",
       "      <td>True</td>\n",
       "      <td>2020-02-15</td>\n",
       "      <td>8.0</td>\n",
       "      <td>Land Rover</td>\n",
       "      <td>Discovery Sport</td>\n",
       "      <td>17.7 gal</td>\n",
       "      <td>NaN</td>\n",
       "      <td>NaN</td>\n",
       "      <td>AWD</td>\n",
       "      <td>Narvik Black</td>\n",
       "      <td>2020</td>\n",
       "    </tr>\n",
       "    <tr>\n",
       "      <th>2</th>\n",
       "      <td>1233</td>\n",
       "      <td>H4</td>\n",
       "      <td>False</td>\n",
       "      <td>Gasoline</td>\n",
       "      <td>False</td>\n",
       "      <td>305.0</td>\n",
       "      <td>False</td>\n",
       "      <td>2017-04-25</td>\n",
       "      <td>NaN</td>\n",
       "      <td>Subaru</td>\n",
       "      <td>WRX STI</td>\n",
       "      <td>15.9 gal</td>\n",
       "      <td>3.0</td>\n",
       "      <td>False</td>\n",
       "      <td>AWD</td>\n",
       "      <td>None</td>\n",
       "      <td>2016</td>\n",
       "    </tr>\n",
       "    <tr>\n",
       "      <th>3</th>\n",
       "      <td>196</td>\n",
       "      <td>V6</td>\n",
       "      <td>NaN</td>\n",
       "      <td>Gasoline</td>\n",
       "      <td>NaN</td>\n",
       "      <td>340.0</td>\n",
       "      <td>True</td>\n",
       "      <td>2020-02-26</td>\n",
       "      <td>11.0</td>\n",
       "      <td>Land Rover</td>\n",
       "      <td>Discovery</td>\n",
       "      <td>23.5 gal</td>\n",
       "      <td>NaN</td>\n",
       "      <td>NaN</td>\n",
       "      <td>AWD</td>\n",
       "      <td>Eiger Gray</td>\n",
       "      <td>2020</td>\n",
       "    </tr>\n",
       "    <tr>\n",
       "      <th>4</th>\n",
       "      <td>137</td>\n",
       "      <td>I4</td>\n",
       "      <td>NaN</td>\n",
       "      <td>Gasoline</td>\n",
       "      <td>NaN</td>\n",
       "      <td>246.0</td>\n",
       "      <td>True</td>\n",
       "      <td>2020-04-25</td>\n",
       "      <td>7.0</td>\n",
       "      <td>Land Rover</td>\n",
       "      <td>Discovery Sport</td>\n",
       "      <td>17.7 gal</td>\n",
       "      <td>NaN</td>\n",
       "      <td>NaN</td>\n",
       "      <td>AWD</td>\n",
       "      <td>Narvik Black</td>\n",
       "      <td>2020</td>\n",
       "    </tr>\n",
       "  </tbody>\n",
       "</table>\n",
       "</div>"
      ],
      "text/plain": [
       "   daysonmarket engine_cylinders frame_damaged fuel_type has_accidents  \\\n",
       "0           522               I4           NaN  Gasoline           NaN   \n",
       "1           207               I4           NaN  Gasoline           NaN   \n",
       "2          1233               H4         False  Gasoline         False   \n",
       "3           196               V6           NaN  Gasoline           NaN   \n",
       "4           137               I4           NaN  Gasoline           NaN   \n",
       "\n",
       "   horsepower  is_new listed_date  mileage   make_name       model_name  \\\n",
       "0       177.0    True  2019-04-06      7.0        Jeep         Renegade   \n",
       "1       246.0    True  2020-02-15      8.0  Land Rover  Discovery Sport   \n",
       "2       305.0   False  2017-04-25      NaN      Subaru          WRX STI   \n",
       "3       340.0    True  2020-02-26     11.0  Land Rover        Discovery   \n",
       "4       246.0    True  2020-04-25      7.0  Land Rover  Discovery Sport   \n",
       "\n",
       "  fuel_tank_volume  owner_count salvage wheel_system exterior_color  year  \n",
       "0         12.7 gal          NaN     NaN          FWD   Solar Yellow  2019  \n",
       "1         17.7 gal          NaN     NaN          AWD   Narvik Black  2020  \n",
       "2         15.9 gal          3.0   False          AWD           None  2016  \n",
       "3         23.5 gal          NaN     NaN          AWD     Eiger Gray  2020  \n",
       "4         17.7 gal          NaN     NaN          AWD   Narvik Black  2020  "
      ]
     },
     "execution_count": 140,
     "metadata": {},
     "output_type": "execute_result"
    }
   ],
   "source": [
    "# Remove all NaN columns\n",
    "\n",
    "df = df.dropna(axis=1, how='all')\n",
    "print(df.shape)\n",
    "df.head()"
   ]
  },
  {
   "cell_type": "markdown",
   "id": "bafdd383",
   "metadata": {},
   "source": [
    "#### Process numerical columns"
   ]
  },
  {
   "cell_type": "code",
   "execution_count": 142,
   "id": "7da20d9f",
   "metadata": {},
   "outputs": [],
   "source": [
    "# df[\"daysonmarket\"] = rescaleNumericalValues(df[\"daysonmarket\"])"
   ]
  },
  {
   "cell_type": "code",
   "execution_count": 143,
   "id": "0c3bf178",
   "metadata": {},
   "outputs": [],
   "source": [
    "# df[\"mileage\"] = rescaleNumericalValues(df[\"mileage\"])"
   ]
  },
  {
   "cell_type": "markdown",
   "id": "e8c1104d",
   "metadata": {},
   "source": [
    "#### Process bool columns"
   ]
  },
  {
   "cell_type": "code",
   "execution_count": 144,
   "id": "dd1506da",
   "metadata": {},
   "outputs": [],
   "source": [
    "# TODO\n",
    "# df[\"has_accidents\"] = convertBool(df[\"has_accidents\"])\n",
    "# df[\"salvage\"] = convertBool(df[\"salvage\"])\n",
    "# df[\"is_new\"] = convertBool(df[\"is_new\"])"
   ]
  },
  {
   "cell_type": "markdown",
   "id": "69f0c052",
   "metadata": {},
   "source": [
    "#### Process columns with years"
   ]
  },
  {
   "cell_type": "code",
   "execution_count": 145,
   "id": "3fd28542",
   "metadata": {},
   "outputs": [],
   "source": [
    "# TODO - list length not same\n",
    "# yr = df[\"year\"]\n",
    "# yr = processYears(yr)\n",
    "# df[\"year\"] = yr"
   ]
  },
  {
   "cell_type": "code",
   "execution_count": 146,
   "id": "267b29b4",
   "metadata": {},
   "outputs": [],
   "source": [
    "# TODO - list length not same\n",
    "# listDate = df[\"listed_date\"]\n",
    "# listDate = list(map(lambda x: int(x.split('-')[0]) , listDate)) # Only take years\n",
    "# listDate = processYears(listDate)\n",
    "# df[\"listed_date\"] = listDate"
   ]
  },
  {
   "cell_type": "markdown",
   "id": "470adcb9",
   "metadata": {},
   "source": [
    "#### Encode categorical values to integers"
   ]
  },
  {
   "cell_type": "code",
   "execution_count": 147,
   "id": "a3738c82",
   "metadata": {},
   "outputs": [],
   "source": [
    "# fillWithMode(df[\"make_name\"])\n",
    "# df[\"make_name\"] = encodeCategoricalValues(df[\"make_name\"])"
   ]
  },
  {
   "cell_type": "code",
   "execution_count": 148,
   "id": "98ec5fe5",
   "metadata": {},
   "outputs": [],
   "source": [
    "# fillWithMode(df[\"wheel_system\"])\n",
    "# df[\"wheel_system\"] = encodeCategoricalValues(df[\"wheel_system\"])"
   ]
  },
  {
   "cell_type": "code",
   "execution_count": 149,
   "id": "d7509083",
   "metadata": {},
   "outputs": [],
   "source": [
    "# fillWithMode(df[\"engine_cylinders\"])\n",
    "# df[\"engine_cylinders\"] = encodeCategoricalValues(df[\"engine_cylinders\"])"
   ]
  },
  {
   "cell_type": "code",
   "execution_count": 150,
   "id": "6995696a",
   "metadata": {},
   "outputs": [],
   "source": [
    "# fillWithMode(df[\"model_name\"])\n",
    "# df[\"model_name\"] = encodeCategoricalValues(df[\"model_name\"])"
   ]
  },
  {
   "cell_type": "markdown",
   "id": "6e54aff4",
   "metadata": {},
   "source": [
    "#### Run algorithm"
   ]
  },
  {
   "cell_type": "code",
   "execution_count": null,
   "id": "b172a563",
   "metadata": {},
   "outputs": [],
   "source": []
  }
 ],
 "metadata": {
  "kernelspec": {
   "display_name": "Python 3 (ipykernel)",
   "language": "python",
   "name": "python3"
  },
  "language_info": {
   "codemirror_mode": {
    "name": "ipython",
    "version": 3
   },
   "file_extension": ".py",
   "mimetype": "text/x-python",
   "name": "python",
   "nbconvert_exporter": "python",
   "pygments_lexer": "ipython3",
   "version": "3.9.13"
  }
 },
 "nbformat": 4,
 "nbformat_minor": 5
}
