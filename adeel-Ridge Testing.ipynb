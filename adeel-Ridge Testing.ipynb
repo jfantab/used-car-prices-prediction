{
 "cells": [
  {
   "cell_type": "markdown",
   "id": "04097885",
   "metadata": {},
   "source": [
    "Source: https://github.com/krishnaik06/Advanced-House-Price-Prediction-/blob/master/Feature%20Engineering.ipynb"
   ]
  },
  {
   "cell_type": "code",
   "execution_count": 3,
   "id": "c27e6dfa",
   "metadata": {},
   "outputs": [],
   "source": [
    "import time\n",
    "import numpy as np\n",
    "import pandas as pd\n",
    "import matplotlib.pyplot as plt\n",
    "from sklearn.model_selection import train_test_split\n",
    "#from sklearn.linear_model import LinearRegression\n",
    "from sklearn.svm import SVR\n",
    "from sklearn.metrics import mean_squared_error\n",
    "\n",
    "from sklearn.linear_model import Ridge\n",
    "from sklearn.model_selection import GridSearchCV\n",
    "from sklearn.preprocessing import StandardScaler\n",
    "# Imports preprocessing functions\n",
    "%run ./v1_jlu_preprocessing.ipynb"
   ]
  },
  {
   "cell_type": "markdown",
   "id": "581a2497",
   "metadata": {},
   "source": [
    "## Functions"
   ]
  },
  {
   "cell_type": "markdown",
   "id": "0b141af6",
   "metadata": {},
   "source": [
    "#### Algorithms"
   ]
  },
  {
   "cell_type": "code",
   "execution_count": 4,
   "id": "8c6157f6",
   "metadata": {},
   "outputs": [],
   "source": [
    "def predictPrice(X_train, X_test, Y_train, Y_test):\n",
    "    #regr = SVR().fit(X_train, Y_train)\n",
    "    regr = Ridge(alpha=100).fit(X_train, Y_train)\n",
    "    \n",
    "    train_pred = regr.predict(X_train)\n",
    "    test_pred = regr.predict(X_test)\n",
    "    \n",
    "    print(\"Train MSE: \", mean_squared_error(Y_train, train_pred))\n",
    "    print(\"Test MSE: \", mean_squared_error(Y_test, test_pred))"
   ]
  },
  {
   "cell_type": "markdown",
   "id": "739ea7c1",
   "metadata": {},
   "source": [
    "## Code"
   ]
  },
  {
   "cell_type": "code",
   "execution_count": 5,
   "id": "efc3a412",
   "metadata": {},
   "outputs": [
    {
     "name": "stderr",
     "output_type": "stream",
     "text": [
      "C:\\Users\\Adeel\\AppData\\Local\\Temp\\ipykernel_12304\\1749011710.py:2: DtypeWarning: Columns (11) have mixed types. Specify dtype option on import or set low_memory=False.\n",
      "  original_df = pd.read_csv('used_cars_data.csv')\n"
     ]
    },
    {
     "name": "stdout",
     "output_type": "stream",
     "text": [
      "Time taken:  77.09675812721252\n"
     ]
    }
   ],
   "source": [
    "begin = time.time()\n",
    "original_df = pd.read_csv('used_cars_data.csv')\n",
    "end = time.time()\n",
    "\n",
    "print(\"Time taken: \", end - begin)"
   ]
  },
  {
   "cell_type": "code",
   "execution_count": 6,
   "id": "a5965030",
   "metadata": {
    "scrolled": false
   },
   "outputs": [
    {
     "name": "stdout",
     "output_type": "stream",
     "text": [
      "Time taken:  1.4322171211242676\n",
      "(900012, 66)\n"
     ]
    },
    {
     "data": {
      "text/html": [
       "<div>\n",
       "<style scoped>\n",
       "    .dataframe tbody tr th:only-of-type {\n",
       "        vertical-align: middle;\n",
       "    }\n",
       "\n",
       "    .dataframe tbody tr th {\n",
       "        vertical-align: top;\n",
       "    }\n",
       "\n",
       "    .dataframe thead th {\n",
       "        text-align: right;\n",
       "    }\n",
       "</style>\n",
       "<table border=\"1\" class=\"dataframe\">\n",
       "  <thead>\n",
       "    <tr style=\"text-align: right;\">\n",
       "      <th></th>\n",
       "      <th>vin</th>\n",
       "      <th>back_legroom</th>\n",
       "      <th>bed</th>\n",
       "      <th>bed_height</th>\n",
       "      <th>bed_length</th>\n",
       "      <th>body_type</th>\n",
       "      <th>cabin</th>\n",
       "      <th>city</th>\n",
       "      <th>city_fuel_economy</th>\n",
       "      <th>combine_fuel_economy</th>\n",
       "      <th>...</th>\n",
       "      <th>transmission</th>\n",
       "      <th>transmission_display</th>\n",
       "      <th>trimId</th>\n",
       "      <th>trim_name</th>\n",
       "      <th>vehicle_damage_category</th>\n",
       "      <th>wheel_system</th>\n",
       "      <th>wheel_system_display</th>\n",
       "      <th>wheelbase</th>\n",
       "      <th>width</th>\n",
       "      <th>year</th>\n",
       "    </tr>\n",
       "  </thead>\n",
       "  <tbody>\n",
       "    <tr>\n",
       "      <th>0</th>\n",
       "      <td>1C6SRFFT5LN235611</td>\n",
       "      <td>45.2 in</td>\n",
       "      <td>NaN</td>\n",
       "      <td>--</td>\n",
       "      <td>67.4 in</td>\n",
       "      <td>Pickup Truck</td>\n",
       "      <td>NaN</td>\n",
       "      <td>Oklahoma City</td>\n",
       "      <td>15.0</td>\n",
       "      <td>NaN</td>\n",
       "      <td>...</td>\n",
       "      <td>A</td>\n",
       "      <td>8-Speed Automatic</td>\n",
       "      <td>t87071</td>\n",
       "      <td>Lone Star Crew Cab 4WD</td>\n",
       "      <td>NaN</td>\n",
       "      <td>4WD</td>\n",
       "      <td>Four-Wheel Drive</td>\n",
       "      <td>144.6 in</td>\n",
       "      <td>82.1 in</td>\n",
       "      <td>2020</td>\n",
       "    </tr>\n",
       "    <tr>\n",
       "      <th>1</th>\n",
       "      <td>3TMCZ5AN1JM158792</td>\n",
       "      <td>32.6 in</td>\n",
       "      <td>NaN</td>\n",
       "      <td>--</td>\n",
       "      <td>60.5 in</td>\n",
       "      <td>Pickup Truck</td>\n",
       "      <td>NaN</td>\n",
       "      <td>Ontario</td>\n",
       "      <td>18.0</td>\n",
       "      <td>NaN</td>\n",
       "      <td>...</td>\n",
       "      <td>A</td>\n",
       "      <td>6-Speed Automatic</td>\n",
       "      <td>t74535</td>\n",
       "      <td>TRD Sport Double Cab 4WD</td>\n",
       "      <td>NaN</td>\n",
       "      <td>4WD</td>\n",
       "      <td>Four-Wheel Drive</td>\n",
       "      <td>127.4 in</td>\n",
       "      <td>75.2 in</td>\n",
       "      <td>2018</td>\n",
       "    </tr>\n",
       "    <tr>\n",
       "      <th>2</th>\n",
       "      <td>3N1CN8FV2LL818436</td>\n",
       "      <td>31 in</td>\n",
       "      <td>NaN</td>\n",
       "      <td>NaN</td>\n",
       "      <td>NaN</td>\n",
       "      <td>Sedan</td>\n",
       "      <td>NaN</td>\n",
       "      <td>Carrollton</td>\n",
       "      <td>32.0</td>\n",
       "      <td>NaN</td>\n",
       "      <td>...</td>\n",
       "      <td>CVT</td>\n",
       "      <td>Continuously Variable Transmission</td>\n",
       "      <td>t88094</td>\n",
       "      <td>SR FWD</td>\n",
       "      <td>NaN</td>\n",
       "      <td>FWD</td>\n",
       "      <td>Front-Wheel Drive</td>\n",
       "      <td>103.1 in</td>\n",
       "      <td>68.5 in</td>\n",
       "      <td>2020</td>\n",
       "    </tr>\n",
       "    <tr>\n",
       "      <th>3</th>\n",
       "      <td>1FMCU9JD2HUC94041</td>\n",
       "      <td>37.3 in</td>\n",
       "      <td>NaN</td>\n",
       "      <td>NaN</td>\n",
       "      <td>NaN</td>\n",
       "      <td>SUV / Crossover</td>\n",
       "      <td>NaN</td>\n",
       "      <td>Fort Wayne</td>\n",
       "      <td>22.0</td>\n",
       "      <td>NaN</td>\n",
       "      <td>...</td>\n",
       "      <td>A</td>\n",
       "      <td>6-Speed Automatic</td>\n",
       "      <td>t66220</td>\n",
       "      <td>Titanium AWD</td>\n",
       "      <td>NaN</td>\n",
       "      <td>AWD</td>\n",
       "      <td>All-Wheel Drive</td>\n",
       "      <td>105.9 in</td>\n",
       "      <td>81.8 in</td>\n",
       "      <td>2017</td>\n",
       "    </tr>\n",
       "    <tr>\n",
       "      <th>4</th>\n",
       "      <td>1C6JJTBG1LL163103</td>\n",
       "      <td>38.3 in</td>\n",
       "      <td>NaN</td>\n",
       "      <td>--</td>\n",
       "      <td>60.3 in</td>\n",
       "      <td>Pickup Truck</td>\n",
       "      <td>NaN</td>\n",
       "      <td>Woodbridge</td>\n",
       "      <td>17.0</td>\n",
       "      <td>NaN</td>\n",
       "      <td>...</td>\n",
       "      <td>A</td>\n",
       "      <td>8-Speed Automatic</td>\n",
       "      <td>t84953</td>\n",
       "      <td>Rubicon Crew Cab 4WD</td>\n",
       "      <td>NaN</td>\n",
       "      <td>4WD</td>\n",
       "      <td>Four-Wheel Drive</td>\n",
       "      <td>137.3 in</td>\n",
       "      <td>73.8 in</td>\n",
       "      <td>2020</td>\n",
       "    </tr>\n",
       "  </tbody>\n",
       "</table>\n",
       "<p>5 rows × 66 columns</p>\n",
       "</div>"
      ],
      "text/plain": [
       "                 vin back_legroom  bed bed_height bed_length        body_type  \\\n",
       "0  1C6SRFFT5LN235611      45.2 in  NaN         --    67.4 in     Pickup Truck   \n",
       "1  3TMCZ5AN1JM158792      32.6 in  NaN         --    60.5 in     Pickup Truck   \n",
       "2  3N1CN8FV2LL818436        31 in  NaN        NaN        NaN            Sedan   \n",
       "3  1FMCU9JD2HUC94041      37.3 in  NaN        NaN        NaN  SUV / Crossover   \n",
       "4  1C6JJTBG1LL163103      38.3 in  NaN         --    60.3 in     Pickup Truck   \n",
       "\n",
       "  cabin           city  city_fuel_economy  combine_fuel_economy  ...  \\\n",
       "0   NaN  Oklahoma City               15.0                   NaN  ...   \n",
       "1   NaN        Ontario               18.0                   NaN  ...   \n",
       "2   NaN     Carrollton               32.0                   NaN  ...   \n",
       "3   NaN     Fort Wayne               22.0                   NaN  ...   \n",
       "4   NaN     Woodbridge               17.0                   NaN  ...   \n",
       "\n",
       "   transmission                transmission_display  trimId  \\\n",
       "0             A                   8-Speed Automatic  t87071   \n",
       "1             A                   6-Speed Automatic  t74535   \n",
       "2           CVT  Continuously Variable Transmission  t88094   \n",
       "3             A                   6-Speed Automatic  t66220   \n",
       "4             A                   8-Speed Automatic  t84953   \n",
       "\n",
       "                  trim_name  vehicle_damage_category wheel_system  \\\n",
       "0    Lone Star Crew Cab 4WD                      NaN          4WD   \n",
       "1  TRD Sport Double Cab 4WD                      NaN          4WD   \n",
       "2                    SR FWD                      NaN          FWD   \n",
       "3              Titanium AWD                      NaN          AWD   \n",
       "4      Rubicon Crew Cab 4WD                      NaN          4WD   \n",
       "\n",
       "  wheel_system_display wheelbase    width  year  \n",
       "0     Four-Wheel Drive  144.6 in  82.1 in  2020  \n",
       "1     Four-Wheel Drive  127.4 in  75.2 in  2018  \n",
       "2    Front-Wheel Drive  103.1 in  68.5 in  2020  \n",
       "3      All-Wheel Drive  105.9 in  81.8 in  2017  \n",
       "4     Four-Wheel Drive  137.3 in  73.8 in  2020  \n",
       "\n",
       "[5 rows x 66 columns]"
      ]
     },
     "execution_count": 6,
     "metadata": {},
     "output_type": "execute_result"
    }
   ],
   "source": [
    "# Sample a portion of the rows\n",
    "\n",
    "begin = time.time()\n",
    "df = original_df.sample(frac=0.30, replace=False, ignore_index=True)\n",
    "end = time.time()\n",
    "\n",
    "print(\"Time taken: \", end - begin)\n",
    "\n",
    "print(df.shape)\n",
    "df.head()"
   ]
  },
  {
   "cell_type": "markdown",
   "id": "dab4979a",
   "metadata": {},
   "source": [
    "#### Initial cleaning"
   ]
  },
  {
   "cell_type": "code",
   "execution_count": 8,
   "id": "856437c0",
   "metadata": {},
   "outputs": [
    {
     "name": "stdout",
     "output_type": "stream",
     "text": [
      "(900010, 50)\n"
     ]
    }
   ],
   "source": [
    "df= cleanColumnsAndRows(df)"
   ]
  },
  {
   "cell_type": "code",
   "execution_count": 9,
   "id": "5e41c567",
   "metadata": {},
   "outputs": [
    {
     "data": {
      "text/plain": [
       "pandas.core.frame.DataFrame"
      ]
     },
     "execution_count": 9,
     "metadata": {},
     "output_type": "execute_result"
    }
   ],
   "source": [
    "type(df)"
   ]
  },
  {
   "cell_type": "markdown",
   "id": "37da1522",
   "metadata": {},
   "source": [
    "#### Process columns with years"
   ]
  },
  {
   "cell_type": "code",
   "execution_count": 10,
   "id": "de0aa608",
   "metadata": {
    "scrolled": false
   },
   "outputs": [
    {
     "data": {
      "text/html": [
       "<div>\n",
       "<style scoped>\n",
       "    .dataframe tbody tr th:only-of-type {\n",
       "        vertical-align: middle;\n",
       "    }\n",
       "\n",
       "    .dataframe tbody tr th {\n",
       "        vertical-align: top;\n",
       "    }\n",
       "\n",
       "    .dataframe thead th {\n",
       "        text-align: right;\n",
       "    }\n",
       "</style>\n",
       "<table border=\"1\" class=\"dataframe\">\n",
       "  <thead>\n",
       "    <tr style=\"text-align: right;\">\n",
       "      <th></th>\n",
       "      <th>vin</th>\n",
       "      <th>back_legroom</th>\n",
       "      <th>body_type</th>\n",
       "      <th>city</th>\n",
       "      <th>city_fuel_economy</th>\n",
       "      <th>daysonmarket</th>\n",
       "      <th>dealer_zip</th>\n",
       "      <th>description</th>\n",
       "      <th>engine_cylinders</th>\n",
       "      <th>engine_displacement</th>\n",
       "      <th>...</th>\n",
       "      <th>torque</th>\n",
       "      <th>transmission</th>\n",
       "      <th>transmission_display</th>\n",
       "      <th>trimId</th>\n",
       "      <th>trim_name</th>\n",
       "      <th>wheel_system</th>\n",
       "      <th>wheel_system_display</th>\n",
       "      <th>wheelbase</th>\n",
       "      <th>width</th>\n",
       "      <th>year</th>\n",
       "    </tr>\n",
       "  </thead>\n",
       "  <tbody>\n",
       "    <tr>\n",
       "      <th>0</th>\n",
       "      <td>1C6SRFFT5LN235611</td>\n",
       "      <td>45.2 in</td>\n",
       "      <td>Pickup Truck</td>\n",
       "      <td>Oklahoma City</td>\n",
       "      <td>15.0</td>\n",
       "      <td>276</td>\n",
       "      <td>73132</td>\n",
       "      <td>$9,813 off MSRP! Priced below KBB Fair Purchas...</td>\n",
       "      <td>V8</td>\n",
       "      <td>5700.0</td>\n",
       "      <td>...</td>\n",
       "      <td>410 lb-ft @ 3,950 RPM</td>\n",
       "      <td>A</td>\n",
       "      <td>8-Speed Automatic</td>\n",
       "      <td>t87071</td>\n",
       "      <td>Lone Star Crew Cab 4WD</td>\n",
       "      <td>4WD</td>\n",
       "      <td>Four-Wheel Drive</td>\n",
       "      <td>144.6 in</td>\n",
       "      <td>82.1 in</td>\n",
       "      <td>70</td>\n",
       "    </tr>\n",
       "    <tr>\n",
       "      <th>1</th>\n",
       "      <td>3TMCZ5AN1JM158792</td>\n",
       "      <td>32.6 in</td>\n",
       "      <td>Pickup Truck</td>\n",
       "      <td>Ontario</td>\n",
       "      <td>18.0</td>\n",
       "      <td>1</td>\n",
       "      <td>97914</td>\n",
       "      <td>2018 Toyota Tacoma TRD Offroad CARFAX One-Owne...</td>\n",
       "      <td>V6</td>\n",
       "      <td>3500.0</td>\n",
       "      <td>...</td>\n",
       "      <td>265 lb-ft @ 4,600 RPM</td>\n",
       "      <td>A</td>\n",
       "      <td>6-Speed Automatic</td>\n",
       "      <td>t74535</td>\n",
       "      <td>TRD Sport Double Cab 4WD</td>\n",
       "      <td>4WD</td>\n",
       "      <td>Four-Wheel Drive</td>\n",
       "      <td>127.4 in</td>\n",
       "      <td>75.2 in</td>\n",
       "      <td>68</td>\n",
       "    </tr>\n",
       "    <tr>\n",
       "      <th>2</th>\n",
       "      <td>3N1CN8FV2LL818436</td>\n",
       "      <td>31 in</td>\n",
       "      <td>Sedan</td>\n",
       "      <td>Carrollton</td>\n",
       "      <td>32.0</td>\n",
       "      <td>347</td>\n",
       "      <td>30117</td>\n",
       "      <td>AUTOMATIC EMERGENCY BRAKING w/PEDESTRIAN DETEC...</td>\n",
       "      <td>I4</td>\n",
       "      <td>1600.0</td>\n",
       "      <td>...</td>\n",
       "      <td>114 lb-ft @ 4,000 RPM</td>\n",
       "      <td>CVT</td>\n",
       "      <td>Continuously Variable Transmission</td>\n",
       "      <td>t88094</td>\n",
       "      <td>SR FWD</td>\n",
       "      <td>FWD</td>\n",
       "      <td>Front-Wheel Drive</td>\n",
       "      <td>103.1 in</td>\n",
       "      <td>68.5 in</td>\n",
       "      <td>70</td>\n",
       "    </tr>\n",
       "    <tr>\n",
       "      <th>3</th>\n",
       "      <td>1FMCU9JD2HUC94041</td>\n",
       "      <td>37.3 in</td>\n",
       "      <td>SUV / Crossover</td>\n",
       "      <td>Fort Wayne</td>\n",
       "      <td>22.0</td>\n",
       "      <td>55</td>\n",
       "      <td>46805</td>\n",
       "      <td>We are open and ready to serve you!  Shop safe...</td>\n",
       "      <td>I4</td>\n",
       "      <td>2000.0</td>\n",
       "      <td>...</td>\n",
       "      <td>275 lb-ft @ 3,000 RPM</td>\n",
       "      <td>A</td>\n",
       "      <td>6-Speed Automatic</td>\n",
       "      <td>t66220</td>\n",
       "      <td>Titanium AWD</td>\n",
       "      <td>AWD</td>\n",
       "      <td>All-Wheel Drive</td>\n",
       "      <td>105.9 in</td>\n",
       "      <td>81.8 in</td>\n",
       "      <td>67</td>\n",
       "    </tr>\n",
       "    <tr>\n",
       "      <th>4</th>\n",
       "      <td>1C6JJTBG1LL163103</td>\n",
       "      <td>38.3 in</td>\n",
       "      <td>Pickup Truck</td>\n",
       "      <td>Woodbridge</td>\n",
       "      <td>17.0</td>\n",
       "      <td>274</td>\n",
       "      <td>22191</td>\n",
       "      <td>2020 Jeep Gladiator RubiconPriced below KBB Fa...</td>\n",
       "      <td>V6</td>\n",
       "      <td>3600.0</td>\n",
       "      <td>...</td>\n",
       "      <td>260 lb-ft @ 4,800 RPM</td>\n",
       "      <td>A</td>\n",
       "      <td>8-Speed Automatic</td>\n",
       "      <td>t84953</td>\n",
       "      <td>Rubicon Crew Cab 4WD</td>\n",
       "      <td>4WD</td>\n",
       "      <td>Four-Wheel Drive</td>\n",
       "      <td>137.3 in</td>\n",
       "      <td>73.8 in</td>\n",
       "      <td>70</td>\n",
       "    </tr>\n",
       "  </tbody>\n",
       "</table>\n",
       "<p>5 rows × 50 columns</p>\n",
       "</div>"
      ],
      "text/plain": [
       "                 vin back_legroom        body_type           city  \\\n",
       "0  1C6SRFFT5LN235611      45.2 in     Pickup Truck  Oklahoma City   \n",
       "1  3TMCZ5AN1JM158792      32.6 in     Pickup Truck        Ontario   \n",
       "2  3N1CN8FV2LL818436        31 in            Sedan     Carrollton   \n",
       "3  1FMCU9JD2HUC94041      37.3 in  SUV / Crossover     Fort Wayne   \n",
       "4  1C6JJTBG1LL163103      38.3 in     Pickup Truck     Woodbridge   \n",
       "\n",
       "   city_fuel_economy  daysonmarket dealer_zip  \\\n",
       "0               15.0           276      73132   \n",
       "1               18.0             1      97914   \n",
       "2               32.0           347      30117   \n",
       "3               22.0            55      46805   \n",
       "4               17.0           274      22191   \n",
       "\n",
       "                                         description engine_cylinders  \\\n",
       "0  $9,813 off MSRP! Priced below KBB Fair Purchas...               V8   \n",
       "1  2018 Toyota Tacoma TRD Offroad CARFAX One-Owne...               V6   \n",
       "2  AUTOMATIC EMERGENCY BRAKING w/PEDESTRIAN DETEC...               I4   \n",
       "3  We are open and ready to serve you!  Shop safe...               I4   \n",
       "4  2020 Jeep Gladiator RubiconPriced below KBB Fa...               V6   \n",
       "\n",
       "   engine_displacement  ...                 torque transmission  \\\n",
       "0               5700.0  ...  410 lb-ft @ 3,950 RPM            A   \n",
       "1               3500.0  ...  265 lb-ft @ 4,600 RPM            A   \n",
       "2               1600.0  ...  114 lb-ft @ 4,000 RPM          CVT   \n",
       "3               2000.0  ...  275 lb-ft @ 3,000 RPM            A   \n",
       "4               3600.0  ...  260 lb-ft @ 4,800 RPM            A   \n",
       "\n",
       "                 transmission_display  trimId                 trim_name  \\\n",
       "0                   8-Speed Automatic  t87071    Lone Star Crew Cab 4WD   \n",
       "1                   6-Speed Automatic  t74535  TRD Sport Double Cab 4WD   \n",
       "2  Continuously Variable Transmission  t88094                    SR FWD   \n",
       "3                   6-Speed Automatic  t66220              Titanium AWD   \n",
       "4                   8-Speed Automatic  t84953      Rubicon Crew Cab 4WD   \n",
       "\n",
       "  wheel_system wheel_system_display wheelbase    width  year  \n",
       "0          4WD     Four-Wheel Drive  144.6 in  82.1 in    70  \n",
       "1          4WD     Four-Wheel Drive  127.4 in  75.2 in    68  \n",
       "2          FWD    Front-Wheel Drive  103.1 in  68.5 in    70  \n",
       "3          AWD      All-Wheel Drive  105.9 in  81.8 in    67  \n",
       "4          4WD     Four-Wheel Drive  137.3 in  73.8 in    70  \n",
       "\n",
       "[5 rows x 50 columns]"
      ]
     },
     "execution_count": 10,
     "metadata": {},
     "output_type": "execute_result"
    }
   ],
   "source": [
    "df[\"year\"] = processYears(df)\n",
    "df.head()"
   ]
  },
  {
   "cell_type": "code",
   "execution_count": 11,
   "id": "4ab53ba2",
   "metadata": {},
   "outputs": [
    {
     "data": {
      "text/plain": [
       "0         70\n",
       "1         68\n",
       "2         70\n",
       "3         67\n",
       "4         70\n",
       "          ..\n",
       "900005    71\n",
       "900006    71\n",
       "900007    64\n",
       "900008    70\n",
       "900009    69\n",
       "Name: year, Length: 900010, dtype: int64"
      ]
     },
     "execution_count": 11,
     "metadata": {},
     "output_type": "execute_result"
    }
   ],
   "source": [
    "df['year']"
   ]
  },
  {
   "cell_type": "code",
   "execution_count": 12,
   "id": "215bcf3a",
   "metadata": {},
   "outputs": [],
   "source": [
    "scaler = StandardScaler()"
   ]
  },
  {
   "cell_type": "markdown",
   "id": "34ed2a34",
   "metadata": {},
   "source": [
    "#### Standardize columns of differing data types"
   ]
  },
  {
   "cell_type": "code",
   "execution_count": 14,
   "id": "69064886",
   "metadata": {
    "scrolled": true
   },
   "outputs": [
    {
     "name": "stdout",
     "output_type": "stream",
     "text": [
      "year\n"
     ]
    },
    {
     "ename": "AttributeError",
     "evalue": "'tuple' object has no attribute 'head'",
     "output_type": "error",
     "traceback": [
      "\u001b[1;31m---------------------------------------------------------------------------\u001b[0m",
      "\u001b[1;31mAttributeError\u001b[0m                            Traceback (most recent call last)",
      "\u001b[1;32m~\\AppData\\Local\\Temp\\ipykernel_12304\\2064411465.py\u001b[0m in \u001b[0;36m<module>\u001b[1;34m\u001b[0m\n\u001b[0;32m      1\u001b[0m \u001b[0mdf\u001b[0m \u001b[1;33m=\u001b[0m \u001b[0mconvertColumnsToNumericalAndStandardize\u001b[0m\u001b[1;33m(\u001b[0m\u001b[0mdf\u001b[0m\u001b[1;33m)\u001b[0m\u001b[1;33m\u001b[0m\u001b[1;33m\u001b[0m\u001b[0m\n\u001b[1;32m----> 2\u001b[1;33m \u001b[0mdf\u001b[0m\u001b[1;33m.\u001b[0m\u001b[0mhead\u001b[0m\u001b[1;33m(\u001b[0m\u001b[1;33m)\u001b[0m\u001b[1;33m\u001b[0m\u001b[1;33m\u001b[0m\u001b[0m\n\u001b[0m",
      "\u001b[1;31mAttributeError\u001b[0m: 'tuple' object has no attribute 'head'"
     ]
    }
   ],
   "source": [
    "df = convertColumnsToNumericalAndStandardize(df)"
   ]
  },
  {
   "cell_type": "code",
   "execution_count": null,
   "id": "23568a44",
   "metadata": {},
   "outputs": [],
   "source": []
  },
  {
   "cell_type": "markdown",
   "id": "a50ff1d4",
   "metadata": {},
   "source": [
    "#### Run algorithm"
   ]
  },
  {
   "cell_type": "code",
   "execution_count": null,
   "id": "145cdb20",
   "metadata": {
    "scrolled": true
   },
   "outputs": [],
   "source": [
    "# X_train, X_test, Y_train, Y_test = train_test_split(df.to_numpy(), price_col.to_numpy(), test_size=0.2)\n",
    "\n",
    "# predictPrice(X_train, X_test, Y_train, Y_test)\n",
    "\n",
    "#LinReg Result"
   ]
  },
  {
   "cell_type": "code",
   "execution_count": null,
   "id": "4e8ec50a",
   "metadata": {},
   "outputs": [],
   "source": [
    "# X_train, X_test, Y_train, Y_test = train_test_split(df.to_numpy(), price_col.to_numpy(), test_size=0.2)\n",
    "\n",
    "# predictPrice(X_train, X_test, Y_train, Y_test)\n",
    "\n",
    "# #SVR Result"
   ]
  },
  {
   "cell_type": "code",
   "execution_count": 16,
   "id": "30a8f7ab",
   "metadata": {},
   "outputs": [
    {
     "ename": "AttributeError",
     "evalue": "'tuple' object has no attribute 'to_numpy'",
     "output_type": "error",
     "traceback": [
      "\u001b[1;31m---------------------------------------------------------------------------\u001b[0m",
      "\u001b[1;31mAttributeError\u001b[0m                            Traceback (most recent call last)",
      "\u001b[1;32m~\\AppData\\Local\\Temp\\ipykernel_12304\\3183896285.py\u001b[0m in \u001b[0;36m<module>\u001b[1;34m\u001b[0m\n\u001b[1;32m----> 1\u001b[1;33m \u001b[0mX_train\u001b[0m\u001b[1;33m,\u001b[0m \u001b[0mX_test\u001b[0m\u001b[1;33m,\u001b[0m \u001b[0mY_train\u001b[0m\u001b[1;33m,\u001b[0m \u001b[0mY_test\u001b[0m \u001b[1;33m=\u001b[0m \u001b[0mtrain_test_split\u001b[0m\u001b[1;33m(\u001b[0m\u001b[0mdf\u001b[0m\u001b[1;33m.\u001b[0m\u001b[0mto_numpy\u001b[0m\u001b[1;33m(\u001b[0m\u001b[1;33m)\u001b[0m\u001b[1;33m,\u001b[0m \u001b[0mprice_col\u001b[0m\u001b[1;33m.\u001b[0m\u001b[0mto_numpy\u001b[0m\u001b[1;33m(\u001b[0m\u001b[1;33m)\u001b[0m\u001b[1;33m,\u001b[0m \u001b[0mtest_size\u001b[0m\u001b[1;33m=\u001b[0m\u001b[1;36m0.2\u001b[0m\u001b[1;33m)\u001b[0m\u001b[1;33m\u001b[0m\u001b[1;33m\u001b[0m\u001b[0m\n\u001b[0m",
      "\u001b[1;31mAttributeError\u001b[0m: 'tuple' object has no attribute 'to_numpy'"
     ]
    }
   ],
   "source": [
    "X_train, X_test, Y_train, Y_test = train_test_split(df.to_numpy(), price_col.to_numpy(), test_size=0.2)"
   ]
  },
  {
   "cell_type": "code",
   "execution_count": null,
   "id": "25b0023c",
   "metadata": {},
   "outputs": [],
   "source": [
    "# param_grid = {'alpha':[1.5,2,2.5,3,3.5,4,10,20,30,40,50,100], 'solver':['auto', 'svd']}"
   ]
  },
  {
   "cell_type": "code",
   "execution_count": null,
   "id": "ef472def",
   "metadata": {},
   "outputs": [],
   "source": [
    "grid =  GridSearchCV(predictPrice(X_train, X_test, Y_train, Y_test), param_grid)"
   ]
  },
  {
   "cell_type": "code",
   "execution_count": null,
   "id": "0d78764c",
   "metadata": {},
   "outputs": [],
   "source": [
    "# grid.fit(X_train, Y_train)"
   ]
  },
  {
   "cell_type": "code",
   "execution_count": null,
   "id": "0b660c10",
   "metadata": {},
   "outputs": [],
   "source": [
    "# print(grid.best_params_)\n",
    "# grid_predictions = grid.predict(X_test)"
   ]
  },
  {
   "cell_type": "code",
   "execution_count": null,
   "id": "5180c268",
   "metadata": {},
   "outputs": [],
   "source": [
    "predictPrice(X_train, X_test, Y_train, Y_test)"
   ]
  },
  {
   "cell_type": "code",
   "execution_count": null,
   "id": "7aee2b2e",
   "metadata": {},
   "outputs": [],
   "source": []
  }
 ],
 "metadata": {
  "kernelspec": {
   "display_name": "Python 3 (ipykernel)",
   "language": "python",
   "name": "python3"
  },
  "language_info": {
   "codemirror_mode": {
    "name": "ipython",
    "version": 3
   },
   "file_extension": ".py",
   "mimetype": "text/x-python",
   "name": "python",
   "nbconvert_exporter": "python",
   "pygments_lexer": "ipython3",
   "version": "3.9.13"
  }
 },
 "nbformat": 4,
 "nbformat_minor": 5
}
