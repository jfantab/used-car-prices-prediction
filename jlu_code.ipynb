{
 "cells": [
  {
   "cell_type": "markdown",
   "id": "71791404",
   "metadata": {},
   "source": [
    "## Sources:\n",
    "- https://github.com/krishnaik06/Advanced-House-Price-Prediction-"
   ]
  },
  {
   "cell_type": "code",
   "execution_count": 1,
   "id": "17819d83",
   "metadata": {},
   "outputs": [],
   "source": [
    "import time\n",
    "import numpy as np\n",
    "import pandas as pd\n",
    "import matplotlib.pyplot as plt\n",
    "from sklearn.preprocessing import StandardScaler, MinMaxScaler"
   ]
  },
  {
   "cell_type": "markdown",
   "id": "274b8de0",
   "metadata": {},
   "source": [
    "## Functions"
   ]
  },
  {
   "cell_type": "code",
   "execution_count": 2,
   "id": "81d0d309",
   "metadata": {},
   "outputs": [],
   "source": [
    "def convertBool(lst):\n",
    "    for index in range(len(lst)):\n",
    "        if pd.isnull(lst[index]) or not lst[index]:\n",
    "            lst[index] = 0\n",
    "        else:\n",
    "            lst[index] = 1\n",
    "\n",
    "    return lst"
   ]
  },
  {
   "cell_type": "code",
   "execution_count": 46,
   "id": "a2fbf9a0",
   "metadata": {},
   "outputs": [],
   "source": [
    "def findCorrelation(x_label, y_label):\n",
    "    # Rescale data \n",
    "    ss = StandardScaler()\n",
    "    ss2 = StandardScaler()\n",
    "\n",
    "    x = df[x_label].tolist()\n",
    "    m = np.mean(df[x_label].dropna().tolist())\n",
    "    x = np.array([m if pd.isnull(ele) else ele for ele in x])\n",
    "    y = np.array(df[y_label].tolist())\n",
    "    \n",
    "    print(np.corrcoef(x, y))\n",
    "\n",
    "    x = ss.fit_transform(x.reshape(-1,1))\n",
    "    y = ss2.fit_transform(y.reshape(-1,1))\n",
    "    \n",
    "    # Plot\n",
    "    plt.figure(figsize=(4,4))\n",
    "    plt.xlim([-30,20])\n",
    "    plt.xlabel(x_label)\n",
    "    plt.ylabel(y_label)\n",
    "    plt.scatter(x, y)"
   ]
  },
  {
   "cell_type": "markdown",
   "id": "fee25677",
   "metadata": {},
   "source": [
    "## Testing"
   ]
  },
  {
   "cell_type": "markdown",
   "id": "abe17eaf",
   "metadata": {},
   "source": [
    "### TODO\n",
    "\n",
    "- scale values\n",
    "    - mileage\n",
    "    - fuel_tank_volume\n",
    "    - etc.\n",
    "    \n",
    "- encode/bin categorical variables (encode using sklearn label encoder)\n",
    "    - exterior_color\n",
    "    - make_name\n",
    "    - model_name\n",
    "    - etc.\n",
    "\n",
    "- parse dates to just yrs?\n",
    "\n",
    "- check distributions of categorical variables"
   ]
  },
  {
   "cell_type": "markdown",
   "id": "a089e5d3",
   "metadata": {},
   "source": [
    "Possibly useful attributes:\n",
    "- body_type\n",
    "- days_on_market\n",
    "- body_type\n",
    "- engine_cylinders\n",
    "- engine_type\n",
    "- frame_damaged\n",
    "- fuel_type\n",
    "- has_accidents\n",
    "- horsepower\n",
    "- is_new\n",
    "- is_oemcpo\n",
    "- listed_date\n",
    "- mileage\n",
    "- make_name\n",
    "- model_name\n",
    "- fuel_tank_volume\n",
    "- owner_count\n",
    "- salvage\n",
    "- wheel_system\n",
    "- exterior_color\n",
    "- year"
   ]
  },
  {
   "cell_type": "markdown",
   "id": "a9353254",
   "metadata": {},
   "source": [
    "Reading in File"
   ]
  },
  {
   "cell_type": "code",
   "execution_count": 2,
   "id": "f528c844",
   "metadata": {},
   "outputs": [
    {
     "name": "stderr",
     "output_type": "stream",
     "text": [
      "/var/folders/kb/75nzr_1n56s5_rw0zrhwqhp00000gn/T/ipykernel_6554/4037307831.py:2: DtypeWarning: Columns (11) have mixed types. Specify dtype option on import or set low_memory=False.\n",
      "  df = pd.read_csv('used_cars_data.csv')\n"
     ]
    },
    {
     "name": "stdout",
     "output_type": "stream",
     "text": [
      "Time taken:  180.83740162849426\n"
     ]
    }
   ],
   "source": [
    "begin = time.time()\n",
    "df = pd.read_csv('used_cars_data.csv')\n",
    "end = time.time()\n",
    "\n",
    "print(\"Time taken: \", end - begin)"
   ]
  },
  {
   "cell_type": "code",
   "execution_count": 3,
   "id": "d13ab4da",
   "metadata": {
    "scrolled": true
   },
   "outputs": [
    {
     "data": {
      "text/html": [
       "<div>\n",
       "<style scoped>\n",
       "    .dataframe tbody tr th:only-of-type {\n",
       "        vertical-align: middle;\n",
       "    }\n",
       "\n",
       "    .dataframe tbody tr th {\n",
       "        vertical-align: top;\n",
       "    }\n",
       "\n",
       "    .dataframe thead th {\n",
       "        text-align: right;\n",
       "    }\n",
       "</style>\n",
       "<table border=\"1\" class=\"dataframe\">\n",
       "  <thead>\n",
       "    <tr style=\"text-align: right;\">\n",
       "      <th></th>\n",
       "      <th>vin</th>\n",
       "      <th>back_legroom</th>\n",
       "      <th>bed</th>\n",
       "      <th>bed_height</th>\n",
       "      <th>bed_length</th>\n",
       "      <th>body_type</th>\n",
       "      <th>cabin</th>\n",
       "      <th>city</th>\n",
       "      <th>city_fuel_economy</th>\n",
       "      <th>combine_fuel_economy</th>\n",
       "      <th>...</th>\n",
       "      <th>transmission</th>\n",
       "      <th>transmission_display</th>\n",
       "      <th>trimId</th>\n",
       "      <th>trim_name</th>\n",
       "      <th>vehicle_damage_category</th>\n",
       "      <th>wheel_system</th>\n",
       "      <th>wheel_system_display</th>\n",
       "      <th>wheelbase</th>\n",
       "      <th>width</th>\n",
       "      <th>year</th>\n",
       "    </tr>\n",
       "  </thead>\n",
       "  <tbody>\n",
       "    <tr>\n",
       "      <th>0</th>\n",
       "      <td>ZACNJABB5KPJ92081</td>\n",
       "      <td>35.1 in</td>\n",
       "      <td>NaN</td>\n",
       "      <td>NaN</td>\n",
       "      <td>NaN</td>\n",
       "      <td>SUV / Crossover</td>\n",
       "      <td>NaN</td>\n",
       "      <td>Bayamon</td>\n",
       "      <td>NaN</td>\n",
       "      <td>NaN</td>\n",
       "      <td>...</td>\n",
       "      <td>A</td>\n",
       "      <td>9-Speed Automatic Overdrive</td>\n",
       "      <td>t83804</td>\n",
       "      <td>Latitude FWD</td>\n",
       "      <td>NaN</td>\n",
       "      <td>FWD</td>\n",
       "      <td>Front-Wheel Drive</td>\n",
       "      <td>101.2 in</td>\n",
       "      <td>79.6 in</td>\n",
       "      <td>2019</td>\n",
       "    </tr>\n",
       "    <tr>\n",
       "      <th>1</th>\n",
       "      <td>SALCJ2FX1LH858117</td>\n",
       "      <td>38.1 in</td>\n",
       "      <td>NaN</td>\n",
       "      <td>NaN</td>\n",
       "      <td>NaN</td>\n",
       "      <td>SUV / Crossover</td>\n",
       "      <td>NaN</td>\n",
       "      <td>San Juan</td>\n",
       "      <td>NaN</td>\n",
       "      <td>NaN</td>\n",
       "      <td>...</td>\n",
       "      <td>A</td>\n",
       "      <td>9-Speed Automatic Overdrive</td>\n",
       "      <td>t86759</td>\n",
       "      <td>S AWD</td>\n",
       "      <td>NaN</td>\n",
       "      <td>AWD</td>\n",
       "      <td>All-Wheel Drive</td>\n",
       "      <td>107.9 in</td>\n",
       "      <td>85.6 in</td>\n",
       "      <td>2020</td>\n",
       "    </tr>\n",
       "    <tr>\n",
       "      <th>2</th>\n",
       "      <td>JF1VA2M67G9829723</td>\n",
       "      <td>35.4 in</td>\n",
       "      <td>NaN</td>\n",
       "      <td>NaN</td>\n",
       "      <td>NaN</td>\n",
       "      <td>Sedan</td>\n",
       "      <td>NaN</td>\n",
       "      <td>Guaynabo</td>\n",
       "      <td>17.0</td>\n",
       "      <td>NaN</td>\n",
       "      <td>...</td>\n",
       "      <td>M</td>\n",
       "      <td>6-Speed Manual</td>\n",
       "      <td>t58994</td>\n",
       "      <td>Base</td>\n",
       "      <td>NaN</td>\n",
       "      <td>AWD</td>\n",
       "      <td>All-Wheel Drive</td>\n",
       "      <td>104.3 in</td>\n",
       "      <td>78.9 in</td>\n",
       "      <td>2016</td>\n",
       "    </tr>\n",
       "    <tr>\n",
       "      <th>3</th>\n",
       "      <td>SALRR2RV0L2433391</td>\n",
       "      <td>37.6 in</td>\n",
       "      <td>NaN</td>\n",
       "      <td>NaN</td>\n",
       "      <td>NaN</td>\n",
       "      <td>SUV / Crossover</td>\n",
       "      <td>NaN</td>\n",
       "      <td>San Juan</td>\n",
       "      <td>NaN</td>\n",
       "      <td>NaN</td>\n",
       "      <td>...</td>\n",
       "      <td>A</td>\n",
       "      <td>8-Speed Automatic Overdrive</td>\n",
       "      <td>t86074</td>\n",
       "      <td>V6 HSE AWD</td>\n",
       "      <td>NaN</td>\n",
       "      <td>AWD</td>\n",
       "      <td>All-Wheel Drive</td>\n",
       "      <td>115 in</td>\n",
       "      <td>87.4 in</td>\n",
       "      <td>2020</td>\n",
       "    </tr>\n",
       "    <tr>\n",
       "      <th>4</th>\n",
       "      <td>SALCJ2FXXLH862327</td>\n",
       "      <td>38.1 in</td>\n",
       "      <td>NaN</td>\n",
       "      <td>NaN</td>\n",
       "      <td>NaN</td>\n",
       "      <td>SUV / Crossover</td>\n",
       "      <td>NaN</td>\n",
       "      <td>San Juan</td>\n",
       "      <td>NaN</td>\n",
       "      <td>NaN</td>\n",
       "      <td>...</td>\n",
       "      <td>A</td>\n",
       "      <td>9-Speed Automatic Overdrive</td>\n",
       "      <td>t86759</td>\n",
       "      <td>S AWD</td>\n",
       "      <td>NaN</td>\n",
       "      <td>AWD</td>\n",
       "      <td>All-Wheel Drive</td>\n",
       "      <td>107.9 in</td>\n",
       "      <td>85.6 in</td>\n",
       "      <td>2020</td>\n",
       "    </tr>\n",
       "  </tbody>\n",
       "</table>\n",
       "<p>5 rows × 66 columns</p>\n",
       "</div>"
      ],
      "text/plain": [
       "                 vin back_legroom  bed bed_height bed_length        body_type  \\\n",
       "0  ZACNJABB5KPJ92081      35.1 in  NaN        NaN        NaN  SUV / Crossover   \n",
       "1  SALCJ2FX1LH858117      38.1 in  NaN        NaN        NaN  SUV / Crossover   \n",
       "2  JF1VA2M67G9829723      35.4 in  NaN        NaN        NaN            Sedan   \n",
       "3  SALRR2RV0L2433391      37.6 in  NaN        NaN        NaN  SUV / Crossover   \n",
       "4  SALCJ2FXXLH862327      38.1 in  NaN        NaN        NaN  SUV / Crossover   \n",
       "\n",
       "  cabin      city  city_fuel_economy  combine_fuel_economy  ...  transmission  \\\n",
       "0   NaN   Bayamon                NaN                   NaN  ...             A   \n",
       "1   NaN  San Juan                NaN                   NaN  ...             A   \n",
       "2   NaN  Guaynabo               17.0                   NaN  ...             M   \n",
       "3   NaN  San Juan                NaN                   NaN  ...             A   \n",
       "4   NaN  San Juan                NaN                   NaN  ...             A   \n",
       "\n",
       "          transmission_display  trimId     trim_name  vehicle_damage_category  \\\n",
       "0  9-Speed Automatic Overdrive  t83804  Latitude FWD                      NaN   \n",
       "1  9-Speed Automatic Overdrive  t86759         S AWD                      NaN   \n",
       "2               6-Speed Manual  t58994          Base                      NaN   \n",
       "3  8-Speed Automatic Overdrive  t86074    V6 HSE AWD                      NaN   \n",
       "4  9-Speed Automatic Overdrive  t86759         S AWD                      NaN   \n",
       "\n",
       "  wheel_system wheel_system_display wheelbase    width  year  \n",
       "0          FWD    Front-Wheel Drive  101.2 in  79.6 in  2019  \n",
       "1          AWD      All-Wheel Drive  107.9 in  85.6 in  2020  \n",
       "2          AWD      All-Wheel Drive  104.3 in  78.9 in  2016  \n",
       "3          AWD      All-Wheel Drive    115 in  87.4 in  2020  \n",
       "4          AWD      All-Wheel Drive  107.9 in  85.6 in  2020  \n",
       "\n",
       "[5 rows x 66 columns]"
      ]
     },
     "execution_count": 3,
     "metadata": {},
     "output_type": "execute_result"
    }
   ],
   "source": [
    "df.head()"
   ]
  },
  {
   "cell_type": "markdown",
   "id": "09b998cc",
   "metadata": {},
   "source": [
    "Preprocessing"
   ]
  },
  {
   "cell_type": "code",
   "execution_count": 51,
   "id": "2ad35763",
   "metadata": {
    "scrolled": true
   },
   "outputs": [],
   "source": [
    "# Remove rows with duplicate vehicle id numbers\n",
    "\n",
    "df = df.drop_duplicates(subset=[\"vin\"])"
   ]
  },
  {
   "cell_type": "code",
   "execution_count": 7,
   "id": "553a6852",
   "metadata": {},
   "outputs": [],
   "source": [
    "# Convert columns to 0's or 1's\n",
    "\n",
    "has_acc = df[\"has_accidents\"].tolist()\n",
    "salvage = df[\"salvage\"].tolist()\n",
    "\n",
    "_ = convertBool(salvage)\n",
    "_ = convertBool(has_acc)"
   ]
  },
  {
   "cell_type": "code",
   "execution_count": 8,
   "id": "dfb556cb",
   "metadata": {
    "scrolled": false
   },
   "outputs": [
    {
     "data": {
      "image/png": "[encoded data removed]",
      "text/plain": [
       "<Figure size 300x300 with 1 Axes>"
      ]
     },
     "metadata": {},
     "output_type": "display_data"
    }
   ],
   "source": [
    "# Modify yr column\n",
    "\n",
    "startYear = 1960\n",
    "endYear = 2010\n",
    "\n",
    "# Preprocess years\n",
    "yrs = df[\"year\"].tolist()\n",
    "yrs = list(filter(lambda x: x < 2010, yrs))\n",
    "yrs = list(map(lambda x: x - startYear, yrs))\n",
    "yrs = list(filter(lambda x: x > 0, yrs))\n",
    "\n",
    "# Plot\n",
    "plt.figure(figsize=(3,3))\n",
    "plt.hist(yrs);"
   ]
  },
  {
   "cell_type": "code",
   "execution_count": 10,
   "id": "a2ed57b5",
   "metadata": {
    "scrolled": false
   },
   "outputs": [],
   "source": [
    "# Printing out shapes of dataframe with increasing percentage thresholds of non-NaN values\n",
    "\n",
    "# for i in range(1, 11):\n",
    "#     percent = 0.1 * i\n",
    "#     thresh = int(df.shape[0] * percent)\n",
    "#     df_ = df.dropna(axis=1, thresh=thresh)\n",
    "#     print(df_.shape)"
   ]
  },
  {
   "cell_type": "markdown",
   "id": "6040ea0c",
   "metadata": {},
   "source": [
    "Data Exploration"
   ]
  },
  {
   "cell_type": "code",
   "execution_count": 52,
   "id": "9222aae2",
   "metadata": {},
   "outputs": [
    {
     "name": "stdout",
     "output_type": "stream",
     "text": [
      "[[1.         0.56760544]\n",
      " [0.56760544 1.        ]]\n"
     ]
    },
    {
     "data": {
      "image/png": "[encoded data removed]",
      "text/plain": [
       "<Figure size 400x400 with 1 Axes>"
      ]
     },
     "metadata": {},
     "output_type": "display_data"
    }
   ],
   "source": [
    "findCorrelation(\"horsepower\", \"price\")"
   ]
  },
  {
   "cell_type": "code",
   "execution_count": 53,
   "id": "101e89d0",
   "metadata": {},
   "outputs": [
    {
     "name": "stdout",
     "output_type": "stream",
     "text": [
      "[[ 1.         -0.26712504]\n",
      " [-0.26712504  1.        ]]\n"
     ]
    },
    {
     "data": {
      "image/png": "[encoded data removed]",
      "text/plain": [
       "<Figure size 400x400 with 1 Axes>"
      ]
     },
     "metadata": {},
     "output_type": "display_data"
    }
   ],
   "source": [
    "findCorrelation(\"mileage\", \"price\")"
   ]
  },
  {
   "cell_type": "code",
   "execution_count": 54,
   "id": "01486c50",
   "metadata": {},
   "outputs": [
    {
     "name": "stdout",
     "output_type": "stream",
     "text": [
      "[[1.         0.06328947]\n",
      " [0.06328947 1.        ]]\n"
     ]
    },
    {
     "data": {
      "image/png": "[encoded data removed]",
      "text/plain": [
       "<Figure size 400x400 with 1 Axes>"
      ]
     },
     "metadata": {},
     "output_type": "display_data"
    }
   ],
   "source": [
    "findCorrelation(\"daysonmarket\", \"price\")"
   ]
  },
  {
   "cell_type": "code",
   "execution_count": 55,
   "id": "20d89702",
   "metadata": {
    "scrolled": false
   },
   "outputs": [
    {
     "name": "stdout",
     "output_type": "stream",
     "text": [
      "[[1.         0.35536439]\n",
      " [0.35536439 1.        ]]\n"
     ]
    },
    {
     "data": {
      "image/png": "[encoded data removed]",
      "text/plain": [
       "<Figure size 400x400 with 1 Axes>"
      ]
     },
     "metadata": {},
     "output_type": "display_data"
    }
   ],
   "source": [
    "findCorrelation(\"year\", \"price\")"
   ]
  },
  {
   "cell_type": "code",
   "execution_count": 56,
   "id": "275fd4d5",
   "metadata": {},
   "outputs": [
    {
     "name": "stdout",
     "output_type": "stream",
     "text": [
      "[[1.         0.35204962]\n",
      " [0.35204962 1.        ]]\n"
     ]
    },
    {
     "data": {
      "image/png": "[encoded data removed]",
      "text/plain": [
       "<Figure size 400x400 with 1 Axes>"
      ]
     },
     "metadata": {},
     "output_type": "display_data"
    }
   ],
   "source": [
    "findCorrelation(\"engine_displacement\", \"price\")"
   ]
  },
  {
   "cell_type": "code",
   "execution_count": 50,
   "id": "cedd57d4",
   "metadata": {
    "scrolled": false
   },
   "outputs": [
    {
     "data": {
      "image/png": "[encoded data removed]",
      "text/plain": [
       "<Figure size 500x400 with 1 Axes>"
      ]
     },
     "metadata": {},
     "output_type": "display_data"
    }
   ],
   "source": [
    "# Exploring range of prices in bins of 1000\n",
    "\n",
    "plt.figure(figsize=(5,4))\n",
    "plt.xlim(0,125000)\n",
    "plt.hist(df[\"price\"], bins=1000);"
   ]
  },
  {
   "cell_type": "code",
   "execution_count": 97,
   "id": "604c22ec",
   "metadata": {
    "scrolled": false
   },
   "outputs": [
    {
     "data": {
      "image/png": "[encoded data removed]",
      "text/plain": [
       "<Figure size 300x300 with 1 Axes>"
      ]
     },
     "metadata": {},
     "output_type": "display_data"
    }
   ],
   "source": [
    "#Exploring owner count feature\n",
    "\n",
    "plt.figure(figsize=(3,3))\n",
    "plt.xlim([0,10])\n",
    "plt.hist(df[\"owner_count\"], 6);"
   ]
  },
  {
   "cell_type": "code",
   "execution_count": 79,
   "id": "a2ee61ab",
   "metadata": {
    "scrolled": true
   },
   "outputs": [
    {
     "data": {
      "text/plain": [
       "{'AM General',\n",
       " 'AMC',\n",
       " 'Acura',\n",
       " 'Alfa Romeo',\n",
       " 'Allard',\n",
       " 'Ariel',\n",
       " 'Aston Martin',\n",
       " 'Audi',\n",
       " 'Austin',\n",
       " 'Austin-Healey',\n",
       " 'BMW',\n",
       " 'Bentley',\n",
       " 'Bricklin',\n",
       " 'Bugatti',\n",
       " 'Buick',\n",
       " 'Cadillac',\n",
       " 'Chevrolet',\n",
       " 'Chrysler',\n",
       " 'Clenet',\n",
       " 'Daewoo',\n",
       " 'Datsun',\n",
       " 'DeLorean',\n",
       " 'DeSoto',\n",
       " 'DeTomaso',\n",
       " 'Dodge',\n",
       " 'Eagle',\n",
       " 'Edsel',\n",
       " 'FIAT',\n",
       " 'Ferrari',\n",
       " 'Fisker',\n",
       " 'Ford',\n",
       " 'Franklin',\n",
       " 'Freightliner',\n",
       " 'GMC',\n",
       " 'Genesis',\n",
       " 'Geo',\n",
       " 'Hillman',\n",
       " 'Honda',\n",
       " 'Hudson',\n",
       " 'Humber',\n",
       " 'Hummer',\n",
       " 'Hyundai',\n",
       " 'INFINITI',\n",
       " 'International Harvester',\n",
       " 'Isuzu',\n",
       " 'Jaguar',\n",
       " 'Jeep',\n",
       " 'Jensen',\n",
       " 'Kaiser',\n",
       " 'Karma',\n",
       " 'Kia',\n",
       " 'Koenigsegg',\n",
       " 'Lamborghini',\n",
       " 'Land Rover',\n",
       " 'Lexus',\n",
       " 'Lincoln',\n",
       " 'Lotus',\n",
       " 'MG',\n",
       " 'MINI',\n",
       " 'Maserati',\n",
       " 'Maybach',\n",
       " 'Mazda',\n",
       " 'McLaren',\n",
       " 'Mercedes-Benz',\n",
       " 'Mercury',\n",
       " 'Mitsubishi',\n",
       " 'Mobility Ventures',\n",
       " 'Morris',\n",
       " 'Nash',\n",
       " 'Nissan',\n",
       " 'Oldsmobile',\n",
       " 'Opel',\n",
       " 'Packard',\n",
       " 'Pagani',\n",
       " 'Pininfarina',\n",
       " 'Plymouth',\n",
       " 'Pontiac',\n",
       " 'Porsche',\n",
       " 'RAM',\n",
       " 'Rolls-Royce',\n",
       " 'Rover',\n",
       " 'SRT',\n",
       " 'Saab',\n",
       " 'Saleen',\n",
       " 'Saturn',\n",
       " 'Scion',\n",
       " 'Shelby',\n",
       " 'Spyker',\n",
       " 'Studebaker',\n",
       " 'Subaru',\n",
       " 'Sunbeam',\n",
       " 'Suzuki',\n",
       " 'Tesla',\n",
       " 'Toyota',\n",
       " 'Triumph',\n",
       " 'VPG',\n",
       " 'Volkswagen',\n",
       " 'Volvo',\n",
       " 'Willys',\n",
       " 'smart'}"
      ]
     },
     "execution_count": 79,
     "metadata": {},
     "output_type": "execute_result"
    }
   ],
   "source": [
    "# Explore make name\n",
    "\n",
    "set(df[\"make_name\"].tolist())"
   ]
  },
  {
   "cell_type": "code",
   "execution_count": 112,
   "id": "dcaf2e72",
   "metadata": {},
   "outputs": [
    {
     "data": {
      "text/plain": [
       "(array([2.598436e+06, 4.445200e+04, 2.585500e+04, 0.000000e+00,\n",
       "        1.559930e+05, 1.641600e+04, 0.000000e+00, 7.601200e+04,\n",
       "        1.460000e+02, 6.000000e+00]),\n",
       " array([0. , 0.7, 1.4, 2.1, 2.8, 3.5, 4.2, 4.9, 5.6, 6.3, 7. ]),\n",
       " <BarContainer object of 10 artists>)"
      ]
     },
     "execution_count": 112,
     "metadata": {},
     "output_type": "execute_result"
    },
    {
     "data": {
      "image/png": "[encoded data removed]",
      "text/plain": [
       "<Figure size 500x500 with 1 Axes>"
      ]
     },
     "metadata": {},
     "output_type": "display_data"
    }
   ],
   "source": [
    "# Explore fuel type\n",
    "\n",
    "fuel_type = df[\"fuel_type\"].tolist()\n",
    "fuel_type = list(filter(lambda x: not pd.isnull(x) ,fuel_type))\n",
    "\n",
    "plt.figure(figsize=(5,5))\n",
    "plt.hist(fuel_type, align='mid', orientation='horizontal')"
   ]
  },
  {
   "cell_type": "code",
   "execution_count": 21,
   "id": "e44e38de",
   "metadata": {
    "scrolled": true
   },
   "outputs": [
    {
     "name": "stdout",
     "output_type": "stream",
     "text": [
      "vin   <class 'str'>\n",
      "back_legroom   <class 'str'>\n",
      "bed   <class 'str'>\n",
      "bed_height   <class 'str'>\n",
      "bed_length   <class 'str'>\n",
      "body_type   <class 'str'>\n",
      "cabin   <class 'str'>\n",
      "city   <class 'str'>\n",
      "city_fuel_economy   <class 'numpy.float64'>\n",
      "daysonmarket   <class 'numpy.int64'>\n",
      "dealer_zip   <class 'int'>\n",
      "description   <class 'str'>\n",
      "engine_cylinders   <class 'str'>\n",
      "engine_displacement   <class 'numpy.float64'>\n",
      "engine_type   <class 'str'>\n",
      "exterior_color   <class 'str'>\n",
      "fleet   <class 'bool'>\n",
      "frame_damaged   <class 'bool'>\n",
      "franchise_dealer   <class 'numpy.bool_'>\n",
      "franchise_make   <class 'str'>\n",
      "front_legroom   <class 'str'>\n",
      "fuel_tank_volume   <class 'str'>\n",
      "fuel_type   <class 'str'>\n",
      "has_accidents   <class 'bool'>\n",
      "height   <class 'str'>\n",
      "highway_fuel_economy   <class 'numpy.float64'>\n",
      "horsepower   <class 'numpy.float64'>\n",
      "interior_color   <class 'str'>\n",
      "isCab   <class 'bool'>\n",
      "is_cpo   <class 'bool'>\n",
      "is_new   <class 'numpy.bool_'>\n",
      "is_oemcpo   <class 'bool'>\n",
      "latitude   <class 'numpy.float64'>\n",
      "length   <class 'str'>\n",
      "listed_date   <class 'str'>\n",
      "listing_color   <class 'str'>\n",
      "listing_id   <class 'numpy.int64'>\n",
      "longitude   <class 'numpy.float64'>\n",
      "main_picture_url   <class 'str'>\n",
      "major_options   <class 'str'>\n",
      "make_name   <class 'str'>\n",
      "maximum_seating   <class 'str'>\n",
      "mileage   <class 'numpy.float64'>\n",
      "model_name   <class 'str'>\n",
      "owner_count   <class 'numpy.float64'>\n",
      "power   <class 'str'>\n",
      "price   <class 'numpy.float64'>\n",
      "salvage   <class 'bool'>\n",
      "savings_amount   <class 'numpy.int64'>\n",
      "seller_rating   <class 'numpy.float64'>\n",
      "sp_id   <class 'numpy.float64'>\n",
      "sp_name   <class 'str'>\n",
      "theft_title   <class 'bool'>\n",
      "torque   <class 'str'>\n",
      "transmission   <class 'str'>\n",
      "transmission_display   <class 'str'>\n",
      "trimId   <class 'str'>\n",
      "trim_name   <class 'str'>\n",
      "wheel_system   <class 'str'>\n",
      "wheel_system_display   <class 'str'>\n",
      "wheelbase   <class 'str'>\n",
      "width   <class 'str'>\n",
      "year   <class 'numpy.int64'>\n"
     ]
    }
   ],
   "source": [
    "# Printing out data types of each column\n",
    "\n",
    "col_dtypes = dict()\n",
    "for col in df.columns:\n",
    "    cur_col = df[col]\n",
    "    \n",
    "    for i in range(len(cur_col)):\n",
    "        if not pd.isnull(cur_col[i]):\n",
    "            col_dtypes[col] = type(cur_col[i])\n",
    "            break\n",
    "\n",
    "for key in col_dtypes.keys():\n",
    "    print(key, \" \", str(col_dtypes[key]))"
   ]
  },
  {
   "cell_type": "code",
   "execution_count": null,
   "id": "5c3a48d3",
   "metadata": {},
   "outputs": [],
   "source": []
  }
 ],
 "metadata": {
  "kernelspec": {
   "display_name": "Python 3 (ipykernel)",
   "language": "python",
   "name": "python3"
  },
  "language_info": {
   "codemirror_mode": {
    "name": "ipython",
    "version": 3
   },
   "file_extension": ".py",
   "mimetype": "text/x-python",
   "name": "python",
   "nbconvert_exporter": "python",
   "pygments_lexer": "ipython3",
   "version": "3.9.13"
  }
 },
 "nbformat": 4,
 "nbformat_minor": 5
}
